{
 "cells": [
  {
   "cell_type": "markdown",
   "metadata": {},
   "source": []
  },
  {
   "cell_type": "code",
   "execution_count": null,
   "metadata": {},
   "outputs": [],
   "source": []
  },
  {
   "cell_type": "code",
   "execution_count": 1,
   "metadata": {},
   "outputs": [
    {
     "name": "stdout",
     "output_type": "stream",
     "text": [
      "hello\n"
     ]
    }
   ],
   "source": [
    "print(\"hello\")"
   ]
  },
  {
   "cell_type": "code",
   "execution_count": 4,
   "metadata": {},
   "outputs": [
    {
     "ename": "SyntaxError",
     "evalue": "invalid syntax (<ipython-input-4-d03ef665b263>, line 2)",
     "output_type": "error",
     "traceback": [
      "\u001b[1;36m  File \u001b[1;32m\"<ipython-input-4-d03ef665b263>\"\u001b[1;36m, line \u001b[1;32m2\u001b[0m\n\u001b[1;33m    1.python\u001b[0m\n\u001b[1;37m           ^\u001b[0m\n\u001b[1;31mSyntaxError\u001b[0m\u001b[1;31m:\u001b[0m invalid syntax\n"
     ]
    }
   ],
   "source": [
    "#list of programming languages:(ordered list)\n",
    "1.python\n",
    "2.java\n",
    "3.c\n",
    "4.c++\n",
    "5. .net"
   ]
  },
  {
   "cell_type": "markdown",
   "metadata": {},
   "source": [
    "**python programming**\n",
    "*python programming*"
   ]
  },
  {
   "cell_type": "code",
   "execution_count": null,
   "metadata": {},
   "outputs": [],
   "source": []
  },
  {
   "cell_type": "markdown",
   "metadata": {},
   "source": [
    "[click here] (https://app.slack.com/client/T014W6SC4HE/G0146T8U319)"
   ]
  },
  {
   "cell_type": "markdown",
   "metadata": {},
   "source": [
    "![image](data:image/jpeg;base64,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)"
   ]
  },
  {
   "cell_type": "markdown",
   "metadata": {},
   "source": [
    "[click](https://app.slack.com/client/T014W6SC4HE/G0146T8U319)"
   ]
  },
  {
   "cell_type": "markdown",
   "metadata": {},
   "source": [
    "<img src=\" data:image/jpeg;base64,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\" width=\"200\" height=\"200\">"
   ]
  },
  {
   "cell_type": "code",
   "execution_count": 5,
   "metadata": {},
   "outputs": [
    {
     "name": "stdout",
     "output_type": "stream",
     "text": [
      "<class 'int'> <class 'float'> <class 'complex'>\n"
     ]
    }
   ],
   "source": [
    "a=10 #integer\n",
    "b=32.15 #float\n",
    "c=3+5j #complex number\n",
    "\n",
    "\n",
    "print(type(a),type(b),type(c))"
   ]
  },
  {
   "cell_type": "code",
   "execution_count": null,
   "metadata": {},
   "outputs": [],
   "source": [
    "c1=complex(2,6)\n",
    "c2=5+3j\n",
    "print(c1+c2)\n",
    "\n",
    "print(c2.real)\n",
    "\n"
   ]
  },
  {
   "cell_type": "code",
   "execution_count": 7,
   "metadata": {},
   "outputs": [
    {
     "name": "stdout",
     "output_type": "stream",
     "text": [
      "enter value of a10\n",
      "enter value of b20\n",
      "30 -10,200,0.5\n"
     ]
    }
   ],
   "source": [
    "a=int(input(\"enter value of a\"))\n",
    "b=int(input(\"enter value of b\"))\n",
    "print(a+b,end=\" \")\n",
    "print(a-b,a*b,a/b,sep=\",\")"
   ]
  },
  {
   "cell_type": "code",
   "execution_count": 8,
   "metadata": {},
   "outputs": [
    {
     "name": "stdout",
     "output_type": "stream",
     "text": [
      "enter a value3\n",
      "enter b value2\n",
      "5\n",
      "1\n",
      "6\n",
      "1.5\n",
      "1\n",
      "1\n",
      "9\n"
     ]
    }
   ],
   "source": [
    "a=int(input(\"enter a value\"))\n",
    "b=int(input(\"enter b value\"))\n",
    "print(a + b)\n",
    "print(a - b)\n",
    "print(a * b)\n",
    "print(a / b)\n",
    "print(a % b)\n",
    "print(a // b)\n",
    "print(a ** b)"
   ]
  },
  {
   "cell_type": "code",
   "execution_count": null,
   "metadata": {},
   "outputs": [],
   "source": [
    "a=int(input(\"enter a value\"))\n",
    "b=int(input(\"enter b value\"))\n",
    "print(a + b)\n",
    "print(a - b)\n",
    "print(a * b)\n",
    "print(a / b)\n",
    "print(a % b)\n",
    "print(a // b)\n",
    "print(a ** b)\n"
   ]
  },
  {
   "cell_type": "code",
   "execution_count": 9,
   "metadata": {},
   "outputs": [
    {
     "name": "stdout",
     "output_type": "stream",
     "text": [
      "enter a value2\n",
      "enter b value5\n",
      "7\n",
      "-3\n",
      "10\n",
      "0.4\n",
      "2\n",
      "0\n",
      "32\n"
     ]
    }
   ],
   "source": [
    "a=int(input(\"enter a value\"))\n",
    "b=int(input(\"enter b value\"))\n",
    "print(a + b)\n",
    "print(a - b)\n",
    "print(a * b)\n",
    "print(a / b)\n",
    "print(a % b)\n",
    "print(a // b)\n",
    "print(a ** b)"
   ]
  },
  {
   "cell_type": "code",
   "execution_count": null,
   "metadata": {},
   "outputs": [],
   "source": []
  },
  {
   "cell_type": "code",
   "execution_count": 10,
   "metadata": {},
   "outputs": [
    {
     "name": "stdout",
     "output_type": "stream",
     "text": [
      "enter a value2\n",
      "enter b value5\n",
      "True\n",
      "False\n",
      "True\n",
      "False\n",
      "False\n",
      "True\n"
     ]
    }
   ],
   "source": [
    "a=int(input(\"enter a value\"))\n",
    "b=int(input(\"enter b value\"))\n",
    "print(a < b)\n",
    "print(a > b)\n",
    "print(a <= b)\n",
    "print(a >= b)\n",
    "print(a == b)\n",
    "print(a != b)\n"
   ]
  },
  {
   "cell_type": "code",
   "execution_count": 11,
   "metadata": {},
   "outputs": [
    {
     "name": "stdout",
     "output_type": "stream",
     "text": [
      "a is less than b\n"
     ]
    }
   ],
   "source": [
    "if a < b:\n",
    "    print(\"a is less than b\")\n",
    "elif a > b:\n",
    "    print(\"a is greater than b\")\n",
    "else:\n",
    "    print(\"a is equal to b\")"
   ]
  },
  {
   "cell_type": "code",
   "execution_count": 12,
   "metadata": {},
   "outputs": [
    {
     "name": "stdout",
     "output_type": "stream",
     "text": [
      "enter a value10\n",
      "enter b value2\n",
      "enter c value78\n",
      "largest is c: 78\n"
     ]
    }
   ],
   "source": [
    "a = int(input(\"enter a value\"))\n",
    "b = int(input(\"enter b value\"))\n",
    "c = int(input(\"enter c value\"))\n",
    "if a > b and a > c:\n",
    "    print(\"largest number is a:\",a)\n",
    "elif b>c:\n",
    "    print(\"largest number is b:\",b)\n",
    "else:\n",
    "    print(\"largest is c:\",c)"
   ]
  },
  {
   "cell_type": "code",
   "execution_count": 13,
   "metadata": {},
   "outputs": [
    {
     "name": "stdout",
     "output_type": "stream",
     "text": [
      "enter n value5\n",
      "12345"
     ]
    }
   ],
   "source": [
    "n=int(input(\"enter n value\"))\n",
    "i=1\n",
    "while i<=n:\n",
    "    print(i,end=\"\")\n",
    "    i += 1"
   ]
  },
  {
   "cell_type": "code",
   "execution_count": null,
   "metadata": {},
   "outputs": [],
   "source": []
  }
 ],
 "metadata": {
  "kernelspec": {
   "display_name": "Python 3",
   "language": "python",
   "name": "python3"
  },
  "language_info": {
   "codemirror_mode": {
    "name": "ipython",
    "version": 3
   },
   "file_extension": ".py",
   "mimetype": "text/x-python",
   "name": "python",
   "nbconvert_exporter": "python",
   "pygments_lexer": "ipython3",
   "version": "3.7.6"
  }
 },
 "nbformat": 4,
 "nbformat_minor": 4
}
