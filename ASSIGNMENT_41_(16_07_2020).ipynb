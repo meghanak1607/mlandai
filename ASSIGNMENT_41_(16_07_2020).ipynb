{
  "nbformat": 4,
  "nbformat_minor": 0,
  "metadata": {
    "colab": {
      "name": "ASSIGNMENT 41 (16.07.2020)",
      "provenance": []
    },
    "kernelspec": {
      "name": "python3",
      "display_name": "Python 3"
    }
  },
  "cells": [
    {
      "cell_type": "markdown",
      "metadata": {
        "id": "z1AhG_LdZ93i",
        "colab_type": "text"
      },
      "source": [
        "### Get the data\n",
        "### what is the target\n",
        "### Take the target and observe downtrend or uptrend\n",
        "### Create input(features) and ouputs(target)\n",
        "### Train_test_split\n",
        "### Reshape the inputs\n",
        "### Create a Model\n",
        "### Compile the model with the proper optimizer and loss\n",
        "### Evaluate the model with test data\n",
        "\n"
      ]
    },
    {
      "cell_type": "code",
      "metadata": {
        "id": "wXS4xRng7ZXx",
        "colab_type": "code",
        "colab": {
          "base_uri": "https://localhost:8080/",
          "height": 139
        },
        "outputId": "45632435-dc83-4522-e051-ac4f1e984339"
      },
      "source": [
        "from google.colab import drive\n",
        "drive.mount('/gdrive')\n",
        "%cd /gdrive"
      ],
      "execution_count": 1,
      "outputs": [
        {
          "output_type": "stream",
          "text": [
            "Go to this URL in a browser: https://accounts.google.com/o/oauth2/auth?client_id=947318989803-6bn6qk8qdgf4n4g3pfee6491hc0brc4i.apps.googleusercontent.com&redirect_uri=urn%3aietf%3awg%3aoauth%3a2.0%3aoob&response_type=code&scope=email%20https%3a%2f%2fwww.googleapis.com%2fauth%2fdocs.test%20https%3a%2f%2fwww.googleapis.com%2fauth%2fdrive%20https%3a%2f%2fwww.googleapis.com%2fauth%2fdrive.photos.readonly%20https%3a%2f%2fwww.googleapis.com%2fauth%2fpeopleapi.readonly\n",
            "\n",
            "Enter your authorization code:\n",
            "··········\n",
            "Mounted at /gdrive\n",
            "/gdrive\n"
          ],
          "name": "stdout"
        }
      ]
    },
    {
      "cell_type": "code",
      "metadata": {
        "id": "0zv41pAp7-vS",
        "colab_type": "code",
        "colab": {
          "base_uri": "https://localhost:8080/",
          "height": 119
        },
        "outputId": "4b913bb3-b494-4832-95db-b98501bcc4c2"
      },
      "source": [
        "!ls 'My Drive/SUMMER INTERNSHIP'"
      ],
      "execution_count": 2,
      "outputs": [
        {
          "output_type": "stream",
          "text": [
            "'10-7-2020 , 11-7-2020.ipynb'  'assignment37 (9-7-2020).ipynb'\n",
            " 14-7-2020\t\t       'assignment38(10-7-2020)'\n",
            " 15-7-2020.ipynb\t       'assignment39(11-7-2020)'\n",
            " 20-06-2020.ipynb\t        titanic.csv\n",
            " 9-7-2020.ipynb\t\t        Untitled0.ipynb\n",
            " all_stocks_5yr.csv\n"
          ],
          "name": "stdout"
        }
      ]
    },
    {
      "cell_type": "code",
      "metadata": {
        "id": "sgiRydfk8KzO",
        "colab_type": "code",
        "colab": {
          "base_uri": "https://localhost:8080/",
          "height": 34
        },
        "outputId": "912ad638-acb4-4f0a-9ed4-2e3159a5fec7"
      },
      "source": [
        "#all_stocks_5yr.csv\n",
        "import pandas as pd\n",
        "data = pd.read_csv('My Drive/SUMMER INTERNSHIP/all_stocks_5yr.csv')\n",
        "data.shape"
      ],
      "execution_count": 4,
      "outputs": [
        {
          "output_type": "execute_result",
          "data": {
            "text/plain": [
              "(619040, 7)"
            ]
          },
          "metadata": {
            "tags": []
          },
          "execution_count": 4
        }
      ]
    },
    {
      "cell_type": "code",
      "metadata": {
        "id": "mO2HVsdg8_uO",
        "colab_type": "code",
        "colab": {
          "base_uri": "https://localhost:8080/",
          "height": 204
        },
        "outputId": "0b521946-680e-4bb9-83a6-f8ebc0d20c38"
      },
      "source": [
        "# Top Five rows\n",
        "data.head()"
      ],
      "execution_count": 5,
      "outputs": [
        {
          "output_type": "execute_result",
          "data": {
            "text/html": [
              "<div>\n",
              "<style scoped>\n",
              "    .dataframe tbody tr th:only-of-type {\n",
              "        vertical-align: middle;\n",
              "    }\n",
              "\n",
              "    .dataframe tbody tr th {\n",
              "        vertical-align: top;\n",
              "    }\n",
              "\n",
              "    .dataframe thead th {\n",
              "        text-align: right;\n",
              "    }\n",
              "</style>\n",
              "<table border=\"1\" class=\"dataframe\">\n",
              "  <thead>\n",
              "    <tr style=\"text-align: right;\">\n",
              "      <th></th>\n",
              "      <th>date</th>\n",
              "      <th>open</th>\n",
              "      <th>high</th>\n",
              "      <th>low</th>\n",
              "      <th>close</th>\n",
              "      <th>volume</th>\n",
              "      <th>Name</th>\n",
              "    </tr>\n",
              "  </thead>\n",
              "  <tbody>\n",
              "    <tr>\n",
              "      <th>0</th>\n",
              "      <td>2013-02-08</td>\n",
              "      <td>15.07</td>\n",
              "      <td>15.12</td>\n",
              "      <td>14.63</td>\n",
              "      <td>14.75</td>\n",
              "      <td>8407500</td>\n",
              "      <td>AAL</td>\n",
              "    </tr>\n",
              "    <tr>\n",
              "      <th>1</th>\n",
              "      <td>2013-02-11</td>\n",
              "      <td>14.89</td>\n",
              "      <td>15.01</td>\n",
              "      <td>14.26</td>\n",
              "      <td>14.46</td>\n",
              "      <td>8882000</td>\n",
              "      <td>AAL</td>\n",
              "    </tr>\n",
              "    <tr>\n",
              "      <th>2</th>\n",
              "      <td>2013-02-12</td>\n",
              "      <td>14.45</td>\n",
              "      <td>14.51</td>\n",
              "      <td>14.10</td>\n",
              "      <td>14.27</td>\n",
              "      <td>8126000</td>\n",
              "      <td>AAL</td>\n",
              "    </tr>\n",
              "    <tr>\n",
              "      <th>3</th>\n",
              "      <td>2013-02-13</td>\n",
              "      <td>14.30</td>\n",
              "      <td>14.94</td>\n",
              "      <td>14.25</td>\n",
              "      <td>14.66</td>\n",
              "      <td>10259500</td>\n",
              "      <td>AAL</td>\n",
              "    </tr>\n",
              "    <tr>\n",
              "      <th>4</th>\n",
              "      <td>2013-02-14</td>\n",
              "      <td>14.94</td>\n",
              "      <td>14.96</td>\n",
              "      <td>13.16</td>\n",
              "      <td>13.99</td>\n",
              "      <td>31879900</td>\n",
              "      <td>AAL</td>\n",
              "    </tr>\n",
              "  </tbody>\n",
              "</table>\n",
              "</div>"
            ],
            "text/plain": [
              "         date   open   high    low  close    volume Name\n",
              "0  2013-02-08  15.07  15.12  14.63  14.75   8407500  AAL\n",
              "1  2013-02-11  14.89  15.01  14.26  14.46   8882000  AAL\n",
              "2  2013-02-12  14.45  14.51  14.10  14.27   8126000  AAL\n",
              "3  2013-02-13  14.30  14.94  14.25  14.66  10259500  AAL\n",
              "4  2013-02-14  14.94  14.96  13.16  13.99  31879900  AAL"
            ]
          },
          "metadata": {
            "tags": []
          },
          "execution_count": 5
        }
      ]
    },
    {
      "cell_type": "code",
      "metadata": {
        "id": "xfdlWA-9-F8y",
        "colab_type": "code",
        "colab": {
          "base_uri": "https://localhost:8080/",
          "height": 34
        },
        "outputId": "7ba9c4ff-8a3d-4dcd-c100-576bc7bad20d"
      },
      "source": [
        "data.columns"
      ],
      "execution_count": 6,
      "outputs": [
        {
          "output_type": "execute_result",
          "data": {
            "text/plain": [
              "Index(['date', 'open', 'high', 'low', 'close', 'volume', 'Name'], dtype='object')"
            ]
          },
          "metadata": {
            "tags": []
          },
          "execution_count": 6
        }
      ]
    },
    {
      "cell_type": "code",
      "metadata": {
        "id": "O9fu2z0MXGd_",
        "colab_type": "code",
        "colab": {
          "base_uri": "https://localhost:8080/",
          "height": 221
        },
        "outputId": "eff6dcbf-fe3a-46c1-8ed5-3edb1760d6cf"
      },
      "source": [
        "data['Name'].value_counts()"
      ],
      "execution_count": 7,
      "outputs": [
        {
          "output_type": "execute_result",
          "data": {
            "text/plain": [
              "NUE     1259\n",
              "LRCX    1259\n",
              "KEY     1259\n",
              "BIIB    1259\n",
              "SBUX    1259\n",
              "        ... \n",
              "DXC      215\n",
              "BHGE     152\n",
              "BHF      143\n",
              "DWDP     109\n",
              "APTV      44\n",
              "Name: Name, Length: 505, dtype: int64"
            ]
          },
          "metadata": {
            "tags": []
          },
          "execution_count": 7
        }
      ]
    },
    {
      "cell_type": "code",
      "metadata": {
        "id": "3vKfEXxi-NwP",
        "colab_type": "code",
        "colab": {
          "base_uri": "https://localhost:8080/",
          "height": 34
        },
        "outputId": "2c2461fe-85dc-40c0-9d79-0cabf20bc9a8"
      },
      "source": [
        "### How many company's data we have here?\n",
        "data.Name.nunique()"
      ],
      "execution_count": 8,
      "outputs": [
        {
          "output_type": "execute_result",
          "data": {
            "text/plain": [
              "505"
            ]
          },
          "metadata": {
            "tags": []
          },
          "execution_count": 8
        }
      ]
    },
    {
      "cell_type": "code",
      "metadata": {
        "id": "au3mWKlM-U6Q",
        "colab_type": "code",
        "colab": {
          "base_uri": "https://localhost:8080/",
          "height": 34
        },
        "outputId": "75f385ad-e155-4deb-85d1-58fcf1810113"
      },
      "source": [
        "## Selecting the data \n",
        "df = data[data['Name']=='NUE']\n",
        "df.shape"
      ],
      "execution_count": 12,
      "outputs": [
        {
          "output_type": "execute_result",
          "data": {
            "text/plain": [
              "(1259, 7)"
            ]
          },
          "metadata": {
            "tags": []
          },
          "execution_count": 12
        }
      ]
    },
    {
      "cell_type": "code",
      "metadata": {
        "id": "ptcOqm5w-vtp",
        "colab_type": "code",
        "colab": {
          "base_uri": "https://localhost:8080/",
          "height": 34
        },
        "outputId": "74e5d1c8-2dd1-4478-e09f-0e1c957b8672"
      },
      "source": [
        "df.columns"
      ],
      "execution_count": 14,
      "outputs": [
        {
          "output_type": "execute_result",
          "data": {
            "text/plain": [
              "Index(['date', 'open', 'high', 'low', 'close', 'volume', 'Name'], dtype='object')"
            ]
          },
          "metadata": {
            "tags": []
          },
          "execution_count": 14
        }
      ]
    },
    {
      "cell_type": "code",
      "metadata": {
        "id": "7PLWQr5P-ymJ",
        "colab_type": "code",
        "colab": {
          "base_uri": "https://localhost:8080/",
          "height": 419
        },
        "outputId": "4030d51d-29b0-43a6-d301-65b36623ee42"
      },
      "source": [
        "#select the columns data and close price\n",
        "df = df[['date','close']]\n",
        "df"
      ],
      "execution_count": 15,
      "outputs": [
        {
          "output_type": "execute_result",
          "data": {
            "text/html": [
              "<div>\n",
              "<style scoped>\n",
              "    .dataframe tbody tr th:only-of-type {\n",
              "        vertical-align: middle;\n",
              "    }\n",
              "\n",
              "    .dataframe tbody tr th {\n",
              "        vertical-align: top;\n",
              "    }\n",
              "\n",
              "    .dataframe thead th {\n",
              "        text-align: right;\n",
              "    }\n",
              "</style>\n",
              "<table border=\"1\" class=\"dataframe\">\n",
              "  <thead>\n",
              "    <tr style=\"text-align: right;\">\n",
              "      <th></th>\n",
              "      <th>date</th>\n",
              "      <th>close</th>\n",
              "    </tr>\n",
              "  </thead>\n",
              "  <tbody>\n",
              "    <tr>\n",
              "      <th>421374</th>\n",
              "      <td>2013-02-08</td>\n",
              "      <td>46.74</td>\n",
              "    </tr>\n",
              "    <tr>\n",
              "      <th>421375</th>\n",
              "      <td>2013-02-11</td>\n",
              "      <td>46.87</td>\n",
              "    </tr>\n",
              "    <tr>\n",
              "      <th>421376</th>\n",
              "      <td>2013-02-12</td>\n",
              "      <td>47.24</td>\n",
              "    </tr>\n",
              "    <tr>\n",
              "      <th>421377</th>\n",
              "      <td>2013-02-13</td>\n",
              "      <td>47.47</td>\n",
              "    </tr>\n",
              "    <tr>\n",
              "      <th>421378</th>\n",
              "      <td>2013-02-14</td>\n",
              "      <td>48.23</td>\n",
              "    </tr>\n",
              "    <tr>\n",
              "      <th>...</th>\n",
              "      <td>...</td>\n",
              "      <td>...</td>\n",
              "    </tr>\n",
              "    <tr>\n",
              "      <th>422628</th>\n",
              "      <td>2018-02-01</td>\n",
              "      <td>66.38</td>\n",
              "    </tr>\n",
              "    <tr>\n",
              "      <th>422629</th>\n",
              "      <td>2018-02-02</td>\n",
              "      <td>64.24</td>\n",
              "    </tr>\n",
              "    <tr>\n",
              "      <th>422630</th>\n",
              "      <td>2018-02-05</td>\n",
              "      <td>62.54</td>\n",
              "    </tr>\n",
              "    <tr>\n",
              "      <th>422631</th>\n",
              "      <td>2018-02-06</td>\n",
              "      <td>63.60</td>\n",
              "    </tr>\n",
              "    <tr>\n",
              "      <th>422632</th>\n",
              "      <td>2018-02-07</td>\n",
              "      <td>62.92</td>\n",
              "    </tr>\n",
              "  </tbody>\n",
              "</table>\n",
              "<p>1259 rows × 2 columns</p>\n",
              "</div>"
            ],
            "text/plain": [
              "              date  close\n",
              "421374  2013-02-08  46.74\n",
              "421375  2013-02-11  46.87\n",
              "421376  2013-02-12  47.24\n",
              "421377  2013-02-13  47.47\n",
              "421378  2013-02-14  48.23\n",
              "...            ...    ...\n",
              "422628  2018-02-01  66.38\n",
              "422629  2018-02-02  64.24\n",
              "422630  2018-02-05  62.54\n",
              "422631  2018-02-06  63.60\n",
              "422632  2018-02-07  62.92\n",
              "\n",
              "[1259 rows x 2 columns]"
            ]
          },
          "metadata": {
            "tags": []
          },
          "execution_count": 15
        }
      ]
    },
    {
      "cell_type": "code",
      "metadata": {
        "id": "MpbU4HfJ_B3b",
        "colab_type": "code",
        "colab": {
          "base_uri": "https://localhost:8080/",
          "height": 282
        },
        "outputId": "463c39ba-6466-4830-f9b9-c5015a0641a4"
      },
      "source": [
        "#line plot\n",
        "import matplotlib.pyplot as plt\n",
        "plt.plot(df['date'],df['close'])"
      ],
      "execution_count": 16,
      "outputs": [
        {
          "output_type": "execute_result",
          "data": {
            "text/plain": [
              "[<matplotlib.lines.Line2D at 0x7efdb57f67b8>]"
            ]
          },
          "metadata": {
            "tags": []
          },
          "execution_count": 16
        },
        {
          "output_type": "display_data",
          "data": {
            "image/png": "[encoded data removed]",
            "text/plain": [
              "<Figure size 432x288 with 1 Axes>"
            ]
          },
          "metadata": {
            "tags": [],
            "needs_background": "light"
          }
        }
      ]
    },
    {
      "cell_type": "code",
      "metadata": {
        "id": "TPjGRa3t_On2",
        "colab_type": "code",
        "colab": {
          "base_uri": "https://localhost:8080/",
          "height": 204
        },
        "outputId": "0605d909-0510-4c07-f11d-08c16469c3dd"
      },
      "source": [
        "df.date[:10]"
      ],
      "execution_count": 17,
      "outputs": [
        {
          "output_type": "execute_result",
          "data": {
            "text/plain": [
              "421374    2013-02-08\n",
              "421375    2013-02-11\n",
              "421376    2013-02-12\n",
              "421377    2013-02-13\n",
              "421378    2013-02-14\n",
              "421379    2013-02-15\n",
              "421380    2013-02-19\n",
              "421381    2013-02-20\n",
              "421382    2013-02-21\n",
              "421383    2013-02-22\n",
              "Name: date, dtype: object"
            ]
          },
          "metadata": {
            "tags": []
          },
          "execution_count": 17
        }
      ]
    },
    {
      "cell_type": "code",
      "metadata": {
        "id": "6OVvsbkeDPdr",
        "colab_type": "code",
        "colab": {
          "base_uri": "https://localhost:8080/",
          "height": 68
        },
        "outputId": "48ea1997-8133-4f5b-df27-c4117c5cb7b2"
      },
      "source": [
        "### Missing values in the data\n",
        "df.isnull().sum()"
      ],
      "execution_count": 18,
      "outputs": [
        {
          "output_type": "execute_result",
          "data": {
            "text/plain": [
              "date     0\n",
              "close    0\n",
              "dtype: int64"
            ]
          },
          "metadata": {
            "tags": []
          },
          "execution_count": 18
        }
      ]
    },
    {
      "cell_type": "code",
      "metadata": {
        "id": "YrSs780TshQn",
        "colab_type": "code",
        "colab": {
          "base_uri": "https://localhost:8080/",
          "height": 34
        },
        "outputId": "7ae91d50-56d1-45a3-9bb8-0da7989ca9a9"
      },
      "source": [
        "df.shape"
      ],
      "execution_count": 19,
      "outputs": [
        {
          "output_type": "execute_result",
          "data": {
            "text/plain": [
              "(1259, 2)"
            ]
          },
          "metadata": {
            "tags": []
          },
          "execution_count": 19
        }
      ]
    },
    {
      "cell_type": "code",
      "metadata": {
        "id": "FoPY-SnRDTry",
        "colab_type": "code",
        "colab": {
          "base_uri": "https://localhost:8080/",
          "height": 272
        },
        "outputId": "6b597011-67b7-41a1-ade6-25ced24d92b1"
      },
      "source": [
        "## Preparing the data\n",
        "## Features and target\n",
        "## Input and output\n",
        "## last 7 days data as input\n",
        "## X -- [[d1-d7],[d9,d15],[d17,23]....]\n",
        "## y -- [d8,d16,d24,...]\n",
        "\n",
        "## X = [[d1-d7],[d2-d8],]\n",
        "## y = [d8,d9]\n",
        "\n",
        "X = [] ## input\n",
        "y = [] ## ouput\n",
        "for i  in range(df.shape[0]-7-1):   \n",
        "  X.append(df['close'][i:i+7])# 0 -->[0:7], 1-->[1:8]\n",
        "  y.append(df['close'][i+421381])# 7,8,9\n",
        "print(X[:2])"
      ],
      "execution_count": 20,
      "outputs": [
        {
          "output_type": "stream",
          "text": [
            "[421374    46.74\n",
            "421375    46.87\n",
            "421376    47.24\n",
            "421377    47.47\n",
            "421378    48.23\n",
            "421379    48.12\n",
            "421380    47.72\n",
            "Name: close, dtype: float64, 421375    46.87\n",
            "421376    47.24\n",
            "421377    47.47\n",
            "421378    48.23\n",
            "421379    48.12\n",
            "421380    47.72\n",
            "421381    45.95\n",
            "Name: close, dtype: float64]\n"
          ],
          "name": "stdout"
        }
      ]
    },
    {
      "cell_type": "code",
      "metadata": {
        "id": "g8Us1e0xGtls",
        "colab_type": "code",
        "colab": {}
      },
      "source": [
        "import numpy as np\n",
        "X = np.array(X)"
      ],
      "execution_count": 21,
      "outputs": []
    },
    {
      "cell_type": "code",
      "metadata": {
        "id": "R2hTTPimGww0",
        "colab_type": "code",
        "colab": {
          "base_uri": "https://localhost:8080/",
          "height": 204
        },
        "outputId": "607dbd5f-6147-4140-a4d3-bccbf0d21149"
      },
      "source": [
        "df1 = pd.DataFrame(X,columns=['d1','d2','d3','d4','d5','d6','d7'])\n",
        "df1.head()"
      ],
      "execution_count": 22,
      "outputs": [
        {
          "output_type": "execute_result",
          "data": {
            "text/html": [
              "<div>\n",
              "<style scoped>\n",
              "    .dataframe tbody tr th:only-of-type {\n",
              "        vertical-align: middle;\n",
              "    }\n",
              "\n",
              "    .dataframe tbody tr th {\n",
              "        vertical-align: top;\n",
              "    }\n",
              "\n",
              "    .dataframe thead th {\n",
              "        text-align: right;\n",
              "    }\n",
              "</style>\n",
              "<table border=\"1\" class=\"dataframe\">\n",
              "  <thead>\n",
              "    <tr style=\"text-align: right;\">\n",
              "      <th></th>\n",
              "      <th>d1</th>\n",
              "      <th>d2</th>\n",
              "      <th>d3</th>\n",
              "      <th>d4</th>\n",
              "      <th>d5</th>\n",
              "      <th>d6</th>\n",
              "      <th>d7</th>\n",
              "    </tr>\n",
              "  </thead>\n",
              "  <tbody>\n",
              "    <tr>\n",
              "      <th>0</th>\n",
              "      <td>46.74</td>\n",
              "      <td>46.87</td>\n",
              "      <td>47.24</td>\n",
              "      <td>47.47</td>\n",
              "      <td>48.23</td>\n",
              "      <td>48.12</td>\n",
              "      <td>47.72</td>\n",
              "    </tr>\n",
              "    <tr>\n",
              "      <th>1</th>\n",
              "      <td>46.87</td>\n",
              "      <td>47.24</td>\n",
              "      <td>47.47</td>\n",
              "      <td>48.23</td>\n",
              "      <td>48.12</td>\n",
              "      <td>47.72</td>\n",
              "      <td>45.95</td>\n",
              "    </tr>\n",
              "    <tr>\n",
              "      <th>2</th>\n",
              "      <td>47.24</td>\n",
              "      <td>47.47</td>\n",
              "      <td>48.23</td>\n",
              "      <td>48.12</td>\n",
              "      <td>47.72</td>\n",
              "      <td>45.95</td>\n",
              "      <td>44.70</td>\n",
              "    </tr>\n",
              "    <tr>\n",
              "      <th>3</th>\n",
              "      <td>47.47</td>\n",
              "      <td>48.23</td>\n",
              "      <td>48.12</td>\n",
              "      <td>47.72</td>\n",
              "      <td>45.95</td>\n",
              "      <td>44.70</td>\n",
              "      <td>45.18</td>\n",
              "    </tr>\n",
              "    <tr>\n",
              "      <th>4</th>\n",
              "      <td>48.23</td>\n",
              "      <td>48.12</td>\n",
              "      <td>47.72</td>\n",
              "      <td>45.95</td>\n",
              "      <td>44.70</td>\n",
              "      <td>45.18</td>\n",
              "      <td>43.71</td>\n",
              "    </tr>\n",
              "  </tbody>\n",
              "</table>\n",
              "</div>"
            ],
            "text/plain": [
              "      d1     d2     d3     d4     d5     d6     d7\n",
              "0  46.74  46.87  47.24  47.47  48.23  48.12  47.72\n",
              "1  46.87  47.24  47.47  48.23  48.12  47.72  45.95\n",
              "2  47.24  47.47  48.23  48.12  47.72  45.95  44.70\n",
              "3  47.47  48.23  48.12  47.72  45.95  44.70  45.18\n",
              "4  48.23  48.12  47.72  45.95  44.70  45.18  43.71"
            ]
          },
          "metadata": {
            "tags": []
          },
          "execution_count": 22
        }
      ]
    },
    {
      "cell_type": "code",
      "metadata": {
        "id": "yHANsBFsG0N9",
        "colab_type": "code",
        "colab": {
          "base_uri": "https://localhost:8080/",
          "height": 204
        },
        "outputId": "56f902c8-6c59-4560-e81c-3d30ba9481b8"
      },
      "source": [
        "df1['d8'] = y\n",
        "df1.head()"
      ],
      "execution_count": 23,
      "outputs": [
        {
          "output_type": "execute_result",
          "data": {
            "text/html": [
              "<div>\n",
              "<style scoped>\n",
              "    .dataframe tbody tr th:only-of-type {\n",
              "        vertical-align: middle;\n",
              "    }\n",
              "\n",
              "    .dataframe tbody tr th {\n",
              "        vertical-align: top;\n",
              "    }\n",
              "\n",
              "    .dataframe thead th {\n",
              "        text-align: right;\n",
              "    }\n",
              "</style>\n",
              "<table border=\"1\" class=\"dataframe\">\n",
              "  <thead>\n",
              "    <tr style=\"text-align: right;\">\n",
              "      <th></th>\n",
              "      <th>d1</th>\n",
              "      <th>d2</th>\n",
              "      <th>d3</th>\n",
              "      <th>d4</th>\n",
              "      <th>d5</th>\n",
              "      <th>d6</th>\n",
              "      <th>d7</th>\n",
              "      <th>d8</th>\n",
              "    </tr>\n",
              "  </thead>\n",
              "  <tbody>\n",
              "    <tr>\n",
              "      <th>0</th>\n",
              "      <td>46.74</td>\n",
              "      <td>46.87</td>\n",
              "      <td>47.24</td>\n",
              "      <td>47.47</td>\n",
              "      <td>48.23</td>\n",
              "      <td>48.12</td>\n",
              "      <td>47.72</td>\n",
              "      <td>45.95</td>\n",
              "    </tr>\n",
              "    <tr>\n",
              "      <th>1</th>\n",
              "      <td>46.87</td>\n",
              "      <td>47.24</td>\n",
              "      <td>47.47</td>\n",
              "      <td>48.23</td>\n",
              "      <td>48.12</td>\n",
              "      <td>47.72</td>\n",
              "      <td>45.95</td>\n",
              "      <td>44.70</td>\n",
              "    </tr>\n",
              "    <tr>\n",
              "      <th>2</th>\n",
              "      <td>47.24</td>\n",
              "      <td>47.47</td>\n",
              "      <td>48.23</td>\n",
              "      <td>48.12</td>\n",
              "      <td>47.72</td>\n",
              "      <td>45.95</td>\n",
              "      <td>44.70</td>\n",
              "      <td>45.18</td>\n",
              "    </tr>\n",
              "    <tr>\n",
              "      <th>3</th>\n",
              "      <td>47.47</td>\n",
              "      <td>48.23</td>\n",
              "      <td>48.12</td>\n",
              "      <td>47.72</td>\n",
              "      <td>45.95</td>\n",
              "      <td>44.70</td>\n",
              "      <td>45.18</td>\n",
              "      <td>43.71</td>\n",
              "    </tr>\n",
              "    <tr>\n",
              "      <th>4</th>\n",
              "      <td>48.23</td>\n",
              "      <td>48.12</td>\n",
              "      <td>47.72</td>\n",
              "      <td>45.95</td>\n",
              "      <td>44.70</td>\n",
              "      <td>45.18</td>\n",
              "      <td>43.71</td>\n",
              "      <td>43.85</td>\n",
              "    </tr>\n",
              "  </tbody>\n",
              "</table>\n",
              "</div>"
            ],
            "text/plain": [
              "      d1     d2     d3     d4     d5     d6     d7     d8\n",
              "0  46.74  46.87  47.24  47.47  48.23  48.12  47.72  45.95\n",
              "1  46.87  47.24  47.47  48.23  48.12  47.72  45.95  44.70\n",
              "2  47.24  47.47  48.23  48.12  47.72  45.95  44.70  45.18\n",
              "3  47.47  48.23  48.12  47.72  45.95  44.70  45.18  43.71\n",
              "4  48.23  48.12  47.72  45.95  44.70  45.18  43.71  43.85"
            ]
          },
          "metadata": {
            "tags": []
          },
          "execution_count": 23
        }
      ]
    },
    {
      "cell_type": "code",
      "metadata": {
        "id": "_ouP22FRG3eM",
        "colab_type": "code",
        "colab": {
          "base_uri": "https://localhost:8080/",
          "height": 34
        },
        "outputId": "7b109e9a-8827-4964-f6c6-d5cd15df0767"
      },
      "source": [
        "df1.shape"
      ],
      "execution_count": 24,
      "outputs": [
        {
          "output_type": "execute_result",
          "data": {
            "text/plain": [
              "(1251, 8)"
            ]
          },
          "metadata": {
            "tags": []
          },
          "execution_count": 24
        }
      ]
    },
    {
      "cell_type": "code",
      "metadata": {
        "id": "LXg27Hw5MJ7z",
        "colab_type": "code",
        "colab": {
          "base_uri": "https://localhost:8080/",
          "height": 34
        },
        "outputId": "015372b4-d0ba-4d07-e64e-093c5e724149"
      },
      "source": [
        "1251 * 0.8"
      ],
      "execution_count": 25,
      "outputs": [
        {
          "output_type": "execute_result",
          "data": {
            "text/plain": [
              "1000.8000000000001"
            ]
          },
          "metadata": {
            "tags": []
          },
          "execution_count": 25
        }
      ]
    },
    {
      "cell_type": "code",
      "metadata": {
        "id": "zcmbLgjMMLB3",
        "colab_type": "code",
        "colab": {
          "base_uri": "https://localhost:8080/",
          "height": 85
        },
        "outputId": "0d9b9f21-17e7-4d6f-8ff2-baf621fea064"
      },
      "source": [
        "## Train test split\n",
        "X_train = df1.iloc[0:1000,0:7]\n",
        "X_test = df1.iloc[1000:,0:7]\n",
        "y_train =  df1['d8'][:1000]\n",
        "y_test  = df1['d8'][1000:]\n",
        "print(X_train.shape)\n",
        "print(y_train.shape)\n",
        "print(X_test.shape)\n",
        "print(y_test.shape)"
      ],
      "execution_count": 26,
      "outputs": [
        {
          "output_type": "stream",
          "text": [
            "(1000, 7)\n",
            "(1000,)\n",
            "(251, 7)\n",
            "(251,)\n"
          ],
          "name": "stdout"
        }
      ]
    },
    {
      "cell_type": "code",
      "metadata": {
        "id": "DbQmRFehMOyA",
        "colab_type": "code",
        "colab": {
          "base_uri": "https://localhost:8080/",
          "height": 297
        },
        "outputId": "2244b4b0-5e3b-445d-8c93-fbc94a644428"
      },
      "source": [
        "## Scaling the data\n",
        "from sklearn.preprocessing import StandardScaler\n",
        "sc = StandardScaler()\n",
        "sc.fit(X_train)\n",
        "X_train_sc = pd.DataFrame(sc.transform(X_train),columns = X_train.columns)\n",
        "X_test_sc = pd.DataFrame(sc.transform(X_test),columns = X_train.columns)\n",
        "X_train_sc.describe()"
      ],
      "execution_count": 27,
      "outputs": [
        {
          "output_type": "execute_result",
          "data": {
            "text/html": [
              "<div>\n",
              "<style scoped>\n",
              "    .dataframe tbody tr th:only-of-type {\n",
              "        vertical-align: middle;\n",
              "    }\n",
              "\n",
              "    .dataframe tbody tr th {\n",
              "        vertical-align: top;\n",
              "    }\n",
              "\n",
              "    .dataframe thead th {\n",
              "        text-align: right;\n",
              "    }\n",
              "</style>\n",
              "<table border=\"1\" class=\"dataframe\">\n",
              "  <thead>\n",
              "    <tr style=\"text-align: right;\">\n",
              "      <th></th>\n",
              "      <th>d1</th>\n",
              "      <th>d2</th>\n",
              "      <th>d3</th>\n",
              "      <th>d4</th>\n",
              "      <th>d5</th>\n",
              "      <th>d6</th>\n",
              "      <th>d7</th>\n",
              "    </tr>\n",
              "  </thead>\n",
              "  <tbody>\n",
              "    <tr>\n",
              "      <th>count</th>\n",
              "      <td>1.000000e+03</td>\n",
              "      <td>1.000000e+03</td>\n",
              "      <td>1.000000e+03</td>\n",
              "      <td>1.000000e+03</td>\n",
              "      <td>1.000000e+03</td>\n",
              "      <td>1.000000e+03</td>\n",
              "      <td>1.000000e+03</td>\n",
              "    </tr>\n",
              "    <tr>\n",
              "      <th>mean</th>\n",
              "      <td>5.448975e-16</td>\n",
              "      <td>-6.754597e-16</td>\n",
              "      <td>2.744471e-16</td>\n",
              "      <td>5.715428e-16</td>\n",
              "      <td>-1.696421e-16</td>\n",
              "      <td>-7.454037e-16</td>\n",
              "      <td>-2.275957e-16</td>\n",
              "    </tr>\n",
              "    <tr>\n",
              "      <th>std</th>\n",
              "      <td>1.000500e+00</td>\n",
              "      <td>1.000500e+00</td>\n",
              "      <td>1.000500e+00</td>\n",
              "      <td>1.000500e+00</td>\n",
              "      <td>1.000500e+00</td>\n",
              "      <td>1.000500e+00</td>\n",
              "      <td>1.000500e+00</td>\n",
              "    </tr>\n",
              "    <tr>\n",
              "      <th>min</th>\n",
              "      <td>-2.587984e+00</td>\n",
              "      <td>-2.584281e+00</td>\n",
              "      <td>-2.582192e+00</td>\n",
              "      <td>-2.580763e+00</td>\n",
              "      <td>-2.578937e+00</td>\n",
              "      <td>-2.577031e+00</td>\n",
              "      <td>-2.574843e+00</td>\n",
              "    </tr>\n",
              "    <tr>\n",
              "      <th>25%</th>\n",
              "      <td>-6.088357e-01</td>\n",
              "      <td>-6.099085e-01</td>\n",
              "      <td>-6.110436e-01</td>\n",
              "      <td>-6.121087e-01</td>\n",
              "      <td>-6.131235e-01</td>\n",
              "      <td>-6.139854e-01</td>\n",
              "      <td>-6.148641e-01</td>\n",
              "    </tr>\n",
              "    <tr>\n",
              "      <th>50%</th>\n",
              "      <td>9.764623e-04</td>\n",
              "      <td>3.348490e-04</td>\n",
              "      <td>1.025700e-04</td>\n",
              "      <td>1.109769e-03</td>\n",
              "      <td>2.998682e-03</td>\n",
              "      <td>3.160924e-03</td>\n",
              "      <td>2.262640e-03</td>\n",
              "    </tr>\n",
              "    <tr>\n",
              "      <th>75%</th>\n",
              "      <td>5.483294e-01</td>\n",
              "      <td>5.477940e-01</td>\n",
              "      <td>5.461928e-01</td>\n",
              "      <td>5.436635e-01</td>\n",
              "      <td>5.409808e-01</td>\n",
              "      <td>5.394398e-01</td>\n",
              "      <td>5.395925e-01</td>\n",
              "    </tr>\n",
              "    <tr>\n",
              "      <th>max</th>\n",
              "      <td>3.493927e+00</td>\n",
              "      <td>3.482955e+00</td>\n",
              "      <td>3.475136e+00</td>\n",
              "      <td>3.468901e+00</td>\n",
              "      <td>3.461997e+00</td>\n",
              "      <td>3.455397e+00</td>\n",
              "      <td>3.448162e+00</td>\n",
              "    </tr>\n",
              "  </tbody>\n",
              "</table>\n",
              "</div>"
            ],
            "text/plain": [
              "                 d1            d2  ...            d6            d7\n",
              "count  1.000000e+03  1.000000e+03  ...  1.000000e+03  1.000000e+03\n",
              "mean   5.448975e-16 -6.754597e-16  ... -7.454037e-16 -2.275957e-16\n",
              "std    1.000500e+00  1.000500e+00  ...  1.000500e+00  1.000500e+00\n",
              "min   -2.587984e+00 -2.584281e+00  ... -2.577031e+00 -2.574843e+00\n",
              "25%   -6.088357e-01 -6.099085e-01  ... -6.139854e-01 -6.148641e-01\n",
              "50%    9.764623e-04  3.348490e-04  ...  3.160924e-03  2.262640e-03\n",
              "75%    5.483294e-01  5.477940e-01  ...  5.394398e-01  5.395925e-01\n",
              "max    3.493927e+00  3.482955e+00  ...  3.455397e+00  3.448162e+00\n",
              "\n",
              "[8 rows x 7 columns]"
            ]
          },
          "metadata": {
            "tags": []
          },
          "execution_count": 27
        }
      ]
    },
    {
      "cell_type": "code",
      "metadata": {
        "id": "GM23gcpxMS2C",
        "colab_type": "code",
        "colab": {
          "base_uri": "https://localhost:8080/",
          "height": 238
        },
        "outputId": "60a3d856-dcbd-4cd9-d173-73f9551e27f3"
      },
      "source": [
        "from keras.models import Sequential\n",
        "from keras.layers import Dense,Dropout,LSTM\n",
        "model = Sequential()\n",
        "model.add(LSTM(256,input_shape=(7,1)))\n",
        "model.add(Dense(1))\n",
        "model.summary()"
      ],
      "execution_count": 28,
      "outputs": [
        {
          "output_type": "stream",
          "text": [
            "Using TensorFlow backend.\n"
          ],
          "name": "stderr"
        },
        {
          "output_type": "stream",
          "text": [
            "Model: \"sequential_1\"\n",
            "_________________________________________________________________\n",
            "Layer (type)                 Output Shape              Param #   \n",
            "=================================================================\n",
            "lstm_1 (LSTM)                (None, 256)               264192    \n",
            "_________________________________________________________________\n",
            "dense_1 (Dense)              (None, 1)                 257       \n",
            "=================================================================\n",
            "Total params: 264,449\n",
            "Trainable params: 264,449\n",
            "Non-trainable params: 0\n",
            "_________________________________________________________________\n"
          ],
          "name": "stdout"
        }
      ]
    },
    {
      "cell_type": "code",
      "metadata": {
        "id": "m8m2OsZKMXF6",
        "colab_type": "code",
        "colab": {}
      },
      "source": [
        "model.compile(optimizer='adam',loss='mse')"
      ],
      "execution_count": 29,
      "outputs": []
    },
    {
      "cell_type": "code",
      "metadata": {
        "id": "wYrN77PCYVT5",
        "colab_type": "code",
        "colab": {
          "base_uri": "https://localhost:8080/",
          "height": 34
        },
        "outputId": "2ccdd4d1-0352-47f2-8d79-47e5a6b99ef0"
      },
      "source": [
        "X_test.shape"
      ],
      "execution_count": 30,
      "outputs": [
        {
          "output_type": "execute_result",
          "data": {
            "text/plain": [
              "(251, 7)"
            ]
          },
          "metadata": {
            "tags": []
          },
          "execution_count": 30
        }
      ]
    },
    {
      "cell_type": "code",
      "metadata": {
        "id": "YN8stxEeYhco",
        "colab_type": "code",
        "colab": {}
      },
      "source": [
        "# number of records , time steps,Features\n",
        "X_train_sc = X_train_sc.values.reshape(1000,7,1)\n",
        "X_test_sc = X_test_sc.values.reshape(251,7,1)"
      ],
      "execution_count": 31,
      "outputs": []
    },
    {
      "cell_type": "code",
      "metadata": {
        "id": "JYYsWNZ1MfDE",
        "colab_type": "code",
        "colab": {
          "base_uri": "https://localhost:8080/",
          "height": 1000
        },
        "outputId": "6532539a-dfe1-4527-af16-c1705327f7ee"
      },
      "source": [
        "history = model.fit(X_train_sc,y_train,epochs=100,validation_data=(X_test_sc,y_test))"
      ],
      "execution_count": 32,
      "outputs": [
        {
          "output_type": "stream",
          "text": [
            "Train on 1000 samples, validate on 251 samples\n",
            "Epoch 1/100\n",
            "1000/1000 [==============================] - 2s 2ms/step - loss: 1960.8396 - val_loss: 1236.8901\n",
            "Epoch 2/100\n",
            "1000/1000 [==============================] - 1s 913us/step - loss: 331.2256 - val_loss: 537.2350\n",
            "Epoch 3/100\n",
            "1000/1000 [==============================] - 1s 899us/step - loss: 105.7254 - val_loss: 286.8419\n",
            "Epoch 4/100\n",
            "1000/1000 [==============================] - 1s 900us/step - loss: 42.6348 - val_loss: 186.3918\n",
            "Epoch 5/100\n",
            "1000/1000 [==============================] - 1s 921us/step - loss: 30.1364 - val_loss: 149.6397\n",
            "Epoch 6/100\n",
            "1000/1000 [==============================] - 1s 958us/step - loss: 28.3011 - val_loss: 138.7961\n",
            "Epoch 7/100\n",
            "1000/1000 [==============================] - 1s 927us/step - loss: 28.1327 - val_loss: 136.1855\n",
            "Epoch 8/100\n",
            "1000/1000 [==============================] - 1s 936us/step - loss: 28.1034 - val_loss: 136.7437\n",
            "Epoch 9/100\n",
            "1000/1000 [==============================] - 1s 915us/step - loss: 27.8383 - val_loss: 134.1989\n",
            "Epoch 10/100\n",
            "1000/1000 [==============================] - 1s 918us/step - loss: 27.6318 - val_loss: 133.8634\n",
            "Epoch 11/100\n",
            "1000/1000 [==============================] - 1s 938us/step - loss: 27.0244 - val_loss: 129.4036\n",
            "Epoch 12/100\n",
            "1000/1000 [==============================] - 1s 944us/step - loss: 26.5217 - val_loss: 129.5129\n",
            "Epoch 13/100\n",
            "1000/1000 [==============================] - 1s 921us/step - loss: 26.0343 - val_loss: 130.2072\n",
            "Epoch 14/100\n",
            "1000/1000 [==============================] - 1s 903us/step - loss: 25.5251 - val_loss: 125.2762\n",
            "Epoch 15/100\n",
            "1000/1000 [==============================] - 1s 936us/step - loss: 25.2354 - val_loss: 125.4644\n",
            "Epoch 16/100\n",
            "1000/1000 [==============================] - 1s 941us/step - loss: 24.8843 - val_loss: 125.2290\n",
            "Epoch 17/100\n",
            "1000/1000 [==============================] - 1s 941us/step - loss: 24.5895 - val_loss: 123.6134\n",
            "Epoch 18/100\n",
            "1000/1000 [==============================] - 1s 935us/step - loss: 24.2467 - val_loss: 122.2482\n",
            "Epoch 19/100\n",
            "1000/1000 [==============================] - 1s 917us/step - loss: 23.9992 - val_loss: 121.0114\n",
            "Epoch 20/100\n",
            "1000/1000 [==============================] - 1s 933us/step - loss: 23.9374 - val_loss: 121.0376\n",
            "Epoch 21/100\n",
            "1000/1000 [==============================] - 1s 904us/step - loss: 23.2811 - val_loss: 120.9507\n",
            "Epoch 22/100\n",
            "1000/1000 [==============================] - 1s 909us/step - loss: 22.7355 - val_loss: 118.2766\n",
            "Epoch 23/100\n",
            "1000/1000 [==============================] - 1s 923us/step - loss: 19.7941 - val_loss: 110.6796\n",
            "Epoch 24/100\n",
            "1000/1000 [==============================] - 1s 942us/step - loss: 11.9609 - val_loss: 80.9113\n",
            "Epoch 25/100\n",
            "1000/1000 [==============================] - 1s 899us/step - loss: 8.6621 - val_loss: 63.5689\n",
            "Epoch 26/100\n",
            "1000/1000 [==============================] - 1s 924us/step - loss: 7.0883 - val_loss: 48.9274\n",
            "Epoch 27/100\n",
            "1000/1000 [==============================] - 1s 902us/step - loss: 6.2585 - val_loss: 41.0713\n",
            "Epoch 28/100\n",
            "1000/1000 [==============================] - 1s 905us/step - loss: 5.6812 - val_loss: 35.2544\n",
            "Epoch 29/100\n",
            "1000/1000 [==============================] - 1s 906us/step - loss: 5.2418 - val_loss: 32.7924\n",
            "Epoch 30/100\n",
            "1000/1000 [==============================] - 1s 905us/step - loss: 4.9922 - val_loss: 26.7608\n",
            "Epoch 31/100\n",
            "1000/1000 [==============================] - 1s 941us/step - loss: 4.6727 - val_loss: 24.3313\n",
            "Epoch 32/100\n",
            "1000/1000 [==============================] - 1s 906us/step - loss: 4.4513 - val_loss: 22.6136\n",
            "Epoch 33/100\n",
            "1000/1000 [==============================] - 1s 912us/step - loss: 4.3823 - val_loss: 19.4965\n",
            "Epoch 34/100\n",
            "1000/1000 [==============================] - 1s 914us/step - loss: 4.1265 - val_loss: 18.1738\n",
            "Epoch 35/100\n",
            "1000/1000 [==============================] - 1s 901us/step - loss: 3.8831 - val_loss: 15.7480\n",
            "Epoch 36/100\n",
            "1000/1000 [==============================] - 1s 912us/step - loss: 3.7114 - val_loss: 13.7610\n",
            "Epoch 37/100\n",
            "1000/1000 [==============================] - 1s 917us/step - loss: 3.6784 - val_loss: 13.4275\n",
            "Epoch 38/100\n",
            "1000/1000 [==============================] - 1s 929us/step - loss: 3.4829 - val_loss: 14.2948\n",
            "Epoch 39/100\n",
            "1000/1000 [==============================] - 1s 932us/step - loss: 3.4656 - val_loss: 11.5075\n",
            "Epoch 40/100\n",
            "1000/1000 [==============================] - 1s 909us/step - loss: 3.1992 - val_loss: 10.6323\n",
            "Epoch 41/100\n",
            "1000/1000 [==============================] - 1s 909us/step - loss: 3.1812 - val_loss: 10.0236\n",
            "Epoch 42/100\n",
            "1000/1000 [==============================] - 1s 947us/step - loss: 3.0121 - val_loss: 9.4974\n",
            "Epoch 43/100\n",
            "1000/1000 [==============================] - 1s 963us/step - loss: 2.9533 - val_loss: 12.9360\n",
            "Epoch 44/100\n",
            "1000/1000 [==============================] - 1s 903us/step - loss: 2.8050 - val_loss: 8.6185\n",
            "Epoch 45/100\n",
            "1000/1000 [==============================] - 1s 942us/step - loss: 2.6336 - val_loss: 10.5139\n",
            "Epoch 46/100\n",
            "1000/1000 [==============================] - 1s 919us/step - loss: 2.6651 - val_loss: 8.3503\n",
            "Epoch 47/100\n",
            "1000/1000 [==============================] - 1s 903us/step - loss: 2.4019 - val_loss: 8.2083\n",
            "Epoch 48/100\n",
            "1000/1000 [==============================] - 1s 924us/step - loss: 2.5102 - val_loss: 7.3238\n",
            "Epoch 49/100\n",
            "1000/1000 [==============================] - 1s 926us/step - loss: 2.3002 - val_loss: 11.9823\n",
            "Epoch 50/100\n",
            "1000/1000 [==============================] - 1s 912us/step - loss: 2.4804 - val_loss: 6.8372\n",
            "Epoch 51/100\n",
            "1000/1000 [==============================] - 1s 960us/step - loss: 2.4844 - val_loss: 7.2111\n",
            "Epoch 52/100\n",
            "1000/1000 [==============================] - 1s 942us/step - loss: 2.0640 - val_loss: 6.6167\n",
            "Epoch 53/100\n",
            "1000/1000 [==============================] - 1s 922us/step - loss: 1.8086 - val_loss: 6.1093\n",
            "Epoch 54/100\n",
            "1000/1000 [==============================] - 1s 940us/step - loss: 1.6792 - val_loss: 7.0476\n",
            "Epoch 55/100\n",
            "1000/1000 [==============================] - 1s 917us/step - loss: 1.7456 - val_loss: 6.1813\n",
            "Epoch 56/100\n",
            "1000/1000 [==============================] - 1s 940us/step - loss: 1.5135 - val_loss: 5.6978\n",
            "Epoch 57/100\n",
            "1000/1000 [==============================] - 1s 917us/step - loss: 1.8755 - val_loss: 5.4308\n",
            "Epoch 58/100\n",
            "1000/1000 [==============================] - 1s 899us/step - loss: 1.5331 - val_loss: 5.2838\n",
            "Epoch 59/100\n",
            "1000/1000 [==============================] - 1s 911us/step - loss: 1.4414 - val_loss: 5.4222\n",
            "Epoch 60/100\n",
            "1000/1000 [==============================] - 1s 917us/step - loss: 1.3675 - val_loss: 5.0103\n",
            "Epoch 61/100\n",
            "1000/1000 [==============================] - 1s 915us/step - loss: 1.3790 - val_loss: 4.8095\n",
            "Epoch 62/100\n",
            "1000/1000 [==============================] - 1s 917us/step - loss: 1.2000 - val_loss: 7.3376\n",
            "Epoch 63/100\n",
            "1000/1000 [==============================] - 1s 916us/step - loss: 1.3016 - val_loss: 5.5332\n",
            "Epoch 64/100\n",
            "1000/1000 [==============================] - 1s 926us/step - loss: 1.2369 - val_loss: 4.4859\n",
            "Epoch 65/100\n",
            "1000/1000 [==============================] - 1s 951us/step - loss: 1.2571 - val_loss: 4.3600\n",
            "Epoch 66/100\n",
            "1000/1000 [==============================] - 1s 910us/step - loss: 1.2151 - val_loss: 4.6670\n",
            "Epoch 67/100\n",
            "1000/1000 [==============================] - 1s 946us/step - loss: 1.1238 - val_loss: 4.9515\n",
            "Epoch 68/100\n",
            "1000/1000 [==============================] - 1s 917us/step - loss: 1.4247 - val_loss: 4.4457\n",
            "Epoch 69/100\n",
            "1000/1000 [==============================] - 1s 925us/step - loss: 1.2099 - val_loss: 4.3753\n",
            "Epoch 70/100\n",
            "1000/1000 [==============================] - 1s 929us/step - loss: 1.0628 - val_loss: 4.0781\n",
            "Epoch 71/100\n",
            "1000/1000 [==============================] - 1s 984us/step - loss: 0.9880 - val_loss: 4.1445\n",
            "Epoch 72/100\n",
            "1000/1000 [==============================] - 1s 945us/step - loss: 1.0902 - val_loss: 4.6147\n",
            "Epoch 73/100\n",
            "1000/1000 [==============================] - 1s 905us/step - loss: 1.1019 - val_loss: 4.6340\n",
            "Epoch 74/100\n",
            "1000/1000 [==============================] - 1s 917us/step - loss: 1.3409 - val_loss: 4.3342\n",
            "Epoch 75/100\n",
            "1000/1000 [==============================] - 1s 917us/step - loss: 1.1250 - val_loss: 3.6671\n",
            "Epoch 76/100\n",
            "1000/1000 [==============================] - 1s 907us/step - loss: 1.0329 - val_loss: 4.1071\n",
            "Epoch 77/100\n",
            "1000/1000 [==============================] - 1s 945us/step - loss: 0.9407 - val_loss: 3.7713\n",
            "Epoch 78/100\n",
            "1000/1000 [==============================] - 1s 926us/step - loss: 0.9352 - val_loss: 3.4843\n",
            "Epoch 79/100\n",
            "1000/1000 [==============================] - 1s 942us/step - loss: 0.9011 - val_loss: 3.4991\n",
            "Epoch 80/100\n",
            "1000/1000 [==============================] - 1s 913us/step - loss: 0.9049 - val_loss: 3.6702\n",
            "Epoch 81/100\n",
            "1000/1000 [==============================] - 1s 916us/step - loss: 0.9360 - val_loss: 4.1181\n",
            "Epoch 82/100\n",
            "1000/1000 [==============================] - 1s 917us/step - loss: 0.9019 - val_loss: 3.5675\n",
            "Epoch 83/100\n",
            "1000/1000 [==============================] - 1s 919us/step - loss: 0.8845 - val_loss: 3.5619\n",
            "Epoch 84/100\n",
            "1000/1000 [==============================] - 1s 924us/step - loss: 0.9207 - val_loss: 3.7849\n",
            "Epoch 85/100\n",
            "1000/1000 [==============================] - 1s 904us/step - loss: 0.9148 - val_loss: 3.7794\n",
            "Epoch 86/100\n",
            "1000/1000 [==============================] - 1s 925us/step - loss: 0.8940 - val_loss: 3.3170\n",
            "Epoch 87/100\n",
            "1000/1000 [==============================] - 1s 930us/step - loss: 1.0336 - val_loss: 3.0413\n",
            "Epoch 88/100\n",
            "1000/1000 [==============================] - 1s 945us/step - loss: 0.8307 - val_loss: 3.7468\n",
            "Epoch 89/100\n",
            "1000/1000 [==============================] - 1s 920us/step - loss: 0.8832 - val_loss: 3.8455\n",
            "Epoch 90/100\n",
            "1000/1000 [==============================] - 1s 922us/step - loss: 0.8908 - val_loss: 3.2108\n",
            "Epoch 91/100\n",
            "1000/1000 [==============================] - 1s 914us/step - loss: 0.9005 - val_loss: 3.0844\n",
            "Epoch 92/100\n",
            "1000/1000 [==============================] - 1s 925us/step - loss: 0.9355 - val_loss: 3.0256\n",
            "Epoch 93/100\n",
            "1000/1000 [==============================] - 1s 903us/step - loss: 0.8760 - val_loss: 4.7398\n",
            "Epoch 94/100\n",
            "1000/1000 [==============================] - 1s 900us/step - loss: 0.9012 - val_loss: 3.1521\n",
            "Epoch 95/100\n",
            "1000/1000 [==============================] - 1s 910us/step - loss: 0.8135 - val_loss: 2.8544\n",
            "Epoch 96/100\n",
            "1000/1000 [==============================] - 1s 947us/step - loss: 0.7841 - val_loss: 2.9989\n",
            "Epoch 97/100\n",
            "1000/1000 [==============================] - 1s 946us/step - loss: 0.8275 - val_loss: 3.3106\n",
            "Epoch 98/100\n",
            "1000/1000 [==============================] - 1s 925us/step - loss: 0.8358 - val_loss: 3.5901\n",
            "Epoch 99/100\n",
            "1000/1000 [==============================] - 1s 921us/step - loss: 0.8458 - val_loss: 2.7742\n",
            "Epoch 100/100\n",
            "1000/1000 [==============================] - 1s 927us/step - loss: 0.8721 - val_loss: 2.6892\n"
          ],
          "name": "stdout"
        }
      ]
    },
    {
      "cell_type": "code",
      "metadata": {
        "id": "rNF-KH9HYdip",
        "colab_type": "code",
        "colab": {
          "base_uri": "https://localhost:8080/",
          "height": 282
        },
        "outputId": "b03cd648-ac40-4e2d-c822-19c4c4904de0"
      },
      "source": [
        "tr_loss = history.history['loss']\n",
        "val_loss = history.history['val_loss']\n",
        "ep = list(range(1,101))\n",
        "plt.plot(ep,tr_loss,color='r')\n",
        "plt.plot(ep,val_loss,color='b')"
      ],
      "execution_count": 33,
      "outputs": [
        {
          "output_type": "execute_result",
          "data": {
            "text/plain": [
              "[<matplotlib.lines.Line2D at 0x7efd624d5630>]"
            ]
          },
          "metadata": {
            "tags": []
          },
          "execution_count": 33
        },
        {
          "output_type": "display_data",
          "data": {
            "image/png": "[encoded data removed]",
            "text/plain": [
              "<Figure size 432x288 with 1 Axes>"
            ]
          },
          "metadata": {
            "tags": [],
            "needs_background": "light"
          }
        }
      ]
    },
    {
      "cell_type": "code",
      "metadata": {
        "id": "3OOZvEjrZFYq",
        "colab_type": "code",
        "colab": {
          "base_uri": "https://localhost:8080/",
          "height": 1000
        },
        "outputId": "0bd4cee5-ed1e-449a-fa7e-fb09d3a09b93"
      },
      "source": [
        "model.predict(X_test_sc)"
      ],
      "execution_count": 34,
      "outputs": [
        {
          "output_type": "execute_result",
          "data": {
            "text/plain": [
              "array([[57.598724],\n",
              "       [57.9582  ],\n",
              "       [59.397804],\n",
              "       [60.36724 ],\n",
              "       [61.92431 ],\n",
              "       [62.59911 ],\n",
              "       [63.093773],\n",
              "       [63.20266 ],\n",
              "       [63.3044  ],\n",
              "       [63.473682],\n",
              "       [63.29924 ],\n",
              "       [62.571342],\n",
              "       [62.0401  ],\n",
              "       [62.296837],\n",
              "       [62.497658],\n",
              "       [62.982254],\n",
              "       [62.89691 ],\n",
              "       [62.854767],\n",
              "       [62.83512 ],\n",
              "       [62.294296],\n",
              "       [61.966545],\n",
              "       [61.58351 ],\n",
              "       [61.44995 ],\n",
              "       [61.401314],\n",
              "       [61.37844 ],\n",
              "       [62.265995],\n",
              "       [63.029552],\n",
              "       [63.449707],\n",
              "       [63.602524],\n",
              "       [62.915817],\n",
              "       [62.669014],\n",
              "       [62.22863 ],\n",
              "       [61.506638],\n",
              "       [60.925903],\n",
              "       [60.82284 ],\n",
              "       [60.70765 ],\n",
              "       [60.731323],\n",
              "       [60.56987 ],\n",
              "       [60.71863 ],\n",
              "       [60.92729 ],\n",
              "       [60.757214],\n",
              "       [60.785645],\n",
              "       [61.035522],\n",
              "       [60.99543 ],\n",
              "       [61.087418],\n",
              "       [60.02916 ],\n",
              "       [58.872147],\n",
              "       [58.093773],\n",
              "       [57.6623  ],\n",
              "       [57.568626],\n",
              "       [58.713364],\n",
              "       [59.492954],\n",
              "       [60.562935],\n",
              "       [61.11685 ],\n",
              "       [61.83393 ],\n",
              "       [62.035854],\n",
              "       [61.99198 ],\n",
              "       [62.07142 ],\n",
              "       [62.1066  ],\n",
              "       [61.673637],\n",
              "       [61.64341 ],\n",
              "       [61.419777],\n",
              "       [61.103783],\n",
              "       [60.41893 ],\n",
              "       [59.684036],\n",
              "       [58.90135 ],\n",
              "       [58.209538],\n",
              "       [57.85647 ],\n",
              "       [57.741997],\n",
              "       [56.91994 ],\n",
              "       [56.250233],\n",
              "       [56.27263 ],\n",
              "       [56.435555],\n",
              "       [57.46637 ],\n",
              "       [58.11209 ],\n",
              "       [58.43648 ],\n",
              "       [58.45862 ],\n",
              "       [58.55178 ],\n",
              "       [58.549385],\n",
              "       [58.87861 ],\n",
              "       [58.959305],\n",
              "       [59.17584 ],\n",
              "       [58.755096],\n",
              "       [58.154953],\n",
              "       [58.641228],\n",
              "       [59.28131 ],\n",
              "       [59.850204],\n",
              "       [60.368988],\n",
              "       [60.248707],\n",
              "       [57.962738],\n",
              "       [56.239395],\n",
              "       [55.542347],\n",
              "       [55.53877 ],\n",
              "       [55.57347 ],\n",
              "       [56.244263],\n",
              "       [57.09136 ],\n",
              "       [57.33146 ],\n",
              "       [57.14019 ],\n",
              "       [57.62123 ],\n",
              "       [57.958786],\n",
              "       [58.02085 ],\n",
              "       [58.452576],\n",
              "       [58.930954],\n",
              "       [59.358864],\n",
              "       [59.066757],\n",
              "       [59.08937 ],\n",
              "       [59.08706 ],\n",
              "       [59.229805],\n",
              "       [59.957344],\n",
              "       [60.166367],\n",
              "       [60.521984],\n",
              "       [60.33896 ],\n",
              "       [60.786144],\n",
              "       [60.77147 ],\n",
              "       [60.852474],\n",
              "       [60.991302],\n",
              "       [61.25212 ],\n",
              "       [60.3233  ],\n",
              "       [59.822613],\n",
              "       [58.910995],\n",
              "       [58.478115],\n",
              "       [57.98919 ],\n",
              "       [57.42852 ],\n",
              "       [57.23439 ],\n",
              "       [57.255943],\n",
              "       [57.565575],\n",
              "       [57.584755],\n",
              "       [57.391563],\n",
              "       [56.955193],\n",
              "       [56.054897],\n",
              "       [55.653442],\n",
              "       [55.399166],\n",
              "       [55.97685 ],\n",
              "       [55.155518],\n",
              "       [54.525806],\n",
              "       [53.945267],\n",
              "       [54.149696],\n",
              "       [54.530777],\n",
              "       [54.666256],\n",
              "       [54.90473 ],\n",
              "       [54.843765],\n",
              "       [54.950867],\n",
              "       [55.373856],\n",
              "       [55.367477],\n",
              "       [55.542572],\n",
              "       [55.21611 ],\n",
              "       [55.262985],\n",
              "       [54.713432],\n",
              "       [54.55616 ],\n",
              "       [54.220535],\n",
              "       [53.772095],\n",
              "       [53.64028 ],\n",
              "       [53.79725 ],\n",
              "       [53.739403],\n",
              "       [54.10446 ],\n",
              "       [54.82696 ],\n",
              "       [55.6829  ],\n",
              "       [55.335472],\n",
              "       [55.01674 ],\n",
              "       [54.64219 ],\n",
              "       [54.263573],\n",
              "       [54.90538 ],\n",
              "       [55.32862 ],\n",
              "       [55.92781 ],\n",
              "       [56.168663],\n",
              "       [56.186905],\n",
              "       [56.180515],\n",
              "       [56.39009 ],\n",
              "       [56.304253],\n",
              "       [55.814117],\n",
              "       [55.488632],\n",
              "       [56.33156 ],\n",
              "       [56.925148],\n",
              "       [57.68876 ],\n",
              "       [57.605198],\n",
              "       [57.446136],\n",
              "       [57.36709 ],\n",
              "       [57.91907 ],\n",
              "       [58.958103],\n",
              "       [59.380436],\n",
              "       [59.8768  ],\n",
              "       [59.867775],\n",
              "       [60.17241 ],\n",
              "       [60.184483],\n",
              "       [59.730293],\n",
              "       [59.079998],\n",
              "       [59.0372  ],\n",
              "       [58.95726 ],\n",
              "       [58.663544],\n",
              "       [58.37153 ],\n",
              "       [58.11549 ],\n",
              "       [58.00545 ],\n",
              "       [57.25511 ],\n",
              "       [56.417503],\n",
              "       [55.833965],\n",
              "       [55.10817 ],\n",
              "       [54.801826],\n",
              "       [54.647858],\n",
              "       [54.699966],\n",
              "       [55.16656 ],\n",
              "       [55.689224],\n",
              "       [56.093353],\n",
              "       [56.133606],\n",
              "       [56.050247],\n",
              "       [56.15896 ],\n",
              "       [56.73983 ],\n",
              "       [57.177483],\n",
              "       [57.3229  ],\n",
              "       [58.071114],\n",
              "       [58.00389 ],\n",
              "       [58.081566],\n",
              "       [58.339954],\n",
              "       [59.323105],\n",
              "       [60.46003 ],\n",
              "       [61.377243],\n",
              "       [61.94278 ],\n",
              "       [61.384308],\n",
              "       [61.134872],\n",
              "       [61.63881 ],\n",
              "       [62.149292],\n",
              "       [62.799965],\n",
              "       [63.251564],\n",
              "       [63.504784],\n",
              "       [63.633118],\n",
              "       [63.660862],\n",
              "       [63.627335],\n",
              "       [63.449253],\n",
              "       [63.85669 ],\n",
              "       [64.16266 ],\n",
              "       [64.30612 ],\n",
              "       [64.41452 ],\n",
              "       [64.486855],\n",
              "       [64.497086],\n",
              "       [64.57989 ],\n",
              "       [64.67546 ],\n",
              "       [64.67038 ],\n",
              "       [64.667114],\n",
              "       [64.67212 ],\n",
              "       [64.65485 ],\n",
              "       [64.64486 ],\n",
              "       [64.64967 ],\n",
              "       [64.65056 ],\n",
              "       [64.65552 ],\n",
              "       [64.614   ],\n",
              "       [64.662994],\n",
              "       [64.659294],\n",
              "       [64.52315 ],\n",
              "       [64.44403 ],\n",
              "       [64.326866],\n",
              "       [63.994743],\n",
              "       [63.42945 ]], dtype=float32)"
            ]
          },
          "metadata": {
            "tags": []
          },
          "execution_count": 34
        }
      ]
    },
    {
      "cell_type": "code",
      "metadata": {
        "id": "cZazbwoqZfgU",
        "colab_type": "code",
        "colab": {
          "base_uri": "https://localhost:8080/",
          "height": 282
        },
        "outputId": "e5c61f1d-6741-4edc-af7a-5d4405f997a4"
      },
      "source": [
        "plt.plot(range(len(X_test_sc)),model.predict(X_test_sc).flat)\n",
        "plt.plot(range(len(X_test_sc)),y_test)"
      ],
      "execution_count": 35,
      "outputs": [
        {
          "output_type": "execute_result",
          "data": {
            "text/plain": [
              "[<matplotlib.lines.Line2D at 0x7efd616fdfd0>]"
            ]
          },
          "metadata": {
            "tags": []
          },
          "execution_count": 35
        },
        {
          "output_type": "display_data",
          "data": {
            "image/png": "[encoded data removed]",
            "text/plain": [
              "<Figure size 432x288 with 1 Axes>"
            ]
          },
          "metadata": {
            "tags": [],
            "needs_background": "light"
          }
        }
      ]
    },
    {
      "cell_type": "markdown",
      "metadata": {
        "id": "1RTmBZ7sx1-y",
        "colab_type": "text"
      },
      "source": [
        "### Reshape the inputs"
      ]
    },
    {
      "cell_type": "code",
      "metadata": {
        "id": "h74LtriKZhhp",
        "colab_type": "code",
        "colab": {
          "base_uri": "https://localhost:8080/",
          "height": 136
        },
        "outputId": "1b0a4bf7-411b-43de-c872-0772d333075b"
      },
      "source": [
        "X_test_sc[0].reshape(1,7,1)"
      ],
      "execution_count": 36,
      "outputs": [
        {
          "output_type": "execute_result",
          "data": {
            "text/plain": [
              "array([[[2.22567044],\n",
              "        [1.83534558],\n",
              "        [1.60988147],\n",
              "        [1.71224079],\n",
              "        [1.6813514 ],\n",
              "        [1.77184082],\n",
              "        [1.72946191]]])"
            ]
          },
          "metadata": {
            "tags": []
          },
          "execution_count": 36
        }
      ]
    },
    {
      "cell_type": "code",
      "metadata": {
        "id": "3VolYQoFZmBh",
        "colab_type": "code",
        "colab": {
          "base_uri": "https://localhost:8080/",
          "height": 34
        },
        "outputId": "65cf09e2-8df4-4034-d809-10427e1dbe84"
      },
      "source": [
        "model.predict(X_test_sc[0].reshape(1,7,1))"
      ],
      "execution_count": null,
      "outputs": [
        {
          "output_type": "execute_result",
          "data": {
            "text/plain": [
              "array([[42.51565]], dtype=float32)"
            ]
          },
          "metadata": {
            "tags": []
          },
          "execution_count": 53
        }
      ]
    },
    {
      "cell_type": "code",
      "metadata": {
        "id": "BhrM6fY-ZpVD",
        "colab_type": "code",
        "colab": {
          "base_uri": "https://localhost:8080/",
          "height": 34
        },
        "outputId": "e5d1056a-346b-44a3-d50f-a95c7668a4c6"
      },
      "source": [
        "y_test[1000]"
      ],
      "execution_count": null,
      "outputs": [
        {
          "output_type": "execute_result",
          "data": {
            "text/plain": [
              "41.01"
            ]
          },
          "metadata": {
            "tags": []
          },
          "execution_count": 54
        }
      ]
    },
    {
      "cell_type": "markdown",
      "metadata": {
        "id": "hwAnnF18x9BC",
        "colab_type": "text"
      },
      "source": [
        "### Create a Model"
      ]
    },
    {
      "cell_type": "code",
      "metadata": {
        "id": "xbK0gEL-ZraI",
        "colab_type": "code",
        "colab": {
          "base_uri": "https://localhost:8080/",
          "height": 255
        },
        "outputId": "0ae9d8e0-ef42-4083-be2b-f3ea5333d97b"
      },
      "source": [
        "from keras.models import Sequential\n",
        "from keras.layers import Dense,Dropout,LSTM\n",
        "model2 = Sequential()\n",
        "# 256 cels\n",
        "model2.add(LSTM(256,input_shape=(7,1)))\n",
        "model2.add(Dropout(0.3))\n",
        "# single neuron\n",
        "model2.add(Dense(1))\n",
        "model2.summary()"
      ],
      "execution_count": 39,
      "outputs": [
        {
          "output_type": "stream",
          "text": [
            "Model: \"sequential_2\"\n",
            "_________________________________________________________________\n",
            "Layer (type)                 Output Shape              Param #   \n",
            "=================================================================\n",
            "lstm_2 (LSTM)                (None, 256)               264192    \n",
            "_________________________________________________________________\n",
            "dropout_1 (Dropout)          (None, 256)               0         \n",
            "_________________________________________________________________\n",
            "dense_2 (Dense)              (None, 1)                 257       \n",
            "=================================================================\n",
            "Total params: 264,449\n",
            "Trainable params: 264,449\n",
            "Non-trainable params: 0\n",
            "_________________________________________________________________\n"
          ],
          "name": "stdout"
        }
      ]
    },
    {
      "cell_type": "markdown",
      "metadata": {
        "id": "aFYV_BGqyFyK",
        "colab_type": "text"
      },
      "source": [
        "### Compile the model with the proper optimizer and loss"
      ]
    },
    {
      "cell_type": "code",
      "metadata": {
        "id": "k7NhUqXPZwOH",
        "colab_type": "code",
        "colab": {}
      },
      "source": [
        "model2.compile(optimizer='adam',loss='mse')"
      ],
      "execution_count": 40,
      "outputs": []
    },
    {
      "cell_type": "code",
      "metadata": {
        "id": "lp7YT_TBZzUO",
        "colab_type": "code",
        "colab": {
          "base_uri": "https://localhost:8080/",
          "height": 1000
        },
        "outputId": "5916f675-f5fa-4055-c8bd-308dfd7158b0"
      },
      "source": [
        "history2 = model2.fit(X_train_sc,y_train,epochs=100,validation_data=(X_test_sc,y_test))"
      ],
      "execution_count": 42,
      "outputs": [
        {
          "output_type": "stream",
          "text": [
            "Train on 1000 samples, validate on 251 samples\n",
            "Epoch 1/100\n",
            "1000/1000 [==============================] - 1s 983us/step - loss: 5.0437 - val_loss: 5.9720\n",
            "Epoch 2/100\n",
            "1000/1000 [==============================] - 1s 972us/step - loss: 5.6296 - val_loss: 4.2423\n",
            "Epoch 3/100\n",
            "1000/1000 [==============================] - 1s 941us/step - loss: 5.4859 - val_loss: 4.9491\n",
            "Epoch 4/100\n",
            "1000/1000 [==============================] - 1s 977us/step - loss: 5.1365 - val_loss: 4.5174\n",
            "Epoch 5/100\n",
            "1000/1000 [==============================] - 1s 948us/step - loss: 5.5779 - val_loss: 4.3081\n",
            "Epoch 6/100\n",
            "1000/1000 [==============================] - 1s 981us/step - loss: 5.8176 - val_loss: 4.5727\n",
            "Epoch 7/100\n",
            "1000/1000 [==============================] - 1s 957us/step - loss: 5.5295 - val_loss: 4.3845\n",
            "Epoch 8/100\n",
            "1000/1000 [==============================] - 1s 929us/step - loss: 6.5309 - val_loss: 3.7289\n",
            "Epoch 9/100\n",
            "1000/1000 [==============================] - 1s 934us/step - loss: 5.8018 - val_loss: 3.6202\n",
            "Epoch 10/100\n",
            "1000/1000 [==============================] - 1s 940us/step - loss: 5.5308 - val_loss: 3.8345\n",
            "Epoch 11/100\n",
            "1000/1000 [==============================] - 1s 1ms/step - loss: 6.0591 - val_loss: 4.5220\n",
            "Epoch 12/100\n",
            "1000/1000 [==============================] - 1s 948us/step - loss: 5.1794 - val_loss: 4.1192\n",
            "Epoch 13/100\n",
            "1000/1000 [==============================] - 1s 923us/step - loss: 5.9378 - val_loss: 4.6112\n",
            "Epoch 14/100\n",
            "1000/1000 [==============================] - 1s 931us/step - loss: 5.0119 - val_loss: 3.8910\n",
            "Epoch 15/100\n",
            "1000/1000 [==============================] - 1s 947us/step - loss: 5.2450 - val_loss: 4.7055\n",
            "Epoch 16/100\n",
            "1000/1000 [==============================] - 1s 933us/step - loss: 5.1367 - val_loss: 3.8834\n",
            "Epoch 17/100\n",
            "1000/1000 [==============================] - 1s 948us/step - loss: 5.1714 - val_loss: 4.5690\n",
            "Epoch 18/100\n",
            "1000/1000 [==============================] - 1s 968us/step - loss: 5.4978 - val_loss: 5.3006\n",
            "Epoch 19/100\n",
            "1000/1000 [==============================] - 1s 939us/step - loss: 5.2170 - val_loss: 3.9182\n",
            "Epoch 20/100\n",
            "1000/1000 [==============================] - 1s 957us/step - loss: 4.8006 - val_loss: 3.6364\n",
            "Epoch 21/100\n",
            "1000/1000 [==============================] - 1s 934us/step - loss: 5.5747 - val_loss: 3.9505\n",
            "Epoch 22/100\n",
            "1000/1000 [==============================] - 1s 926us/step - loss: 5.5634 - val_loss: 3.7751\n",
            "Epoch 23/100\n",
            "1000/1000 [==============================] - 1s 979us/step - loss: 5.5236 - val_loss: 3.4144\n",
            "Epoch 24/100\n",
            "1000/1000 [==============================] - 1s 922us/step - loss: 5.4215 - val_loss: 3.2196\n",
            "Epoch 25/100\n",
            "1000/1000 [==============================] - 1s 949us/step - loss: 5.1804 - val_loss: 3.5098\n",
            "Epoch 26/100\n",
            "1000/1000 [==============================] - 1s 945us/step - loss: 5.1883 - val_loss: 4.4828\n",
            "Epoch 27/100\n",
            "1000/1000 [==============================] - 1s 944us/step - loss: 5.2165 - val_loss: 3.0765\n",
            "Epoch 28/100\n",
            "1000/1000 [==============================] - 1s 940us/step - loss: 5.4262 - val_loss: 4.2333\n",
            "Epoch 29/100\n",
            "1000/1000 [==============================] - 1s 949us/step - loss: 5.1210 - val_loss: 3.1507\n",
            "Epoch 30/100\n",
            "1000/1000 [==============================] - 1s 945us/step - loss: 5.1448 - val_loss: 3.7258\n",
            "Epoch 31/100\n",
            "1000/1000 [==============================] - 1s 939us/step - loss: 5.2209 - val_loss: 4.4111\n",
            "Epoch 32/100\n",
            "1000/1000 [==============================] - 1s 933us/step - loss: 5.2217 - val_loss: 4.9569\n",
            "Epoch 33/100\n",
            "1000/1000 [==============================] - 1s 937us/step - loss: 5.1787 - val_loss: 4.2308\n",
            "Epoch 34/100\n",
            "1000/1000 [==============================] - 1s 989us/step - loss: 5.6574 - val_loss: 3.6922\n",
            "Epoch 35/100\n",
            "1000/1000 [==============================] - 1s 960us/step - loss: 5.2020 - val_loss: 4.1337\n",
            "Epoch 36/100\n",
            "1000/1000 [==============================] - 1s 929us/step - loss: 4.9197 - val_loss: 2.9178\n",
            "Epoch 37/100\n",
            "1000/1000 [==============================] - 1s 957us/step - loss: 5.1371 - val_loss: 3.7279\n",
            "Epoch 38/100\n",
            "1000/1000 [==============================] - 1s 936us/step - loss: 5.2861 - val_loss: 3.7632\n",
            "Epoch 39/100\n",
            "1000/1000 [==============================] - 1s 928us/step - loss: 5.0040 - val_loss: 3.4436\n",
            "Epoch 40/100\n",
            "1000/1000 [==============================] - 1s 963us/step - loss: 4.9714 - val_loss: 3.6575\n",
            "Epoch 41/100\n",
            "1000/1000 [==============================] - 1s 1ms/step - loss: 5.3240 - val_loss: 3.3258\n",
            "Epoch 42/100\n",
            "1000/1000 [==============================] - 1s 924us/step - loss: 5.6043 - val_loss: 3.6683\n",
            "Epoch 43/100\n",
            "1000/1000 [==============================] - 1s 952us/step - loss: 4.7876 - val_loss: 3.2471\n",
            "Epoch 44/100\n",
            "1000/1000 [==============================] - 1s 972us/step - loss: 5.2604 - val_loss: 3.3847\n",
            "Epoch 45/100\n",
            "1000/1000 [==============================] - 1s 957us/step - loss: 4.8914 - val_loss: 3.0095\n",
            "Epoch 46/100\n",
            "1000/1000 [==============================] - 1s 932us/step - loss: 4.9809 - val_loss: 2.8487\n",
            "Epoch 47/100\n",
            "1000/1000 [==============================] - 1s 943us/step - loss: 4.4523 - val_loss: 3.3841\n",
            "Epoch 48/100\n",
            "1000/1000 [==============================] - 1s 950us/step - loss: 4.9520 - val_loss: 3.7459\n",
            "Epoch 49/100\n",
            "1000/1000 [==============================] - 1s 968us/step - loss: 5.4387 - val_loss: 3.2251\n",
            "Epoch 50/100\n",
            "1000/1000 [==============================] - 1s 967us/step - loss: 5.0003 - val_loss: 3.4615\n",
            "Epoch 51/100\n",
            "1000/1000 [==============================] - 1s 959us/step - loss: 4.9925 - val_loss: 3.0105\n",
            "Epoch 52/100\n",
            "1000/1000 [==============================] - 1s 948us/step - loss: 4.9516 - val_loss: 2.9315\n",
            "Epoch 53/100\n",
            "1000/1000 [==============================] - 1s 967us/step - loss: 5.3295 - val_loss: 2.9504\n",
            "Epoch 54/100\n",
            "1000/1000 [==============================] - 1s 991us/step - loss: 5.6229 - val_loss: 4.4485\n",
            "Epoch 55/100\n",
            "1000/1000 [==============================] - 1s 974us/step - loss: 4.9727 - val_loss: 2.6292\n",
            "Epoch 56/100\n",
            "1000/1000 [==============================] - 1s 994us/step - loss: 5.0390 - val_loss: 2.5878\n",
            "Epoch 57/100\n",
            "1000/1000 [==============================] - 1s 987us/step - loss: 4.8075 - val_loss: 2.3370\n",
            "Epoch 58/100\n",
            "1000/1000 [==============================] - 1s 946us/step - loss: 5.1820 - val_loss: 3.0763\n",
            "Epoch 59/100\n",
            "1000/1000 [==============================] - 1s 966us/step - loss: 5.2367 - val_loss: 2.3976\n",
            "Epoch 60/100\n",
            "1000/1000 [==============================] - 1s 950us/step - loss: 5.4805 - val_loss: 3.0736\n",
            "Epoch 61/100\n",
            "1000/1000 [==============================] - 1s 925us/step - loss: 4.9885 - val_loss: 2.3761\n",
            "Epoch 62/100\n",
            "1000/1000 [==============================] - 1s 938us/step - loss: 5.0613 - val_loss: 2.6784\n",
            "Epoch 63/100\n",
            "1000/1000 [==============================] - 1s 947us/step - loss: 5.0335 - val_loss: 2.3548\n",
            "Epoch 64/100\n",
            "1000/1000 [==============================] - 1s 959us/step - loss: 4.8050 - val_loss: 2.8431\n",
            "Epoch 65/100\n",
            "1000/1000 [==============================] - 1s 961us/step - loss: 4.9236 - val_loss: 2.2164\n",
            "Epoch 66/100\n",
            "1000/1000 [==============================] - 1s 984us/step - loss: 5.3730 - val_loss: 2.7107\n",
            "Epoch 67/100\n",
            "1000/1000 [==============================] - 1s 1ms/step - loss: 4.8223 - val_loss: 2.7376\n",
            "Epoch 68/100\n",
            "1000/1000 [==============================] - 1s 936us/step - loss: 5.2327 - val_loss: 4.4041\n",
            "Epoch 69/100\n",
            "1000/1000 [==============================] - 1s 938us/step - loss: 5.1855 - val_loss: 2.8201\n",
            "Epoch 70/100\n",
            "1000/1000 [==============================] - 1s 937us/step - loss: 4.9958 - val_loss: 3.1185\n",
            "Epoch 71/100\n",
            "1000/1000 [==============================] - 1s 988us/step - loss: 5.3243 - val_loss: 2.2921\n",
            "Epoch 72/100\n",
            "1000/1000 [==============================] - 1s 929us/step - loss: 4.9175 - val_loss: 2.9736\n",
            "Epoch 73/100\n",
            "1000/1000 [==============================] - 1s 971us/step - loss: 4.6615 - val_loss: 2.2977\n",
            "Epoch 74/100\n",
            "1000/1000 [==============================] - 1s 950us/step - loss: 5.2160 - val_loss: 4.9030\n",
            "Epoch 75/100\n",
            "1000/1000 [==============================] - 1s 962us/step - loss: 4.9990 - val_loss: 2.3881\n",
            "Epoch 76/100\n",
            "1000/1000 [==============================] - 1s 941us/step - loss: 4.8809 - val_loss: 3.1322\n",
            "Epoch 77/100\n",
            "1000/1000 [==============================] - 1s 932us/step - loss: 5.0791 - val_loss: 2.4167\n",
            "Epoch 78/100\n",
            "1000/1000 [==============================] - 1s 950us/step - loss: 5.1622 - val_loss: 3.9275\n",
            "Epoch 79/100\n",
            "1000/1000 [==============================] - 1s 935us/step - loss: 4.9846 - val_loss: 2.6022\n",
            "Epoch 80/100\n",
            "1000/1000 [==============================] - 1s 936us/step - loss: 5.5921 - val_loss: 2.2662\n",
            "Epoch 81/100\n",
            "1000/1000 [==============================] - 1s 943us/step - loss: 4.8199 - val_loss: 2.4245\n",
            "Epoch 82/100\n",
            "1000/1000 [==============================] - 1s 929us/step - loss: 4.6232 - val_loss: 2.2454\n",
            "Epoch 83/100\n",
            "1000/1000 [==============================] - 1s 939us/step - loss: 4.9919 - val_loss: 2.4087\n",
            "Epoch 84/100\n",
            "1000/1000 [==============================] - 1s 946us/step - loss: 5.0094 - val_loss: 2.9127\n",
            "Epoch 85/100\n",
            "1000/1000 [==============================] - 1s 981us/step - loss: 5.3270 - val_loss: 2.2414\n",
            "Epoch 86/100\n",
            "1000/1000 [==============================] - 1s 939us/step - loss: 5.0064 - val_loss: 2.1298\n",
            "Epoch 87/100\n",
            "1000/1000 [==============================] - 1s 946us/step - loss: 4.1541 - val_loss: 2.0402\n",
            "Epoch 88/100\n",
            "1000/1000 [==============================] - 1s 961us/step - loss: 4.9433 - val_loss: 2.3055\n",
            "Epoch 89/100\n",
            "1000/1000 [==============================] - 1s 951us/step - loss: 4.9542 - val_loss: 3.0619\n",
            "Epoch 90/100\n",
            "1000/1000 [==============================] - 1s 944us/step - loss: 4.9327 - val_loss: 2.3145\n",
            "Epoch 91/100\n",
            "1000/1000 [==============================] - 1s 945us/step - loss: 5.3272 - val_loss: 2.3237\n",
            "Epoch 92/100\n",
            "1000/1000 [==============================] - 1s 947us/step - loss: 5.0975 - val_loss: 2.4748\n",
            "Epoch 93/100\n",
            "1000/1000 [==============================] - 1s 959us/step - loss: 4.9208 - val_loss: 2.4421\n",
            "Epoch 94/100\n",
            "1000/1000 [==============================] - 1s 964us/step - loss: 4.7870 - val_loss: 2.2079\n",
            "Epoch 95/100\n",
            "1000/1000 [==============================] - 1s 964us/step - loss: 4.7153 - val_loss: 3.7481\n",
            "Epoch 96/100\n",
            "1000/1000 [==============================] - 1s 953us/step - loss: 4.7219 - val_loss: 2.1062\n",
            "Epoch 97/100\n",
            "1000/1000 [==============================] - 1s 953us/step - loss: 5.0514 - val_loss: 2.6947\n",
            "Epoch 98/100\n",
            "1000/1000 [==============================] - 1s 938us/step - loss: 4.7943 - val_loss: 2.1411\n",
            "Epoch 99/100\n",
            "1000/1000 [==============================] - 1s 938us/step - loss: 5.0435 - val_loss: 2.2921\n",
            "Epoch 100/100\n",
            "1000/1000 [==============================] - 1s 984us/step - loss: 5.0078 - val_loss: 2.3016\n"
          ],
          "name": "stdout"
        }
      ]
    },
    {
      "cell_type": "code",
      "metadata": {
        "id": "WeGG3zNJZ1c2",
        "colab_type": "code",
        "colab": {
          "base_uri": "https://localhost:8080/",
          "height": 282
        },
        "outputId": "06ffd51c-d483-4f25-b819-c1ee3396e832"
      },
      "source": [
        "tr_loss = history2.history['loss']\n",
        "val_loss = history2.history['val_loss']\n",
        "ep = list(range(1,101))\n",
        "plt.plot(ep,tr_loss,color='r')\n",
        "plt.plot(ep,val_loss,color='b')"
      ],
      "execution_count": 43,
      "outputs": [
        {
          "output_type": "execute_result",
          "data": {
            "text/plain": [
              "[<matplotlib.lines.Line2D at 0x7efd613842e8>]"
            ]
          },
          "metadata": {
            "tags": []
          },
          "execution_count": 43
        },
        {
          "output_type": "display_data",
          "data": {
            "image/png": "[encoded data removed]",
            "text/plain": [
              "<Figure size 432x288 with 1 Axes>"
            ]
          },
          "metadata": {
            "tags": [],
            "needs_background": "light"
          }
        }
      ]
    },
    {
      "cell_type": "code",
      "metadata": {
        "id": "RblctMDI4ExE",
        "colab_type": "code",
        "colab": {
          "base_uri": "https://localhost:8080/",
          "height": 1000
        },
        "outputId": "7bd997fc-43b9-49c4-a8b1-129c57c25423"
      },
      "source": [
        "model2.predict(X_test_sc)"
      ],
      "execution_count": 44,
      "outputs": [
        {
          "output_type": "execute_result",
          "data": {
            "text/plain": [
              "array([[57.348816],\n",
              "       [57.788433],\n",
              "       [59.522377],\n",
              "       [60.063206],\n",
              "       [61.60986 ],\n",
              "       [61.93865 ],\n",
              "       [62.450367],\n",
              "       [62.56851 ],\n",
              "       [62.77721 ],\n",
              "       [63.052   ],\n",
              "       [62.689934],\n",
              "       [61.507626],\n",
              "       [61.10665 ],\n",
              "       [61.754314],\n",
              "       [61.801273],\n",
              "       [62.454243],\n",
              "       [62.14232 ],\n",
              "       [62.09835 ],\n",
              "       [62.15974 ],\n",
              "       [61.27032 ],\n",
              "       [60.99011 ],\n",
              "       [60.631958],\n",
              "       [60.48284 ],\n",
              "       [60.44752 ],\n",
              "       [60.44424 ],\n",
              "       [61.754955],\n",
              "       [62.58077 ],\n",
              "       [62.9477  ],\n",
              "       [63.161366],\n",
              "       [61.903828],\n",
              "       [61.903614],\n",
              "       [61.392002],\n",
              "       [60.329422],\n",
              "       [59.790836],\n",
              "       [59.980892],\n",
              "       [59.66452 ],\n",
              "       [59.773167],\n",
              "       [59.60578 ],\n",
              "       [59.832325],\n",
              "       [60.050022],\n",
              "       [59.692326],\n",
              "       [59.831936],\n",
              "       [60.23026 ],\n",
              "       [59.94692 ],\n",
              "       [60.136036],\n",
              "       [58.628464],\n",
              "       [57.534008],\n",
              "       [57.28273 ],\n",
              "       [57.12967 ],\n",
              "       [57.19249 ],\n",
              "       [58.934055],\n",
              "       [59.304684],\n",
              "       [60.21244 ],\n",
              "       [60.440346],\n",
              "       [61.07113 ],\n",
              "       [61.100742],\n",
              "       [61.031773],\n",
              "       [61.210247],\n",
              "       [61.25559 ],\n",
              "       [60.51507 ],\n",
              "       [60.745785],\n",
              "       [60.429913],\n",
              "       [59.963177],\n",
              "       [59.176937],\n",
              "       [58.531803],\n",
              "       [57.798027],\n",
              "       [57.369827],\n",
              "       [57.357708],\n",
              "       [57.42257 ],\n",
              "       [56.33317 ],\n",
              "       [55.877396],\n",
              "       [56.200436],\n",
              "       [56.262486],\n",
              "       [57.558037],\n",
              "       [58.025257],\n",
              "       [58.107174],\n",
              "       [58.043045],\n",
              "       [58.096233],\n",
              "       [57.93288 ],\n",
              "       [58.497524],\n",
              "       [58.43864 ],\n",
              "       [58.626194],\n",
              "       [57.973797],\n",
              "       [57.372906],\n",
              "       [58.38231 ],\n",
              "       [58.993282],\n",
              "       [59.302692],\n",
              "       [59.865   ],\n",
              "       [59.26552 ],\n",
              "       [56.05465 ],\n",
              "       [55.325657],\n",
              "       [55.488308],\n",
              "       [55.479893],\n",
              "       [55.40784 ],\n",
              "       [56.070107],\n",
              "       [56.83556 ],\n",
              "       [56.99469 ],\n",
              "       [56.736805],\n",
              "       [57.53863 ],\n",
              "       [57.724827],\n",
              "       [57.62743 ],\n",
              "       [58.295773],\n",
              "       [58.653603],\n",
              "       [58.808033],\n",
              "       [58.29623 ],\n",
              "       [58.475628],\n",
              "       [58.40682 ],\n",
              "       [58.578777],\n",
              "       [59.564476],\n",
              "       [59.43715 ],\n",
              "       [59.710674],\n",
              "       [59.378216],\n",
              "       [60.014027],\n",
              "       [59.76579 ],\n",
              "       [59.90296 ],\n",
              "       [60.113194],\n",
              "       [60.397808],\n",
              "       [58.84654 ],\n",
              "       [58.754303],\n",
              "       [57.844975],\n",
              "       [57.60442 ],\n",
              "       [57.351505],\n",
              "       [57.0051  ],\n",
              "       [56.88834 ],\n",
              "       [57.08739 ],\n",
              "       [57.37866 ],\n",
              "       [57.287533],\n",
              "       [57.030125],\n",
              "       [56.541256],\n",
              "       [55.535656],\n",
              "       [55.439426],\n",
              "       [55.220028],\n",
              "       [55.9273  ],\n",
              "       [54.50645 ],\n",
              "       [54.00073 ],\n",
              "       [53.478123],\n",
              "       [53.85602 ],\n",
              "       [54.16624 ],\n",
              "       [54.11111 ],\n",
              "       [54.294178],\n",
              "       [54.18691 ],\n",
              "       [54.38959 ],\n",
              "       [54.97481 ],\n",
              "       [54.763927],\n",
              "       [55.042187],\n",
              "       [54.58442 ],\n",
              "       [54.802242],\n",
              "       [54.085762],\n",
              "       [54.08922 ],\n",
              "       [53.64567 ],\n",
              "       [53.137215],\n",
              "       [53.08444 ],\n",
              "       [53.283337],\n",
              "       [53.039013],\n",
              "       [53.576588],\n",
              "       [54.330944],\n",
              "       [55.206738],\n",
              "       [54.47836 ],\n",
              "       [54.304928],\n",
              "       [53.973213],\n",
              "       [53.65774 ],\n",
              "       [54.66898 ],\n",
              "       [54.875202],\n",
              "       [55.460247],\n",
              "       [55.66263 ],\n",
              "       [55.6383  ],\n",
              "       [55.736423],\n",
              "       [56.123093],\n",
              "       [55.88396 ],\n",
              "       [55.32194 ],\n",
              "       [55.126205],\n",
              "       [56.34577 ],\n",
              "       [56.730396],\n",
              "       [57.560818],\n",
              "       [57.196236],\n",
              "       [57.017204],\n",
              "       [57.033306],\n",
              "       [57.848362],\n",
              "       [58.930576],\n",
              "       [59.022717],\n",
              "       [59.378902],\n",
              "       [59.038437],\n",
              "       [59.348293],\n",
              "       [59.28213 ],\n",
              "       [58.64317 ],\n",
              "       [58.047703],\n",
              "       [58.441864],\n",
              "       [58.248783],\n",
              "       [57.917004],\n",
              "       [57.84318 ],\n",
              "       [57.596836],\n",
              "       [57.49691 ],\n",
              "       [56.66659 ],\n",
              "       [55.93189 ],\n",
              "       [55.56686 ],\n",
              "       [54.775154],\n",
              "       [54.571476],\n",
              "       [54.377556],\n",
              "       [54.314278],\n",
              "       [54.86053 ],\n",
              "       [55.32337 ],\n",
              "       [55.64457 ],\n",
              "       [55.626835],\n",
              "       [55.56125 ],\n",
              "       [55.811497],\n",
              "       [56.594326],\n",
              "       [56.945324],\n",
              "       [57.002705],\n",
              "       [58.04246 ],\n",
              "       [57.567154],\n",
              "       [57.67992 ],\n",
              "       [58.132523],\n",
              "       [59.1727  ],\n",
              "       [60.12619 ],\n",
              "       [60.862743],\n",
              "       [61.139217],\n",
              "       [60.056698],\n",
              "       [60.071392],\n",
              "       [61.009075],\n",
              "       [61.410892],\n",
              "       [62.209953],\n",
              "       [62.79286 ],\n",
              "       [63.0187  ],\n",
              "       [63.221233],\n",
              "       [63.28782 ],\n",
              "       [63.22112 ],\n",
              "       [62.931248],\n",
              "       [63.829678],\n",
              "       [64.24079 ],\n",
              "       [64.35571 ],\n",
              "       [64.61154 ],\n",
              "       [64.791016],\n",
              "       [64.75216 ],\n",
              "       [65.01749 ],\n",
              "       [65.28197 ],\n",
              "       [65.166374],\n",
              "       [65.171684],\n",
              "       [65.23548 ],\n",
              "       [65.16299 ],\n",
              "       [65.13333 ],\n",
              "       [65.174225],\n",
              "       [65.16714 ],\n",
              "       [65.171616],\n",
              "       [65.036545],\n",
              "       [65.23832 ],\n",
              "       [65.183395],\n",
              "       [64.73973 ],\n",
              "       [64.66608 ],\n",
              "       [64.46029 ],\n",
              "       [63.715714],\n",
              "       [62.80576 ]], dtype=float32)"
            ]
          },
          "metadata": {
            "tags": []
          },
          "execution_count": 44
        }
      ]
    },
    {
      "cell_type": "code",
      "metadata": {
        "id": "bapz26PD8MCW",
        "colab_type": "code",
        "colab": {
          "base_uri": "https://localhost:8080/",
          "height": 282
        },
        "outputId": "af065ce0-88b8-4f07-f620-3bd475f4b3fa"
      },
      "source": [
        "plt.plot(range(len(X_test_sc)),model2.predict(X_test_sc).flat)\n",
        "plt.plot(range(len(X_test_sc)),y_test)"
      ],
      "execution_count": 45,
      "outputs": [
        {
          "output_type": "execute_result",
          "data": {
            "text/plain": [
              "[<matplotlib.lines.Line2D at 0x7efd61317a20>]"
            ]
          },
          "metadata": {
            "tags": []
          },
          "execution_count": 45
        },
        {
          "output_type": "display_data",
          "data": {
            "image/png": "[encoded data removed]",
            "text/plain": [
              "<Figure size 432x288 with 1 Axes>"
            ]
          },
          "metadata": {
            "tags": [],
            "needs_background": "light"
          }
        }
      ]
    },
    {
      "cell_type": "code",
      "metadata": {
        "id": "U97YydSL8P8E",
        "colab_type": "code",
        "colab": {}
      },
      "source": [
        ""
      ],
      "execution_count": 45,
      "outputs": []
    }
  ]
}