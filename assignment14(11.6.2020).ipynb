{
 "cells": [
  {
   "cell_type": "markdown",
   "metadata": {},
   "source": [
    "### CSE-221710309028-KONDA SAI MEGHANA"
   ]
  },
  {
   "cell_type": "markdown",
   "metadata": {},
   "source": [
    "Question 1: https://www.codechef.com/problems/RECNDSTR\n"
   ]
  },
  {
   "cell_type": "code",
   "execution_count": 1,
   "metadata": {},
   "outputs": [
    {
     "name": "stdout",
     "output_type": "stream",
     "text": [
      "4\n",
      "a\n",
      "ab\n",
      "abcd\n",
      "aaaaa\n",
      "YES\n",
      "YES\n",
      "NO\n",
      "YES\n"
     ]
    }
   ],
   "source": [
    "def L(x):\n",
    "    return x[1:]+x[0]\n",
    "def R(x):\n",
    "    return x[len(x)-1]+x[0:len(x)-1]\n",
    "t=int(input())\n",
    "list1=[input() for i in range(t)]\n",
    "for i in list1:\n",
    "    print(\"YES\") if L(i) == R(i) else print(\"NO\")"
   ]
  },
  {
   "cell_type": "markdown",
   "metadata": {},
   "source": [
    "Question 2: https://www.hackerrank.com/challenges/beautiful-days-at-the-movies/problem"
   ]
  },
  {
   "cell_type": "code",
   "execution_count": 3,
   "metadata": {},
   "outputs": [
    {
     "name": "stdout",
     "output_type": "stream",
     "text": [
      "20 23 6\n",
      "2\n"
     ]
    }
   ],
   "source": [
    "i,j,k=map(int,input().split())\n",
    "c=0\n",
    "for n in range(i,j+1):\n",
    "    if((n-int(str(n)[::-1]))%2==0):\n",
    "        c+=1\n",
    "print(c)"
   ]
  },
  {
   "cell_type": "markdown",
   "metadata": {},
   "source": [
    "Question 3: https://www.hackerrank.com/challenges/birthday-cake-candles/problem"
   ]
  },
  {
   "cell_type": "code",
   "execution_count": 4,
   "metadata": {},
   "outputs": [
    {
     "name": "stdout",
     "output_type": "stream",
     "text": [
      "4\n",
      "3 2 1 3\n",
      "2\n"
     ]
    }
   ],
   "source": [
    "n=int(input())\n",
    "a=list(map(int,input().split()))\n",
    "print(a.count(max(a)))"
   ]
  },
  {
   "cell_type": "markdown",
   "metadata": {},
   "source": [
    "Question 4:\n",
    "Sample Input : 1,2,1 Sample Output: 211,3\n",
    "\n",
    "Sample Input:1,2,1,4 Sample output:4211,12"
   ]
  },
  {
   "cell_type": "code",
   "execution_count": 5,
   "metadata": {},
   "outputs": [
    {
     "name": "stdout",
     "output_type": "stream",
     "text": [
      "1,2,1,4\n",
      "421,12\n"
     ]
    }
   ],
   "source": [
    "import itertools as it\n",
    "a=list(map(str,input().split(',')))\n",
    "p = it.permutations(a, 3)\n",
    "x = list(set(p))               \n",
    "l = []\n",
    "for i in x:                          \n",
    "    p = ''.join(i)                   \n",
    "    l.append(int(p))\n",
    "l.sort()\n",
    "print(str(l[-1])+','+str(len(l)))"
   ]
  },
  {
   "cell_type": "markdown",
   "metadata": {},
   "source": [
    "Question 5:\n",
    "Sample input : 124 Sample Output : 545\n",
    "\n",
    "Sample input:195 Sample output: 9339"
   ]
  },
  {
   "cell_type": "code",
   "execution_count": 6,
   "metadata": {},
   "outputs": [
    {
     "name": "stdout",
     "output_type": "stream",
     "text": [
      "195\n",
      "9339\n"
     ]
    }
   ],
   "source": [
    "n=int(input())\n",
    "while(True):\n",
    "    n=str(n)\n",
    "    if(n ==n[::-1]):\n",
    "        print(n)\n",
    "        break\n",
    "    else:\n",
    "        n=int(n)+int(n[::-1])"
   ]
  },
  {
   "cell_type": "markdown",
   "metadata": {},
   "source": [
    "Question 6: https://www.codechef.com/problems/SLAEL"
   ]
  },
  {
   "cell_type": "code",
   "execution_count": 1,
   "metadata": {},
   "outputs": [
    {
     "name": "stdout",
     "output_type": "stream",
     "text": [
      "2\n",
      "2 5\n",
      "2 7 8\n",
      "output:\n",
      " 2 \n",
      "\n",
      "2 5\n",
      "2 4 2 5 2 5 6 9\n",
      "output:\n",
      " 2 \n",
      "\n"
     ]
    }
   ],
   "source": [
    "t=int(input())\n",
    "while(t>0):\n",
    "    n,k=map(int,input().split())\n",
    "    a=list(map(int,input().split()))\n",
    "    gre=0\n",
    "    l=0\n",
    "    pos=-1\n",
    "    long=0\n",
    "    for i in range(n):\n",
    "        if a[i]>k and gre!=0 and a[i]!=gre:\n",
    "            gre = a[i]\n",
    "            if long<l:\n",
    "                long=l\n",
    "            l = i - pos\n",
    "            pos=i\n",
    "            continue\n",
    "        elif a[i]>k:\n",
    "            gre = a[i]\n",
    "            pos=i\n",
    "        l+=1\n",
    "    if long<l:\n",
    "        long=l\n",
    "    t-=1\n",
    "    print(\"output:\\n\",long,\"\\n\")"
   ]
  },
  {
   "cell_type": "markdown",
   "metadata": {},
   "source": []
  }
 ],
 "metadata": {
  "kernelspec": {
   "display_name": "Python 3",
   "language": "python",
   "name": "python3"
  },
  "language_info": {
   "codemirror_mode": {
    "name": "ipython",
    "version": 3
   },
   "file_extension": ".py",
   "mimetype": "text/x-python",
   "name": "python",
   "nbconvert_exporter": "python",
   "pygments_lexer": "ipython3",
   "version": "3.7.3"
  }
 },
 "nbformat": 4,
 "nbformat_minor": 2
}
