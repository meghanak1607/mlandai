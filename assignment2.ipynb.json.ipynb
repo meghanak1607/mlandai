{
 "cells": [
  {
   "cell_type": "code",
   "execution_count": 1,
   "metadata": {},
   "outputs": [
    {
     "name": "stdout",
     "output_type": "stream",
     "text": [
      "enter the string meghana\"123\"\n",
      "no of vowels: 3\n",
      "no of consonants: 4\n",
      "no of spl char: 5\n"
     ]
    }
   ],
   "source": [
    "#1\n",
    "\n",
    "s = input(\"enter the string \") \n",
    "vcount = 0\n",
    "ccount = 0\n",
    "scount = 0 \n",
    "for i in range(0,len(s)):    \n",
    "    if s[i] in (\"a\",\"e\",\"i\",\"o\",\"u\"):  \n",
    "        vcount = vcount + 1 \n",
    "    elif (s[i] >= 'a' and s[i] <= 'z'):  \n",
    "        ccount = ccount + 1  \n",
    "    else:\n",
    "        scount = scount + 1 \n",
    "print(\"no of vowels:\",vcount)  \n",
    "print(\"no of consonants:\",ccount)  \n",
    "print(\"no of spl char:\",scount)"
   ]
  },
  {
   "cell_type": "code",
   "execution_count": 4,
   "metadata": {},
   "outputs": [
    {
     "name": "stdout",
     "output_type": "stream",
     "text": [
      "abbaaccbbaaa\n",
      "the value of c: 3\n"
     ]
    }
   ],
   "source": [
    "#2\n",
    "\n",
    "x=input()\n",
    "c=0\n",
    "li=list(x)\n",
    "for i in range(0,len(li)-1):\n",
    "        if(li[i]=='a' and li[i+1]=='a'):\n",
    "         c+=1\n",
    "print(\"the value of c:\",c)"
   ]
  },
  {
   "cell_type": "code",
   "execution_count": 6,
   "metadata": {},
   "outputs": [
    {
     "name": "stdout",
     "output_type": "stream",
     "text": [
      "enter the string((((()()()))))()\n",
      "Number of parentheses 8\n"
     ]
    }
   ],
   "source": [
    "#3\n",
    "\n",
    "s=input(\"enter the string\")\n",
    "def check(str):\n",
    "    stack = []\n",
    "    sum = 0\n",
    "    openlist = [\"(\"]\n",
    "    for i in str:\n",
    "        if i in openlist:\n",
    "            stack.append(i)\n",
    "        else :\n",
    "            stack.pop()\n",
    "            sum += 1\n",
    "    print(\"Number of parentheses\", sum)\n",
    "check(s)"
   ]
  },
  {
   "cell_type": "code",
   "execution_count": 8,
   "metadata": {},
   "outputs": [
    {
     "name": "stdout",
     "output_type": "stream",
     "text": [
      "1\n",
      "100\n",
      "18\n"
     ]
    }
   ],
   "source": [
    "#4\n",
    "\n",
    "def isPalindrome(n: int) -> bool: \n",
    "    rev = 0\n",
    "    i = n \n",
    "    while i > 0: \n",
    "        rev = rev * 10 + i % 10\n",
    "        i //= 10 \n",
    "    return (n == rev) \n",
    "\n",
    "def countPal(minn: int, maxx: int) -> None: \n",
    "    c=0\n",
    "    for i in range(minn, maxx + 1): \n",
    "        if isPalindrome(i): \n",
    "            c+=1 \n",
    "    print(c)\n",
    "x=int(input())\n",
    "y=int(input())\n",
    "countPal(x,y)"
   ]
  },
  {
   "cell_type": "code",
   "execution_count": 12,
   "metadata": {},
   "outputs": [
    {
     "name": "stdout",
     "output_type": "stream",
     "text": [
      "127\n",
      "848\n"
     ]
    }
   ],
   "source": [
    "#5\n",
    "\n",
    "n = int(input())\n",
    "while True:\n",
    "    if str(n) == str(n)[::-1]:\n",
    "        print(str(n)[::-1])\n",
    "        break\n",
    "    else:\n",
    "        n += int(str(n)[::-1])"
   ]
  },
  {
   "cell_type": "code",
   "execution_count": 13,
   "metadata": {},
   "outputs": [
    {
     "name": "stdout",
     "output_type": "stream",
     "text": [
      "enter a stringAppli123cation456\n",
      "21\n"
     ]
    }
   ],
   "source": [
    "#7\n",
    "\n",
    "def sumofdigitsofstring(str1):\n",
    "    sum_digit = 0\n",
    "    for x in str1:\n",
    "        if x.isdigit() == True:\n",
    "            z = int(x)\n",
    "            sum_digit = sum_digit + z\n",
    "\n",
    "    return sum_digit\n",
    "     \n",
    "print(sumofdigitsofstring(input(\"enter a string\")))"
   ]
  },
  {
   "cell_type": "code",
   "execution_count": 15,
   "metadata": {},
   "outputs": [
    {
     "name": "stdout",
     "output_type": "stream",
     "text": [
      "Enter Score: 0.65\n",
      "D\n"
     ]
    }
   ],
   "source": [
    "#8\n",
    "\n",
    "score = input(\"Enter Score: \")\n",
    "s =  float(score)\n",
    "x = 'Error'\n",
    "if s >= 0.9:\n",
    "    x = 'A'\n",
    "elif s >=0.8:\n",
    "    x='B'\n",
    "elif s >=0.7:\n",
    "    x='C'\n",
    "elif s >= 0.6:\n",
    "    x='D'\n",
    "elif s < .6:\n",
    "    x ='F'\n",
    "else:\n",
    "    x =\"Out of Range\"\n",
    "print (x)"
   ]
  },
  {
   "cell_type": "code",
   "execution_count": 16,
   "metadata": {},
   "outputs": [
    {
     "name": "stdout",
     "output_type": "stream",
     "text": [
      "fizzbuzz\n",
      "1\n",
      "2\n",
      "fizz\n",
      "4\n",
      "buzz\n",
      "fizz\n",
      "7\n",
      "8\n",
      "fizz\n",
      "buzz\n",
      "11\n",
      "fizz\n",
      "13\n",
      "14\n",
      "fizzbuzz\n",
      "16\n",
      "17\n",
      "fizz\n",
      "19\n",
      "buzz\n",
      "fizz\n",
      "22\n",
      "23\n",
      "fizz\n",
      "buzz\n",
      "26\n",
      "fizz\n",
      "28\n",
      "29\n",
      "fizzbuzz\n",
      "31\n",
      "32\n",
      "fizz\n",
      "34\n",
      "buzz\n",
      "fizz\n",
      "37\n",
      "38\n",
      "fizz\n",
      "buzz\n",
      "41\n",
      "fizz\n",
      "43\n",
      "44\n",
      "fizzbuzz\n",
      "46\n",
      "47\n",
      "fizz\n",
      "49\n",
      "buzz\n"
     ]
    }
   ],
   "source": [
    "for fizzbuzz in range(51):\n",
    "    if fizzbuzz % 3 == 0 and fizzbuzz % 5 == 0:\n",
    "        print(\"fizzbuzz\")\n",
    "        continue\n",
    "    elif fizzbuzz % 3 == 0:\n",
    "        print(\"fizz\")\n",
    "        continue\n",
    "    elif fizzbuzz % 5 == 0:\n",
    "        print(\"buzz\")\n",
    "        continue\n",
    "    print(fizzbuzz)"
   ]
  },
  {
   "cell_type": "code",
   "execution_count": 17,
   "metadata": {},
   "outputs": [
    {
     "name": "stdout",
     "output_type": "stream",
     "text": [
      "give the first number26\n",
      "give the second number15\n",
      "give the third number29\n",
      "Median of the above three numbers is\n",
      "26\n"
     ]
    }
   ],
   "source": [
    "#10\n",
    "\n",
    "x = input(\"give the first number\")\n",
    "y = input(\"give the second number\")\n",
    "z = input(\"give the third number\")\n",
    "print(\"Median of the above three numbers is\")\n",
    "\n",
    "if y < x and x < z:\n",
    "    print(x)\n",
    "elif z < x and x < y:\n",
    "    print(x)\n",
    "    \n",
    "elif z < y and y < x:\n",
    "    print(y)\n",
    "elif x < y and y < z:\n",
    "    print(y)\n",
    "    \n",
    "elif y < z and z < x:\n",
    "    print(z)    \n",
    "elif x < z and z < y:\n",
    "    print(z)"
   ]
  },
  {
   "cell_type": "code",
   "execution_count": 19,
   "metadata": {},
   "outputs": [
    {
     "name": "stdout",
     "output_type": "stream",
     "text": [
      "enter the string:orange\n",
      "puboif\n"
     ]
    }
   ],
   "source": [
    "#6\n",
    "\n",
    "s=input(\"enter the string:\")\n",
    "s=s.replace(s[0],\"p\")\n",
    "s=s.replace(s[1],\"u\")\n",
    "s=s.replace(s[2],\"b\")\n",
    "s=s.replace(s[3],\"o\")\n",
    "s=s.replace(s[4],\"i\")\n",
    "s=s.replace(s[5],\"f\")\n",
    "print(s)"
   ]
  },
  {
   "cell_type": "code",
   "execution_count": null,
   "metadata": {},
   "outputs": [],
   "source": []
  }
 ],
 "metadata": {
  "kernelspec": {
   "display_name": "Python 3",
   "language": "python",
   "name": "python3"
  },
  "language_info": {
   "codemirror_mode": {
    "name": "ipython",
    "version": 3
   },
   "file_extension": ".py",
   "mimetype": "text/x-python",
   "name": "python",
   "nbconvert_exporter": "python",
   "pygments_lexer": "ipython3",
   "version": "3.7.6"
  }
 },
 "nbformat": 4,
 "nbformat_minor": 4
}
