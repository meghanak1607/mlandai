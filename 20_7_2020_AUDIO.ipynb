{
  "nbformat": 4,
  "nbformat_minor": 0,
  "metadata": {
    "colab": {
      "name": "20-7-2020-AUDIO",
      "provenance": []
    },
    "kernelspec": {
      "name": "python3",
      "display_name": "Python 3"
    }
  },
  "cells": [
    {
      "cell_type": "markdown",
      "metadata": {
        "id": "KeZXwBUpQIol",
        "colab_type": "text"
      },
      "source": [
        "[Audio Preprocessing](https://www.kdnuggets.com/2020/02/audio-data-analysis-deep-learning-python-part-1.html)<br>\n",
        "[librosa](https://medium.com/@patrickbfuller/librosa-a-python-audio-libary-60014eeaccfb)"
      ]
    },
    {
      "cell_type": "code",
      "metadata": {
        "id": "bNgFZMSu8Xc1",
        "colab_type": "code",
        "colab": {}
      },
      "source": [
        "# audio preprocessing\n",
        "import librosa\n",
        "import librosa.display\n",
        "import numpy as np\n",
        "import matplotlib.pyplot as plt\n",
        "import tensorflow as tf\n",
        "from matplotlib.pyplot import specgram\n",
        "import keras\n",
        "from keras.preprocessing import sequence\n",
        "from keras.models import Sequential\n",
        "from keras.layers import Dense, Embedding\n",
        "from keras.layers import LSTM\n",
        "from keras.preprocessing.text import Tokenizer\n",
        "from keras.preprocessing.sequence import pad_sequences\n",
        "from keras.utils import to_categorical\n",
        "from keras.layers import Input, Flatten, Dropout, Activation\n",
        "from keras.layers import Conv1D, MaxPooling1D, AveragePooling1D\n",
        "from keras.models import Model\n",
        "from keras.callbacks import ModelCheckpoint\n",
        "from sklearn.metrics import confusion_matrix"
      ],
      "execution_count": 52,
      "outputs": []
    },
    {
      "cell_type": "code",
      "metadata": {
        "id": "oRnb_ruLasEA",
        "colab_type": "code",
        "colab": {
          "base_uri": "https://localhost:8080/",
          "height": 139
        },
        "outputId": "b4ab4940-4aea-4423-864e-10a357798935"
      },
      "source": [
        "#mounting\n",
        "from google.colab import drive\n",
        "drive.mount('/gdrive')\n",
        "%cd /gdrive"
      ],
      "execution_count": 5,
      "outputs": [
        {
          "output_type": "stream",
          "text": [
            "Go to this URL in a browser: https://accounts.google.com/o/oauth2/auth?client_id=947318989803-6bn6qk8qdgf4n4g3pfee6491hc0brc4i.apps.googleusercontent.com&redirect_uri=urn%3aietf%3awg%3aoauth%3a2.0%3aoob&response_type=code&scope=email%20https%3a%2f%2fwww.googleapis.com%2fauth%2fdocs.test%20https%3a%2f%2fwww.googleapis.com%2fauth%2fdrive%20https%3a%2f%2fwww.googleapis.com%2fauth%2fdrive.photos.readonly%20https%3a%2f%2fwww.googleapis.com%2fauth%2fpeopleapi.readonly\n",
            "\n",
            "Enter your authorization code:\n",
            "··········\n",
            "Mounted at /gdrive\n",
            "/gdrive\n"
          ],
          "name": "stdout"
        }
      ]
    },
    {
      "cell_type": "code",
      "metadata": {
        "id": "T4aXx9pXgIJb",
        "colab_type": "code",
        "colab": {
          "base_uri": "https://localhost:8080/",
          "height": 34
        },
        "outputId": "c55aadb2-de9a-428c-b681-d869f5bc0e6d"
      },
      "source": [
        "!ls"
      ],
      "execution_count": 7,
      "outputs": [
        {
          "output_type": "stream",
          "text": [
            "'My Drive'\n"
          ],
          "name": "stdout"
        }
      ]
    },
    {
      "cell_type": "code",
      "metadata": {
        "id": "JgCjSakIgSVp",
        "colab_type": "code",
        "colab": {
          "base_uri": "https://localhost:8080/",
          "height": 119
        },
        "outputId": "ea62ca97-5c45-4931-f3bd-16ea39c94871"
      },
      "source": [
        "!ls 'My Drive'"
      ],
      "execution_count": 9,
      "outputs": [
        {
          "output_type": "stream",
          "text": [
            " 2020\t\t\t\t   'INTERNSHIP PROJECT-221710309028.gsite'\n",
            "'CD INTERNAL-2'\t\t\t   'INTERNSHIP PROJECT.zip'\n",
            "'CD LAB INTERNAL-2-converted.pdf'  'SUMMER INTERNSHIP'\n",
            "'Colab Notebooks'\t\t    Untitled0.ipynb\n",
            "'Getting started.pdf'\t\t   'WT INTERNAL-2'\n",
            "'INTERNSHIP PROJECT '\n"
          ],
          "name": "stdout"
        }
      ]
    },
    {
      "cell_type": "code",
      "metadata": {
        "id": "KSEqibfpgSYz",
        "colab_type": "code",
        "colab": {
          "base_uri": "https://localhost:8080/",
          "height": 85
        },
        "outputId": "75f59eed-b1d2-489a-9d42-cf1751006e3e"
      },
      "source": [
        "!ls 'My Drive/SUMMER INTERNSHIP'"
      ],
      "execution_count": 17,
      "outputs": [
        {
          "output_type": "stream",
          "text": [
            "'10-7-2020 , 11-7-2020.ipynb'   9-7-2020.ipynb\t     Info.txt\n",
            " 14-7-2020\t\t        all_stocks_5yr.csv   titanic.csv\n",
            " 15-7-2020.ipynb\t        AudioData\t     Untitled0.ipynb\n",
            " 20-06-2020.ipynb\t       'Colab Notebooks'\n"
          ],
          "name": "stdout"
        }
      ]
    },
    {
      "cell_type": "code",
      "metadata": {
        "id": "7USFWR0qjCtq",
        "colab_type": "code",
        "colab": {
          "base_uri": "https://localhost:8080/",
          "height": 34
        },
        "outputId": "4bef6066-d5e2-4d07-d481-dc2bceac440e"
      },
      "source": [
        "!ls 'My Drive/SUMMER INTERNSHIP/AudioData'"
      ],
      "execution_count": 18,
      "outputs": [
        {
          "output_type": "stream",
          "text": [
            "DC  Info.txt  JE  JK  KL\n"
          ],
          "name": "stdout"
        }
      ]
    },
    {
      "cell_type": "code",
      "metadata": {
        "id": "lZNlUMJP9NL9",
        "colab_type": "code",
        "colab": {
          "base_uri": "https://localhost:8080/",
          "height": 34
        },
        "outputId": "39a6a543-bf3a-447b-a5ce-8f99e3d19f84"
      },
      "source": [
        "import os\n",
        "os.listdir('My Drive/SUMMER INTERNSHIP/AudioData')"
      ],
      "execution_count": 53,
      "outputs": [
        {
          "output_type": "execute_result",
          "data": {
            "text/plain": [
              "['Info.txt', 'JE', 'DC', 'KL', 'JK']"
            ]
          },
          "metadata": {
            "tags": []
          },
          "execution_count": 53
        }
      ]
    },
    {
      "cell_type": "code",
      "metadata": {
        "id": "3aN69BWI-POM",
        "colab_type": "code",
        "colab": {}
      },
      "source": [
        "sample_file = 'My Drive/SUMMER INTERNSHIP/AudioData/DC/a01.wav'"
      ],
      "execution_count": 54,
      "outputs": []
    },
    {
      "cell_type": "code",
      "metadata": {
        "id": "_Ash7SK1-ass",
        "colab_type": "code",
        "colab": {}
      },
      "source": [
        "data, sampling_rate = librosa.load(sample_file)"
      ],
      "execution_count": 55,
      "outputs": []
    },
    {
      "cell_type": "code",
      "metadata": {
        "id": "P3R1zSHbAEvk",
        "colab_type": "code",
        "colab": {
          "base_uri": "https://localhost:8080/",
          "height": 34
        },
        "outputId": "6f8f3b3b-abd7-4747-cca2-c091322a0456"
      },
      "source": [
        "data.shape"
      ],
      "execution_count": 56,
      "outputs": [
        {
          "output_type": "execute_result",
          "data": {
            "text/plain": [
              "(80434,)"
            ]
          },
          "metadata": {
            "tags": []
          },
          "execution_count": 56
        }
      ]
    },
    {
      "cell_type": "code",
      "metadata": {
        "id": "UHPxiFfAaMMG",
        "colab_type": "code",
        "colab": {
          "base_uri": "https://localhost:8080/",
          "height": 68
        },
        "outputId": "05d205ba-a217-41c2-9161-6611a0335278"
      },
      "source": [
        "data[:10]"
      ],
      "execution_count": 57,
      "outputs": [
        {
          "output_type": "execute_result",
          "data": {
            "text/plain": [
              "array([0.03537439, 0.05184603, 0.04569934, 0.04965753, 0.04663509,\n",
              "       0.04879001, 0.04705136, 0.04866577, 0.04766231, 0.04865323],\n",
              "      dtype=float32)"
            ]
          },
          "metadata": {
            "tags": []
          },
          "execution_count": 57
        }
      ]
    },
    {
      "cell_type": "code",
      "metadata": {
        "id": "XMheCAEcaMPQ",
        "colab_type": "code",
        "colab": {
          "base_uri": "https://localhost:8080/",
          "height": 34
        },
        "outputId": "6c75a287-b560-47c3-b5dd-6de275672e0d"
      },
      "source": [
        "print(type(data))"
      ],
      "execution_count": 58,
      "outputs": [
        {
          "output_type": "stream",
          "text": [
            "<class 'numpy.ndarray'>\n"
          ],
          "name": "stdout"
        }
      ]
    },
    {
      "cell_type": "code",
      "metadata": {
        "id": "C7y61F1R-O5i",
        "colab_type": "code",
        "colab": {
          "base_uri": "https://localhost:8080/",
          "height": 371
        },
        "outputId": "8f605703-357f-4fa0-fc25-9cdae80be387"
      },
      "source": [
        "% pylab inline\n",
        "import os\n",
        "import pandas as pd\n",
        "import librosa\n",
        "import glob \n",
        "\n",
        "plt.figure(figsize=(15, 5))\n",
        "librosa.display.waveplot(data, sr=sampling_rate)"
      ],
      "execution_count": 59,
      "outputs": [
        {
          "output_type": "stream",
          "text": [
            "Populating the interactive namespace from numpy and matplotlib\n"
          ],
          "name": "stdout"
        },
        {
          "output_type": "execute_result",
          "data": {
            "text/plain": [
              "<matplotlib.collections.PolyCollection at 0x7efc5f6736a0>"
            ]
          },
          "metadata": {
            "tags": []
          },
          "execution_count": 59
        },
        {
          "output_type": "display_data",
          "data": {
            "image/png": "[encoded data removed]",
            "text/plain": [
              "<Figure size 1080x360 with 1 Axes>"
            ]
          },
          "metadata": {
            "tags": [],
            "needs_background": "light"
          }
        }
      ]
    },
    {
      "cell_type": "code",
      "metadata": {
        "id": "st96yvXn_b4b",
        "colab_type": "code",
        "colab": {
          "base_uri": "https://localhost:8080/",
          "height": 34
        },
        "outputId": "f92902a4-76f6-41c7-ae7c-a778f0cbd08e"
      },
      "source": [
        "base_path = 'My Drive/SUMMER INTERNSHIP/AudioData'\n",
        "folders = [fol  for fol in os.listdir(base_path) if os.path.isdir(base_path+'/'+fol)]\n",
        "folders"
      ],
      "execution_count": 60,
      "outputs": [
        {
          "output_type": "execute_result",
          "data": {
            "text/plain": [
              "['JE', 'DC', 'KL', 'JK']"
            ]
          },
          "metadata": {
            "tags": []
          },
          "execution_count": 60
        }
      ]
    },
    {
      "cell_type": "code",
      "metadata": {
        "id": "wvMXD8dk8nA6",
        "colab_type": "code",
        "colab": {
          "base_uri": "https://localhost:8080/",
          "height": 85
        },
        "outputId": "3858e0bd-f363-4d35-cdf0-4f25d5cc80c3"
      },
      "source": [
        "df = pd.DataFrame(columns=['feature'])\n",
        "bookmark=0\n",
        "for cls,per in enumerate(folders):\n",
        "  print(cls,per)\n",
        "  for name in os.listdir(base_path+'/'+per):\n",
        "        X, sample_rate = librosa.load(base_path+'/'+per+'/'+name, res_type='kaiser_fast',duration=2.5,sr=22050*2,offset=0.5)\n",
        "        sample_rate = np.array(sample_rate)\n",
        "        mfccs = np.mean(librosa.feature.mfcc(y=X, \n",
        "                                            sr=sample_rate, \n",
        "                                            n_mfcc=13),\n",
        "                        axis=0)\n",
        "        feature = mfccs\n",
        "        feature = np.append(feature,cls)\n",
        "        #[float(i) for i in feature]\n",
        "        #feature1=feature[:135]\n",
        "        df.loc[bookmark] = [feature]\n",
        "        bookmark=bookmark+1"
      ],
      "execution_count": 61,
      "outputs": [
        {
          "output_type": "stream",
          "text": [
            "0 JE\n",
            "1 DC\n",
            "2 KL\n",
            "3 JK\n"
          ],
          "name": "stdout"
        }
      ]
    },
    {
      "cell_type": "code",
      "metadata": {
        "id": "M_Rm2MPw_7ej",
        "colab_type": "code",
        "colab": {
          "base_uri": "https://localhost:8080/",
          "height": 34
        },
        "outputId": "956512a9-fab2-438f-b85a-93e73c4b53b8"
      },
      "source": [
        "df.shape"
      ],
      "execution_count": 62,
      "outputs": [
        {
          "output_type": "execute_result",
          "data": {
            "text/plain": [
              "(480, 1)"
            ]
          },
          "metadata": {
            "tags": []
          },
          "execution_count": 62
        }
      ]
    },
    {
      "cell_type": "code",
      "metadata": {
        "id": "4tvshQGzAft1",
        "colab_type": "code",
        "colab": {
          "base_uri": "https://localhost:8080/",
          "height": 34
        },
        "outputId": "e3f66019-6d3c-4657-81ac-81ba1a390b09"
      },
      "source": [
        "df.iloc[0][0].shape"
      ],
      "execution_count": 63,
      "outputs": [
        {
          "output_type": "execute_result",
          "data": {
            "text/plain": [
              "(217,)"
            ]
          },
          "metadata": {
            "tags": []
          },
          "execution_count": 63
        }
      ]
    },
    {
      "cell_type": "code",
      "metadata": {
        "id": "fmg0KYFDAl0M",
        "colab_type": "code",
        "colab": {
          "base_uri": "https://localhost:8080/",
          "height": 129
        },
        "outputId": "5072dbce-0239-4de5-952f-7f0a03d9e006"
      },
      "source": [
        "df2 = pd.DataFrame(df['feature'].values.tolist())\n",
        "df2.sample()"
      ],
      "execution_count": 64,
      "outputs": [
        {
          "output_type": "execute_result",
          "data": {
            "text/html": [
              "<div>\n",
              "<style scoped>\n",
              "    .dataframe tbody tr th:only-of-type {\n",
              "        vertical-align: middle;\n",
              "    }\n",
              "\n",
              "    .dataframe tbody tr th {\n",
              "        vertical-align: top;\n",
              "    }\n",
              "\n",
              "    .dataframe thead th {\n",
              "        text-align: right;\n",
              "    }\n",
              "</style>\n",
              "<table border=\"1\" class=\"dataframe\">\n",
              "  <thead>\n",
              "    <tr style=\"text-align: right;\">\n",
              "      <th></th>\n",
              "      <th>0</th>\n",
              "      <th>1</th>\n",
              "      <th>2</th>\n",
              "      <th>3</th>\n",
              "      <th>4</th>\n",
              "      <th>5</th>\n",
              "      <th>6</th>\n",
              "      <th>7</th>\n",
              "      <th>8</th>\n",
              "      <th>9</th>\n",
              "      <th>10</th>\n",
              "      <th>11</th>\n",
              "      <th>12</th>\n",
              "      <th>13</th>\n",
              "      <th>14</th>\n",
              "      <th>15</th>\n",
              "      <th>16</th>\n",
              "      <th>17</th>\n",
              "      <th>18</th>\n",
              "      <th>19</th>\n",
              "      <th>20</th>\n",
              "      <th>21</th>\n",
              "      <th>22</th>\n",
              "      <th>23</th>\n",
              "      <th>24</th>\n",
              "      <th>25</th>\n",
              "      <th>26</th>\n",
              "      <th>27</th>\n",
              "      <th>28</th>\n",
              "      <th>29</th>\n",
              "      <th>30</th>\n",
              "      <th>31</th>\n",
              "      <th>32</th>\n",
              "      <th>33</th>\n",
              "      <th>34</th>\n",
              "      <th>35</th>\n",
              "      <th>36</th>\n",
              "      <th>37</th>\n",
              "      <th>38</th>\n",
              "      <th>39</th>\n",
              "      <th>...</th>\n",
              "      <th>177</th>\n",
              "      <th>178</th>\n",
              "      <th>179</th>\n",
              "      <th>180</th>\n",
              "      <th>181</th>\n",
              "      <th>182</th>\n",
              "      <th>183</th>\n",
              "      <th>184</th>\n",
              "      <th>185</th>\n",
              "      <th>186</th>\n",
              "      <th>187</th>\n",
              "      <th>188</th>\n",
              "      <th>189</th>\n",
              "      <th>190</th>\n",
              "      <th>191</th>\n",
              "      <th>192</th>\n",
              "      <th>193</th>\n",
              "      <th>194</th>\n",
              "      <th>195</th>\n",
              "      <th>196</th>\n",
              "      <th>197</th>\n",
              "      <th>198</th>\n",
              "      <th>199</th>\n",
              "      <th>200</th>\n",
              "      <th>201</th>\n",
              "      <th>202</th>\n",
              "      <th>203</th>\n",
              "      <th>204</th>\n",
              "      <th>205</th>\n",
              "      <th>206</th>\n",
              "      <th>207</th>\n",
              "      <th>208</th>\n",
              "      <th>209</th>\n",
              "      <th>210</th>\n",
              "      <th>211</th>\n",
              "      <th>212</th>\n",
              "      <th>213</th>\n",
              "      <th>214</th>\n",
              "      <th>215</th>\n",
              "      <th>216</th>\n",
              "    </tr>\n",
              "  </thead>\n",
              "  <tbody>\n",
              "    <tr>\n",
              "      <th>45</th>\n",
              "      <td>-23.748592</td>\n",
              "      <td>-23.477313</td>\n",
              "      <td>-23.201062</td>\n",
              "      <td>-23.71716</td>\n",
              "      <td>-24.866948</td>\n",
              "      <td>-24.500246</td>\n",
              "      <td>-24.717987</td>\n",
              "      <td>-26.241764</td>\n",
              "      <td>-24.310605</td>\n",
              "      <td>-18.677279</td>\n",
              "      <td>-13.350149</td>\n",
              "      <td>-8.691108</td>\n",
              "      <td>-7.76233</td>\n",
              "      <td>-9.249946</td>\n",
              "      <td>-12.140405</td>\n",
              "      <td>-13.455601</td>\n",
              "      <td>-15.234362</td>\n",
              "      <td>-13.42532</td>\n",
              "      <td>-11.662603</td>\n",
              "      <td>-10.366176</td>\n",
              "      <td>-9.77049</td>\n",
              "      <td>-9.365436</td>\n",
              "      <td>-9.214626</td>\n",
              "      <td>-8.28305</td>\n",
              "      <td>-8.213719</td>\n",
              "      <td>-7.490833</td>\n",
              "      <td>-7.464036</td>\n",
              "      <td>-6.888051</td>\n",
              "      <td>-6.338921</td>\n",
              "      <td>-9.633187</td>\n",
              "      <td>-14.610095</td>\n",
              "      <td>-17.525532</td>\n",
              "      <td>-18.675514</td>\n",
              "      <td>-21.4141</td>\n",
              "      <td>-22.615935</td>\n",
              "      <td>-24.930519</td>\n",
              "      <td>-26.888277</td>\n",
              "      <td>-26.909517</td>\n",
              "      <td>-14.477511</td>\n",
              "      <td>-7.938904</td>\n",
              "      <td>...</td>\n",
              "      <td>-24.528988</td>\n",
              "      <td>-24.782714</td>\n",
              "      <td>-25.564102</td>\n",
              "      <td>-25.095865</td>\n",
              "      <td>-26.016133</td>\n",
              "      <td>-18.518111</td>\n",
              "      <td>-7.60351</td>\n",
              "      <td>-3.478956</td>\n",
              "      <td>-2.498846</td>\n",
              "      <td>-3.565743</td>\n",
              "      <td>-4.559902</td>\n",
              "      <td>-5.843228</td>\n",
              "      <td>-5.442528</td>\n",
              "      <td>-4.881884</td>\n",
              "      <td>-4.143209</td>\n",
              "      <td>-4.249359</td>\n",
              "      <td>-5.415396</td>\n",
              "      <td>-2.970753</td>\n",
              "      <td>-3.060978</td>\n",
              "      <td>-4.777836</td>\n",
              "      <td>-8.77761</td>\n",
              "      <td>-15.177336</td>\n",
              "      <td>-17.694931</td>\n",
              "      <td>-18.931657</td>\n",
              "      <td>-13.515185</td>\n",
              "      <td>-6.090336</td>\n",
              "      <td>-3.281091</td>\n",
              "      <td>-4.307053</td>\n",
              "      <td>-5.086831</td>\n",
              "      <td>-4.832728</td>\n",
              "      <td>-4.833125</td>\n",
              "      <td>-4.605915</td>\n",
              "      <td>-5.307411</td>\n",
              "      <td>-4.971161</td>\n",
              "      <td>-4.504255</td>\n",
              "      <td>-3.880652</td>\n",
              "      <td>-4.201306</td>\n",
              "      <td>-2.499244</td>\n",
              "      <td>-0.009995</td>\n",
              "      <td>0.0</td>\n",
              "    </tr>\n",
              "  </tbody>\n",
              "</table>\n",
              "<p>1 rows × 217 columns</p>\n",
              "</div>"
            ],
            "text/plain": [
              "          0          1          2    ...       214       215  216\n",
              "45 -23.748592 -23.477313 -23.201062  ... -2.499244 -0.009995  0.0\n",
              "\n",
              "[1 rows x 217 columns]"
            ]
          },
          "metadata": {
            "tags": []
          },
          "execution_count": 64
        }
      ]
    },
    {
      "cell_type": "code",
      "metadata": {
        "id": "tSE9zZLmNsDl",
        "colab_type": "code",
        "colab": {}
      },
      "source": [
        "df2 = df2.dropna()"
      ],
      "execution_count": 65,
      "outputs": []
    },
    {
      "cell_type": "code",
      "metadata": {
        "id": "yNad8ESgBbwp",
        "colab_type": "code",
        "colab": {
          "base_uri": "https://localhost:8080/",
          "height": 34
        },
        "outputId": "0c5dd5fc-8bfa-4247-a089-bc090bb9cee1"
      },
      "source": [
        "df2[216].value_counts().sum()"
      ],
      "execution_count": 66,
      "outputs": [
        {
          "output_type": "execute_result",
          "data": {
            "text/plain": [
              "377"
            ]
          },
          "metadata": {
            "tags": []
          },
          "execution_count": 66
        }
      ]
    },
    {
      "cell_type": "code",
      "metadata": {
        "id": "tBdkfFzuMNXg",
        "colab_type": "code",
        "colab": {
          "base_uri": "https://localhost:8080/",
          "height": 34
        },
        "outputId": "27994ad8-ce95-453f-cf7d-6e5562e13f93"
      },
      "source": [
        "df2[216].isnull().sum()"
      ],
      "execution_count": 67,
      "outputs": [
        {
          "output_type": "execute_result",
          "data": {
            "text/plain": [
              "0"
            ]
          },
          "metadata": {
            "tags": []
          },
          "execution_count": 67
        }
      ]
    },
    {
      "cell_type": "code",
      "metadata": {
        "id": "nrng_pjmBj9t",
        "colab_type": "code",
        "colab": {
          "base_uri": "https://localhost:8080/",
          "height": 34
        },
        "outputId": "a0c260fc-4400-494b-d308-9bbff0033a65"
      },
      "source": [
        "df2.shape"
      ],
      "execution_count": 68,
      "outputs": [
        {
          "output_type": "execute_result",
          "data": {
            "text/plain": [
              "(377, 217)"
            ]
          },
          "metadata": {
            "tags": []
          },
          "execution_count": 68
        }
      ]
    },
    {
      "cell_type": "code",
      "metadata": {
        "id": "wvdVlndcBpZ5",
        "colab_type": "code",
        "colab": {
          "base_uri": "https://localhost:8080/",
          "height": 253
        },
        "outputId": "bf63b2f6-688a-436e-d3a0-5ef2179710ab"
      },
      "source": [
        "new_df = df2.rename(columns={216: \"label\"})\n",
        "new_df.head()"
      ],
      "execution_count": 69,
      "outputs": [
        {
          "output_type": "execute_result",
          "data": {
            "text/html": [
              "<div>\n",
              "<style scoped>\n",
              "    .dataframe tbody tr th:only-of-type {\n",
              "        vertical-align: middle;\n",
              "    }\n",
              "\n",
              "    .dataframe tbody tr th {\n",
              "        vertical-align: top;\n",
              "    }\n",
              "\n",
              "    .dataframe thead th {\n",
              "        text-align: right;\n",
              "    }\n",
              "</style>\n",
              "<table border=\"1\" class=\"dataframe\">\n",
              "  <thead>\n",
              "    <tr style=\"text-align: right;\">\n",
              "      <th></th>\n",
              "      <th>0</th>\n",
              "      <th>1</th>\n",
              "      <th>2</th>\n",
              "      <th>3</th>\n",
              "      <th>4</th>\n",
              "      <th>5</th>\n",
              "      <th>6</th>\n",
              "      <th>7</th>\n",
              "      <th>8</th>\n",
              "      <th>9</th>\n",
              "      <th>10</th>\n",
              "      <th>11</th>\n",
              "      <th>12</th>\n",
              "      <th>13</th>\n",
              "      <th>14</th>\n",
              "      <th>15</th>\n",
              "      <th>16</th>\n",
              "      <th>17</th>\n",
              "      <th>18</th>\n",
              "      <th>19</th>\n",
              "      <th>20</th>\n",
              "      <th>21</th>\n",
              "      <th>22</th>\n",
              "      <th>23</th>\n",
              "      <th>24</th>\n",
              "      <th>25</th>\n",
              "      <th>26</th>\n",
              "      <th>27</th>\n",
              "      <th>28</th>\n",
              "      <th>29</th>\n",
              "      <th>30</th>\n",
              "      <th>31</th>\n",
              "      <th>32</th>\n",
              "      <th>33</th>\n",
              "      <th>34</th>\n",
              "      <th>35</th>\n",
              "      <th>36</th>\n",
              "      <th>37</th>\n",
              "      <th>38</th>\n",
              "      <th>39</th>\n",
              "      <th>...</th>\n",
              "      <th>177</th>\n",
              "      <th>178</th>\n",
              "      <th>179</th>\n",
              "      <th>180</th>\n",
              "      <th>181</th>\n",
              "      <th>182</th>\n",
              "      <th>183</th>\n",
              "      <th>184</th>\n",
              "      <th>185</th>\n",
              "      <th>186</th>\n",
              "      <th>187</th>\n",
              "      <th>188</th>\n",
              "      <th>189</th>\n",
              "      <th>190</th>\n",
              "      <th>191</th>\n",
              "      <th>192</th>\n",
              "      <th>193</th>\n",
              "      <th>194</th>\n",
              "      <th>195</th>\n",
              "      <th>196</th>\n",
              "      <th>197</th>\n",
              "      <th>198</th>\n",
              "      <th>199</th>\n",
              "      <th>200</th>\n",
              "      <th>201</th>\n",
              "      <th>202</th>\n",
              "      <th>203</th>\n",
              "      <th>204</th>\n",
              "      <th>205</th>\n",
              "      <th>206</th>\n",
              "      <th>207</th>\n",
              "      <th>208</th>\n",
              "      <th>209</th>\n",
              "      <th>210</th>\n",
              "      <th>211</th>\n",
              "      <th>212</th>\n",
              "      <th>213</th>\n",
              "      <th>214</th>\n",
              "      <th>215</th>\n",
              "      <th>label</th>\n",
              "    </tr>\n",
              "  </thead>\n",
              "  <tbody>\n",
              "    <tr>\n",
              "      <th>0</th>\n",
              "      <td>3.529949</td>\n",
              "      <td>3.393502</td>\n",
              "      <td>1.581122</td>\n",
              "      <td>0.117455</td>\n",
              "      <td>-2.944852</td>\n",
              "      <td>-3.056374</td>\n",
              "      <td>-1.175403</td>\n",
              "      <td>-2.136643</td>\n",
              "      <td>-4.292749</td>\n",
              "      <td>-5.937324</td>\n",
              "      <td>-8.973770</td>\n",
              "      <td>-12.228952</td>\n",
              "      <td>-6.162340</td>\n",
              "      <td>-2.286926</td>\n",
              "      <td>-1.037475</td>\n",
              "      <td>-1.951216</td>\n",
              "      <td>-2.222021</td>\n",
              "      <td>-1.371666</td>\n",
              "      <td>-1.078009</td>\n",
              "      <td>-0.176724</td>\n",
              "      <td>-0.226750</td>\n",
              "      <td>-1.527521</td>\n",
              "      <td>-1.988343</td>\n",
              "      <td>-4.377648</td>\n",
              "      <td>-6.453167</td>\n",
              "      <td>-9.793393</td>\n",
              "      <td>-13.693820</td>\n",
              "      <td>-16.433676</td>\n",
              "      <td>-18.825826</td>\n",
              "      <td>-18.045779</td>\n",
              "      <td>-14.304377</td>\n",
              "      <td>-4.622837</td>\n",
              "      <td>0.149225</td>\n",
              "      <td>-0.634171</td>\n",
              "      <td>-2.008656</td>\n",
              "      <td>-3.513512</td>\n",
              "      <td>-4.723314</td>\n",
              "      <td>-4.757633</td>\n",
              "      <td>-5.637652</td>\n",
              "      <td>-5.445764</td>\n",
              "      <td>...</td>\n",
              "      <td>-26.520170</td>\n",
              "      <td>-24.762242</td>\n",
              "      <td>-23.020624</td>\n",
              "      <td>-18.458028</td>\n",
              "      <td>-13.908728</td>\n",
              "      <td>-10.333147</td>\n",
              "      <td>-7.374277</td>\n",
              "      <td>-6.486392</td>\n",
              "      <td>-6.859358</td>\n",
              "      <td>-7.239401</td>\n",
              "      <td>-6.605263</td>\n",
              "      <td>-8.052280</td>\n",
              "      <td>-9.013007</td>\n",
              "      <td>-8.072264</td>\n",
              "      <td>-6.643629</td>\n",
              "      <td>-6.462305</td>\n",
              "      <td>-6.937569</td>\n",
              "      <td>-9.000449</td>\n",
              "      <td>-10.025121</td>\n",
              "      <td>-8.818044</td>\n",
              "      <td>-9.844581</td>\n",
              "      <td>-10.489114</td>\n",
              "      <td>-10.257322</td>\n",
              "      <td>-9.158682</td>\n",
              "      <td>-8.059568</td>\n",
              "      <td>-8.446144</td>\n",
              "      <td>-8.687167</td>\n",
              "      <td>-8.110723</td>\n",
              "      <td>-7.476902</td>\n",
              "      <td>-7.376308</td>\n",
              "      <td>-7.628752</td>\n",
              "      <td>-6.795522</td>\n",
              "      <td>-6.259950</td>\n",
              "      <td>-5.866019</td>\n",
              "      <td>-5.707147</td>\n",
              "      <td>-5.065527</td>\n",
              "      <td>-4.295856</td>\n",
              "      <td>2.169405</td>\n",
              "      <td>7.545353</td>\n",
              "      <td>0.0</td>\n",
              "    </tr>\n",
              "    <tr>\n",
              "      <th>1</th>\n",
              "      <td>-24.170094</td>\n",
              "      <td>-24.094661</td>\n",
              "      <td>-9.601142</td>\n",
              "      <td>-3.714322</td>\n",
              "      <td>0.797293</td>\n",
              "      <td>1.858434</td>\n",
              "      <td>-1.265900</td>\n",
              "      <td>-3.732545</td>\n",
              "      <td>-4.196689</td>\n",
              "      <td>-5.403189</td>\n",
              "      <td>-5.124485</td>\n",
              "      <td>-5.469441</td>\n",
              "      <td>-8.698426</td>\n",
              "      <td>-12.781067</td>\n",
              "      <td>-10.162155</td>\n",
              "      <td>-8.299360</td>\n",
              "      <td>-4.959671</td>\n",
              "      <td>-3.070056</td>\n",
              "      <td>-3.430014</td>\n",
              "      <td>-5.201535</td>\n",
              "      <td>-4.622440</td>\n",
              "      <td>-2.491305</td>\n",
              "      <td>-1.452581</td>\n",
              "      <td>-3.860088</td>\n",
              "      <td>-6.562961</td>\n",
              "      <td>-7.930981</td>\n",
              "      <td>-6.321495</td>\n",
              "      <td>-5.292420</td>\n",
              "      <td>-5.257919</td>\n",
              "      <td>-5.137785</td>\n",
              "      <td>-5.269797</td>\n",
              "      <td>-5.619560</td>\n",
              "      <td>-3.867031</td>\n",
              "      <td>-2.934800</td>\n",
              "      <td>-2.913081</td>\n",
              "      <td>-5.081114</td>\n",
              "      <td>-10.583761</td>\n",
              "      <td>-14.018868</td>\n",
              "      <td>-16.256629</td>\n",
              "      <td>-17.175667</td>\n",
              "      <td>...</td>\n",
              "      <td>-24.460299</td>\n",
              "      <td>-23.765543</td>\n",
              "      <td>-24.569724</td>\n",
              "      <td>-25.877028</td>\n",
              "      <td>-26.477489</td>\n",
              "      <td>-26.631025</td>\n",
              "      <td>-28.372223</td>\n",
              "      <td>-26.997070</td>\n",
              "      <td>-26.283700</td>\n",
              "      <td>-27.126463</td>\n",
              "      <td>-26.104533</td>\n",
              "      <td>-27.481027</td>\n",
              "      <td>-27.492673</td>\n",
              "      <td>-25.431814</td>\n",
              "      <td>-25.381361</td>\n",
              "      <td>-24.917548</td>\n",
              "      <td>-23.053988</td>\n",
              "      <td>-22.077476</td>\n",
              "      <td>-21.619407</td>\n",
              "      <td>-21.848994</td>\n",
              "      <td>-20.785571</td>\n",
              "      <td>-20.997079</td>\n",
              "      <td>-24.328142</td>\n",
              "      <td>-24.275333</td>\n",
              "      <td>-25.353506</td>\n",
              "      <td>-22.977321</td>\n",
              "      <td>-23.786736</td>\n",
              "      <td>-24.796406</td>\n",
              "      <td>-24.237703</td>\n",
              "      <td>-22.844766</td>\n",
              "      <td>-23.453355</td>\n",
              "      <td>-26.091680</td>\n",
              "      <td>-24.624404</td>\n",
              "      <td>-23.409434</td>\n",
              "      <td>-23.891389</td>\n",
              "      <td>-23.145431</td>\n",
              "      <td>-23.774141</td>\n",
              "      <td>-24.094874</td>\n",
              "      <td>-22.963107</td>\n",
              "      <td>0.0</td>\n",
              "    </tr>\n",
              "    <tr>\n",
              "      <th>3</th>\n",
              "      <td>-25.458699</td>\n",
              "      <td>-25.307367</td>\n",
              "      <td>-26.562066</td>\n",
              "      <td>-25.635848</td>\n",
              "      <td>-24.413176</td>\n",
              "      <td>-24.330746</td>\n",
              "      <td>-25.231881</td>\n",
              "      <td>-24.310298</td>\n",
              "      <td>-24.332099</td>\n",
              "      <td>-20.944345</td>\n",
              "      <td>-15.979261</td>\n",
              "      <td>-5.539458</td>\n",
              "      <td>-1.756211</td>\n",
              "      <td>-0.161437</td>\n",
              "      <td>-0.274833</td>\n",
              "      <td>-2.412469</td>\n",
              "      <td>-5.660424</td>\n",
              "      <td>-8.970177</td>\n",
              "      <td>-10.744764</td>\n",
              "      <td>-12.576181</td>\n",
              "      <td>-12.843405</td>\n",
              "      <td>-13.609522</td>\n",
              "      <td>-13.780352</td>\n",
              "      <td>-14.411007</td>\n",
              "      <td>-13.463338</td>\n",
              "      <td>-10.353508</td>\n",
              "      <td>-8.922226</td>\n",
              "      <td>-9.859529</td>\n",
              "      <td>-6.433242</td>\n",
              "      <td>-4.854305</td>\n",
              "      <td>-8.181603</td>\n",
              "      <td>-11.434088</td>\n",
              "      <td>-11.670716</td>\n",
              "      <td>-8.565809</td>\n",
              "      <td>-7.373743</td>\n",
              "      <td>-7.185267</td>\n",
              "      <td>-4.975200</td>\n",
              "      <td>-3.933481</td>\n",
              "      <td>-3.654960</td>\n",
              "      <td>-4.448780</td>\n",
              "      <td>...</td>\n",
              "      <td>0.367393</td>\n",
              "      <td>-0.158724</td>\n",
              "      <td>-0.616696</td>\n",
              "      <td>-1.267337</td>\n",
              "      <td>-2.047972</td>\n",
              "      <td>-2.826475</td>\n",
              "      <td>-4.094759</td>\n",
              "      <td>-5.985270</td>\n",
              "      <td>-8.207567</td>\n",
              "      <td>-9.457543</td>\n",
              "      <td>-10.795895</td>\n",
              "      <td>-11.896204</td>\n",
              "      <td>-11.147610</td>\n",
              "      <td>-11.859442</td>\n",
              "      <td>-17.699827</td>\n",
              "      <td>-20.339299</td>\n",
              "      <td>-21.564096</td>\n",
              "      <td>-22.112553</td>\n",
              "      <td>-22.755406</td>\n",
              "      <td>-24.880546</td>\n",
              "      <td>-25.788028</td>\n",
              "      <td>-26.505943</td>\n",
              "      <td>-26.111740</td>\n",
              "      <td>-26.400599</td>\n",
              "      <td>-27.348649</td>\n",
              "      <td>-27.729517</td>\n",
              "      <td>-28.141801</td>\n",
              "      <td>-26.481350</td>\n",
              "      <td>-27.682820</td>\n",
              "      <td>-28.726685</td>\n",
              "      <td>-27.912122</td>\n",
              "      <td>-28.625142</td>\n",
              "      <td>-27.510296</td>\n",
              "      <td>-26.547950</td>\n",
              "      <td>-26.880675</td>\n",
              "      <td>-25.819318</td>\n",
              "      <td>-27.104844</td>\n",
              "      <td>-27.745132</td>\n",
              "      <td>-25.859411</td>\n",
              "      <td>0.0</td>\n",
              "    </tr>\n",
              "    <tr>\n",
              "      <th>4</th>\n",
              "      <td>-25.082708</td>\n",
              "      <td>-25.211529</td>\n",
              "      <td>-10.960526</td>\n",
              "      <td>-2.494657</td>\n",
              "      <td>-0.711743</td>\n",
              "      <td>-0.107495</td>\n",
              "      <td>1.349230</td>\n",
              "      <td>2.382443</td>\n",
              "      <td>2.559838</td>\n",
              "      <td>-1.681059</td>\n",
              "      <td>-7.731854</td>\n",
              "      <td>-13.696166</td>\n",
              "      <td>-13.500442</td>\n",
              "      <td>-13.598779</td>\n",
              "      <td>-14.571177</td>\n",
              "      <td>-15.117069</td>\n",
              "      <td>-18.433275</td>\n",
              "      <td>-20.404400</td>\n",
              "      <td>-20.638127</td>\n",
              "      <td>-21.622236</td>\n",
              "      <td>-23.330882</td>\n",
              "      <td>-23.508355</td>\n",
              "      <td>-21.635039</td>\n",
              "      <td>-21.065160</td>\n",
              "      <td>-12.081862</td>\n",
              "      <td>-5.228182</td>\n",
              "      <td>-1.319949</td>\n",
              "      <td>-1.447118</td>\n",
              "      <td>-5.244732</td>\n",
              "      <td>-5.935609</td>\n",
              "      <td>-3.983313</td>\n",
              "      <td>-4.677837</td>\n",
              "      <td>-6.355636</td>\n",
              "      <td>-4.663865</td>\n",
              "      <td>-0.224138</td>\n",
              "      <td>2.877790</td>\n",
              "      <td>0.539785</td>\n",
              "      <td>-5.361162</td>\n",
              "      <td>-5.508417</td>\n",
              "      <td>-3.996268</td>\n",
              "      <td>...</td>\n",
              "      <td>-0.702761</td>\n",
              "      <td>-1.914688</td>\n",
              "      <td>-2.737974</td>\n",
              "      <td>-0.978604</td>\n",
              "      <td>-0.945886</td>\n",
              "      <td>-0.462286</td>\n",
              "      <td>-0.192789</td>\n",
              "      <td>-0.918264</td>\n",
              "      <td>-3.140287</td>\n",
              "      <td>-4.228290</td>\n",
              "      <td>-5.543325</td>\n",
              "      <td>-7.504154</td>\n",
              "      <td>-9.443468</td>\n",
              "      <td>-15.092895</td>\n",
              "      <td>-18.300844</td>\n",
              "      <td>-20.470281</td>\n",
              "      <td>-22.440068</td>\n",
              "      <td>-23.762655</td>\n",
              "      <td>-24.293551</td>\n",
              "      <td>-24.787956</td>\n",
              "      <td>-24.515277</td>\n",
              "      <td>-24.634491</td>\n",
              "      <td>-26.463796</td>\n",
              "      <td>-28.088424</td>\n",
              "      <td>-26.549329</td>\n",
              "      <td>-25.644560</td>\n",
              "      <td>-26.490921</td>\n",
              "      <td>-26.936973</td>\n",
              "      <td>-25.805706</td>\n",
              "      <td>-25.769703</td>\n",
              "      <td>-25.222925</td>\n",
              "      <td>-22.785147</td>\n",
              "      <td>-23.360131</td>\n",
              "      <td>-22.886477</td>\n",
              "      <td>-21.424888</td>\n",
              "      <td>-22.595119</td>\n",
              "      <td>-23.384199</td>\n",
              "      <td>-23.606464</td>\n",
              "      <td>-25.523274</td>\n",
              "      <td>0.0</td>\n",
              "    </tr>\n",
              "    <tr>\n",
              "      <th>5</th>\n",
              "      <td>-23.049968</td>\n",
              "      <td>-24.298283</td>\n",
              "      <td>-24.185276</td>\n",
              "      <td>-24.487664</td>\n",
              "      <td>-25.568799</td>\n",
              "      <td>-25.687105</td>\n",
              "      <td>-26.123712</td>\n",
              "      <td>-24.602636</td>\n",
              "      <td>-25.202267</td>\n",
              "      <td>-26.601837</td>\n",
              "      <td>-26.052129</td>\n",
              "      <td>-25.760680</td>\n",
              "      <td>-23.779370</td>\n",
              "      <td>-24.826245</td>\n",
              "      <td>-21.656409</td>\n",
              "      <td>-10.903756</td>\n",
              "      <td>-4.612804</td>\n",
              "      <td>-0.905796</td>\n",
              "      <td>-0.489042</td>\n",
              "      <td>-3.510225</td>\n",
              "      <td>-4.843920</td>\n",
              "      <td>-4.776575</td>\n",
              "      <td>-3.896817</td>\n",
              "      <td>-1.118703</td>\n",
              "      <td>1.415768</td>\n",
              "      <td>3.258394</td>\n",
              "      <td>3.865701</td>\n",
              "      <td>2.837688</td>\n",
              "      <td>1.499175</td>\n",
              "      <td>-0.194277</td>\n",
              "      <td>-0.042299</td>\n",
              "      <td>1.628584</td>\n",
              "      <td>1.758420</td>\n",
              "      <td>1.480264</td>\n",
              "      <td>0.018137</td>\n",
              "      <td>-0.757888</td>\n",
              "      <td>-4.692052</td>\n",
              "      <td>-7.712433</td>\n",
              "      <td>-9.336185</td>\n",
              "      <td>-8.384862</td>\n",
              "      <td>...</td>\n",
              "      <td>-27.375927</td>\n",
              "      <td>-27.087344</td>\n",
              "      <td>-26.469028</td>\n",
              "      <td>-25.504972</td>\n",
              "      <td>-25.783763</td>\n",
              "      <td>-26.752507</td>\n",
              "      <td>-28.576862</td>\n",
              "      <td>-26.418393</td>\n",
              "      <td>-23.404754</td>\n",
              "      <td>-22.578277</td>\n",
              "      <td>-23.582924</td>\n",
              "      <td>-23.703609</td>\n",
              "      <td>-24.314102</td>\n",
              "      <td>-23.892382</td>\n",
              "      <td>-22.459217</td>\n",
              "      <td>-22.658796</td>\n",
              "      <td>-22.217412</td>\n",
              "      <td>-23.160272</td>\n",
              "      <td>-23.441745</td>\n",
              "      <td>-23.218764</td>\n",
              "      <td>-22.870157</td>\n",
              "      <td>-23.837919</td>\n",
              "      <td>-23.260596</td>\n",
              "      <td>-24.535108</td>\n",
              "      <td>-25.359171</td>\n",
              "      <td>-24.588881</td>\n",
              "      <td>-24.519231</td>\n",
              "      <td>-24.202710</td>\n",
              "      <td>-24.573931</td>\n",
              "      <td>-24.965921</td>\n",
              "      <td>-24.096915</td>\n",
              "      <td>-24.228190</td>\n",
              "      <td>-26.121644</td>\n",
              "      <td>-25.542942</td>\n",
              "      <td>-25.426656</td>\n",
              "      <td>-26.528731</td>\n",
              "      <td>-25.089244</td>\n",
              "      <td>-26.521565</td>\n",
              "      <td>-29.673118</td>\n",
              "      <td>0.0</td>\n",
              "    </tr>\n",
              "  </tbody>\n",
              "</table>\n",
              "<p>5 rows × 217 columns</p>\n",
              "</div>"
            ],
            "text/plain": [
              "           0          1          2  ...        214        215  label\n",
              "0   3.529949   3.393502   1.581122  ...   2.169405   7.545353    0.0\n",
              "1 -24.170094 -24.094661  -9.601142  ... -24.094874 -22.963107    0.0\n",
              "3 -25.458699 -25.307367 -26.562066  ... -27.745132 -25.859411    0.0\n",
              "4 -25.082708 -25.211529 -10.960526  ... -23.606464 -25.523274    0.0\n",
              "5 -23.049968 -24.298283 -24.185276  ... -26.521565 -29.673118    0.0\n",
              "\n",
              "[5 rows x 217 columns]"
            ]
          },
          "metadata": {
            "tags": []
          },
          "execution_count": 69
        }
      ]
    },
    {
      "cell_type": "code",
      "metadata": {
        "id": "X-jCVErmJJSC",
        "colab_type": "code",
        "colab": {
          "base_uri": "https://localhost:8080/",
          "height": 34
        },
        "outputId": "a69f7fd1-ec33-4baa-e8d1-51b2d6b4d1d2"
      },
      "source": [
        "from sklearn.model_selection import train_test_split\n",
        "X_train,X_test,y_train,y_test = train_test_split(new_df.drop('label',axis=1),new_df['label'],random_state=5)\n",
        "print(X_train.shape)"
      ],
      "execution_count": 70,
      "outputs": [
        {
          "output_type": "stream",
          "text": [
            "(282, 216)\n"
          ],
          "name": "stdout"
        }
      ]
    },
    {
      "cell_type": "code",
      "metadata": {
        "id": "E1NgVj8KJ7uK",
        "colab_type": "code",
        "colab": {
          "base_uri": "https://localhost:8080/",
          "height": 102
        },
        "outputId": "624cd041-ba10-4d50-fa58-ab5271a3d9b5"
      },
      "source": [
        "y_train.value_counts(normalize=True)"
      ],
      "execution_count": 71,
      "outputs": [
        {
          "output_type": "execute_result",
          "data": {
            "text/plain": [
              "0.0    0.283688\n",
              "3.0    0.262411\n",
              "1.0    0.255319\n",
              "2.0    0.198582\n",
              "Name: label, dtype: float64"
            ]
          },
          "metadata": {
            "tags": []
          },
          "execution_count": 71
        }
      ]
    },
    {
      "cell_type": "code",
      "metadata": {
        "id": "js98Y3YvKCI8",
        "colab_type": "code",
        "colab": {
          "base_uri": "https://localhost:8080/",
          "height": 102
        },
        "outputId": "a3605fea-17a8-4bf0-9155-b3876b54a420"
      },
      "source": [
        "y_test.value_counts(normalize=True)"
      ],
      "execution_count": 72,
      "outputs": [
        {
          "output_type": "execute_result",
          "data": {
            "text/plain": [
              "3.0    0.315789\n",
              "0.0    0.294737\n",
              "1.0    0.242105\n",
              "2.0    0.147368\n",
              "Name: label, dtype: float64"
            ]
          },
          "metadata": {
            "tags": []
          },
          "execution_count": 72
        }
      ]
    },
    {
      "cell_type": "code",
      "metadata": {
        "id": "rGXDzfM2nt9W",
        "colab_type": "code",
        "colab": {
          "base_uri": "https://localhost:8080/",
          "height": 68
        },
        "outputId": "a8dc34cb-27e2-4295-faca-27d7f75340e0"
      },
      "source": [
        "from sklearn.neighbors import KNeighborsClassifier\n",
        "knn= KNeighborsClassifier()\n",
        "knn.fit(X_train,y_train)"
      ],
      "execution_count": 85,
      "outputs": [
        {
          "output_type": "execute_result",
          "data": {
            "text/plain": [
              "KNeighborsClassifier(algorithm='auto', leaf_size=30, metric='minkowski',\n",
              "                     metric_params=None, n_jobs=None, n_neighbors=5, p=2,\n",
              "                     weights='uniform')"
            ]
          },
          "metadata": {
            "tags": []
          },
          "execution_count": 85
        }
      ]
    },
    {
      "cell_type": "code",
      "metadata": {
        "id": "YLXUrK5qn-ng",
        "colab_type": "code",
        "colab": {
          "base_uri": "https://localhost:8080/",
          "height": 34
        },
        "outputId": "25243b42-55c6-469e-bd75-65abbf496903"
      },
      "source": [
        "from sklearn.metrics import accuracy_score\n",
        "y_train_pred = knn.predict(X_train)\n",
        "accuracy_score(y_train,y_train_pred)"
      ],
      "execution_count": 86,
      "outputs": [
        {
          "output_type": "execute_result",
          "data": {
            "text/plain": [
              "0.6347517730496454"
            ]
          },
          "metadata": {
            "tags": []
          },
          "execution_count": 86
        }
      ]
    },
    {
      "cell_type": "code",
      "metadata": {
        "id": "kpnPZ6T6o0jm",
        "colab_type": "code",
        "colab": {
          "base_uri": "https://localhost:8080/",
          "height": 34
        },
        "outputId": "fccd92b5-8e26-44bf-839e-56dbef26d764"
      },
      "source": [
        "#testing\n",
        "from sklearn.metrics import accuracy_score\n",
        "y_test_pred = knn.predict(X_test)\n",
        "accuracy_score(y_test,y_test_pred)"
      ],
      "execution_count": 87,
      "outputs": [
        {
          "output_type": "execute_result",
          "data": {
            "text/plain": [
              "0.5052631578947369"
            ]
          },
          "metadata": {
            "tags": []
          },
          "execution_count": 87
        }
      ]
    },
    {
      "cell_type": "markdown",
      "metadata": {
        "id": "ABPwhbKWrTni",
        "colab_type": "text"
      },
      "source": [
        "ANN"
      ]
    },
    {
      "cell_type": "code",
      "metadata": {
        "id": "lcuws0XyKGhQ",
        "colab_type": "code",
        "colab": {}
      },
      "source": [
        "from keras.utils import to_categorical\n",
        "from sklearn.preprocessing import LabelEncoder\n",
        "\n",
        "y_train_cat = to_categorical(y_train)\n",
        "y_test_cat = to_categorical(y_test)"
      ],
      "execution_count": 88,
      "outputs": []
    },
    {
      "cell_type": "code",
      "metadata": {
        "id": "Xi_uvKJvrINm",
        "colab_type": "code",
        "colab": {
          "base_uri": "https://localhost:8080/",
          "height": 544
        },
        "outputId": "024f63ef-bfd1-4329-bd6d-520fc324773a"
      },
      "source": [
        "y_train_cat"
      ],
      "execution_count": 89,
      "outputs": [
        {
          "output_type": "execute_result",
          "data": {
            "text/plain": [
              "array([[[1., 0.],\n",
              "        [1., 0.],\n",
              "        [0., 1.],\n",
              "        [1., 0.]],\n",
              "\n",
              "       [[1., 0.],\n",
              "        [1., 0.],\n",
              "        [0., 1.],\n",
              "        [1., 0.]],\n",
              "\n",
              "       [[1., 0.],\n",
              "        [1., 0.],\n",
              "        [1., 0.],\n",
              "        [0., 1.]],\n",
              "\n",
              "       ...,\n",
              "\n",
              "       [[1., 0.],\n",
              "        [0., 1.],\n",
              "        [1., 0.],\n",
              "        [1., 0.]],\n",
              "\n",
              "       [[1., 0.],\n",
              "        [1., 0.],\n",
              "        [0., 1.],\n",
              "        [1., 0.]],\n",
              "\n",
              "       [[1., 0.],\n",
              "        [1., 0.],\n",
              "        [1., 0.],\n",
              "        [0., 1.]]], dtype=float32)"
            ]
          },
          "metadata": {
            "tags": []
          },
          "execution_count": 89
        }
      ]
    },
    {
      "cell_type": "code",
      "metadata": {
        "id": "CRoMxPEtKfcS",
        "colab_type": "code",
        "colab": {
          "base_uri": "https://localhost:8080/",
          "height": 102
        },
        "outputId": "bad9ed4c-9244-4b05-c7e9-f177362a8611"
      },
      "source": [
        "y_train[:5]"
      ],
      "execution_count": 90,
      "outputs": [
        {
          "output_type": "execute_result",
          "data": {
            "text/plain": [
              "array([[0., 0., 1., 0.],\n",
              "       [0., 0., 1., 0.],\n",
              "       [0., 0., 0., 1.],\n",
              "       [0., 0., 0., 1.],\n",
              "       [0., 0., 1., 0.]], dtype=float32)"
            ]
          },
          "metadata": {
            "tags": []
          },
          "execution_count": 90
        }
      ]
    },
    {
      "cell_type": "code",
      "metadata": {
        "id": "nEdHmXMFrWzx",
        "colab_type": "code",
        "colab": {
          "base_uri": "https://localhost:8080/",
          "height": 255
        },
        "outputId": "8a1234a9-51fc-479d-aae1-d4fa843fcaf6"
      },
      "source": [
        "#building the model\n",
        "model_ann = Sequential()\n",
        "model_ann.add(Dense(512,input_shape=(216,),activation='relu'))\n",
        "model_ann.add(Dense(64,activation='relu'))\n",
        "model_ann.add(Dense(4,activation='softmax'))\n",
        "model_ann.summary()"
      ],
      "execution_count": 91,
      "outputs": [
        {
          "output_type": "stream",
          "text": [
            "Model: \"sequential_4\"\n",
            "_________________________________________________________________\n",
            "Layer (type)                 Output Shape              Param #   \n",
            "=================================================================\n",
            "dense_6 (Dense)              (None, 512)               111104    \n",
            "_________________________________________________________________\n",
            "dense_7 (Dense)              (None, 64)                32832     \n",
            "_________________________________________________________________\n",
            "dense_8 (Dense)              (None, 4)                 260       \n",
            "=================================================================\n",
            "Total params: 144,196\n",
            "Trainable params: 144,196\n",
            "Non-trainable params: 0\n",
            "_________________________________________________________________\n"
          ],
          "name": "stdout"
        }
      ]
    },
    {
      "cell_type": "code",
      "metadata": {
        "id": "mCyMnfqjsBYe",
        "colab_type": "code",
        "colab": {}
      },
      "source": [
        "#compiling the model\n",
        "model_ann.compile(optimizer='adam',loss='categorical_crossentropy',metrics=['accuracy'])"
      ],
      "execution_count": 92,
      "outputs": []
    },
    {
      "cell_type": "code",
      "metadata": {
        "id": "P0RmyCRYsSbw",
        "colab_type": "code",
        "colab": {
          "base_uri": "https://localhost:8080/",
          "height": 340
        },
        "outputId": "3bf630dc-400a-4fb9-b1be-56508e4f3143"
      },
      "source": [
        "#train the model\n",
        "model_ann.fit(X_train,y_train_cat,epochs=20,validation_data=(X_test,y_test_cat))"
      ],
      "execution_count": 94,
      "outputs": [
        {
          "output_type": "error",
          "ename": "ValueError",
          "evalue": "ignored",
          "traceback": [
            "\u001b[0;31m---------------------------------------------------------------------------\u001b[0m",
            "\u001b[0;31mValueError\u001b[0m                                Traceback (most recent call last)",
            "\u001b[0;32m<ipython-input-94-f92573e08c40>\u001b[0m in \u001b[0;36m<module>\u001b[0;34m()\u001b[0m\n\u001b[1;32m      1\u001b[0m \u001b[0;31m#train the model\u001b[0m\u001b[0;34m\u001b[0m\u001b[0;34m\u001b[0m\u001b[0;34m\u001b[0m\u001b[0m\n\u001b[0;32m----> 2\u001b[0;31m \u001b[0mmodel_ann\u001b[0m\u001b[0;34m.\u001b[0m\u001b[0mfit\u001b[0m\u001b[0;34m(\u001b[0m\u001b[0mX_train\u001b[0m\u001b[0;34m,\u001b[0m\u001b[0my_train_cat\u001b[0m\u001b[0;34m,\u001b[0m\u001b[0mepochs\u001b[0m\u001b[0;34m=\u001b[0m\u001b[0;36m20\u001b[0m\u001b[0;34m,\u001b[0m\u001b[0mvalidation_data\u001b[0m\u001b[0;34m=\u001b[0m\u001b[0;34m(\u001b[0m\u001b[0mX_test\u001b[0m\u001b[0;34m,\u001b[0m\u001b[0my_test_cat\u001b[0m\u001b[0;34m)\u001b[0m\u001b[0;34m)\u001b[0m\u001b[0;34m\u001b[0m\u001b[0;34m\u001b[0m\u001b[0m\n\u001b[0m",
            "\u001b[0;32m/usr/local/lib/python3.6/dist-packages/keras/engine/training.py\u001b[0m in \u001b[0;36mfit\u001b[0;34m(self, x, y, batch_size, epochs, verbose, callbacks, validation_split, validation_data, shuffle, class_weight, sample_weight, initial_epoch, steps_per_epoch, validation_steps, validation_freq, max_queue_size, workers, use_multiprocessing, **kwargs)\u001b[0m\n\u001b[1;32m   1152\u001b[0m             \u001b[0msample_weight\u001b[0m\u001b[0;34m=\u001b[0m\u001b[0msample_weight\u001b[0m\u001b[0;34m,\u001b[0m\u001b[0;34m\u001b[0m\u001b[0;34m\u001b[0m\u001b[0m\n\u001b[1;32m   1153\u001b[0m             \u001b[0mclass_weight\u001b[0m\u001b[0;34m=\u001b[0m\u001b[0mclass_weight\u001b[0m\u001b[0;34m,\u001b[0m\u001b[0;34m\u001b[0m\u001b[0;34m\u001b[0m\u001b[0m\n\u001b[0;32m-> 1154\u001b[0;31m             batch_size=batch_size)\n\u001b[0m\u001b[1;32m   1155\u001b[0m \u001b[0;34m\u001b[0m\u001b[0m\n\u001b[1;32m   1156\u001b[0m         \u001b[0;31m# Prepare validation data.\u001b[0m\u001b[0;34m\u001b[0m\u001b[0;34m\u001b[0m\u001b[0;34m\u001b[0m\u001b[0m\n",
            "\u001b[0;32m/usr/local/lib/python3.6/dist-packages/keras/engine/training.py\u001b[0m in \u001b[0;36m_standardize_user_data\u001b[0;34m(self, x, y, sample_weight, class_weight, check_array_lengths, batch_size)\u001b[0m\n\u001b[1;32m    619\u001b[0m                 \u001b[0mfeed_output_shapes\u001b[0m\u001b[0;34m,\u001b[0m\u001b[0;34m\u001b[0m\u001b[0;34m\u001b[0m\u001b[0m\n\u001b[1;32m    620\u001b[0m                 \u001b[0mcheck_batch_axis\u001b[0m\u001b[0;34m=\u001b[0m\u001b[0;32mFalse\u001b[0m\u001b[0;34m,\u001b[0m  \u001b[0;31m# Don't enforce the batch size.\u001b[0m\u001b[0;34m\u001b[0m\u001b[0;34m\u001b[0m\u001b[0m\n\u001b[0;32m--> 621\u001b[0;31m                 exception_prefix='target')\n\u001b[0m\u001b[1;32m    622\u001b[0m \u001b[0;34m\u001b[0m\u001b[0m\n\u001b[1;32m    623\u001b[0m             \u001b[0;31m# Generate sample-wise weight values given the `sample_weight` and\u001b[0m\u001b[0;34m\u001b[0m\u001b[0;34m\u001b[0m\u001b[0;34m\u001b[0m\u001b[0m\n",
            "\u001b[0;32m/usr/local/lib/python3.6/dist-packages/keras/engine/training_utils.py\u001b[0m in \u001b[0;36mstandardize_input_data\u001b[0;34m(data, names, shapes, check_batch_axis, exception_prefix)\u001b[0m\n\u001b[1;32m    133\u001b[0m                         \u001b[0;34m': expected '\u001b[0m \u001b[0;34m+\u001b[0m \u001b[0mnames\u001b[0m\u001b[0;34m[\u001b[0m\u001b[0mi\u001b[0m\u001b[0;34m]\u001b[0m \u001b[0;34m+\u001b[0m \u001b[0;34m' to have '\u001b[0m \u001b[0;34m+\u001b[0m\u001b[0;34m\u001b[0m\u001b[0;34m\u001b[0m\u001b[0m\n\u001b[1;32m    134\u001b[0m                         \u001b[0mstr\u001b[0m\u001b[0;34m(\u001b[0m\u001b[0mlen\u001b[0m\u001b[0;34m(\u001b[0m\u001b[0mshape\u001b[0m\u001b[0;34m)\u001b[0m\u001b[0;34m)\u001b[0m \u001b[0;34m+\u001b[0m \u001b[0;34m' dimensions, but got array '\u001b[0m\u001b[0;34m\u001b[0m\u001b[0;34m\u001b[0m\u001b[0m\n\u001b[0;32m--> 135\u001b[0;31m                         'with shape ' + str(data_shape))\n\u001b[0m\u001b[1;32m    136\u001b[0m                 \u001b[0;32mif\u001b[0m \u001b[0;32mnot\u001b[0m \u001b[0mcheck_batch_axis\u001b[0m\u001b[0;34m:\u001b[0m\u001b[0;34m\u001b[0m\u001b[0;34m\u001b[0m\u001b[0m\n\u001b[1;32m    137\u001b[0m                     \u001b[0mdata_shape\u001b[0m \u001b[0;34m=\u001b[0m \u001b[0mdata_shape\u001b[0m\u001b[0;34m[\u001b[0m\u001b[0;36m1\u001b[0m\u001b[0;34m:\u001b[0m\u001b[0;34m]\u001b[0m\u001b[0;34m\u001b[0m\u001b[0;34m\u001b[0m\u001b[0m\n",
            "\u001b[0;31mValueError\u001b[0m: Error when checking target: expected dense_8 to have 2 dimensions, but got array with shape (282, 4, 2)"
          ]
        }
      ]
    },
    {
      "cell_type": "markdown",
      "metadata": {
        "id": "y5EdghnYvvEm",
        "colab_type": "text"
      },
      "source": [
        "CNN"
      ]
    },
    {
      "cell_type": "code",
      "metadata": {
        "id": "xeb9-_dHvx4b",
        "colab_type": "code",
        "colab": {
          "base_uri": "https://localhost:8080/",
          "height": 34
        },
        "outputId": "5e90d5bb-40cb-4cc3-b206-0ddff59c0381"
      },
      "source": [
        "X_train.shape"
      ],
      "execution_count": 95,
      "outputs": [
        {
          "output_type": "execute_result",
          "data": {
            "text/plain": [
              "(282, 216)"
            ]
          },
          "metadata": {
            "tags": []
          },
          "execution_count": 95
        }
      ]
    },
    {
      "cell_type": "code",
      "metadata": {
        "id": "kskXeSjoKg9Z",
        "colab_type": "code",
        "colab": {}
      },
      "source": [
        "x_traincnn =np.expand_dims(X_train, axis=2)\n",
        "x_testcnn= np.expand_dims(X_test, axis=2)"
      ],
      "execution_count": 96,
      "outputs": []
    },
    {
      "cell_type": "code",
      "metadata": {
        "id": "DHv7KD_pOk2G",
        "colab_type": "code",
        "colab": {
          "base_uri": "https://localhost:8080/",
          "height": 34
        },
        "outputId": "852364bb-0eab-427c-d84e-3cc8c927f54c"
      },
      "source": [
        "x_traincnn.shape"
      ],
      "execution_count": 97,
      "outputs": [
        {
          "output_type": "execute_result",
          "data": {
            "text/plain": [
              "(282, 216, 1)"
            ]
          },
          "metadata": {
            "tags": []
          },
          "execution_count": 97
        }
      ]
    },
    {
      "cell_type": "code",
      "metadata": {
        "id": "o8ucojW1Om7g",
        "colab_type": "code",
        "colab": {}
      },
      "source": [
        "#build the model\n",
        "model = Sequential()\n",
        "\n",
        "model.add(Conv1D(256, 5,padding='same',\n",
        "                 input_shape=(216,1)))\n",
        "model.add(Activation('relu'))\n",
        "model.add(Conv1D(128, 5,padding='same'))\n",
        "model.add(Activation('relu'))\n",
        "model.add(Dropout(0.1))\n",
        "model.add(MaxPooling1D(pool_size=(8)))\n",
        "model.add(Conv1D(128, 5,padding='same',))\n",
        "model.add(Activation('relu'))\n",
        "#model.add(Conv1D(128, 5,padding='same',))\n",
        "#model.add(Activation('relu'))\n",
        "#model.add(Conv1D(128, 5,padding='same',))\n",
        "#model.add(Activation('relu'))\n",
        "#model.add(Dropout(0.2))\n",
        "model.add(Conv1D(128, 5,padding='same',))\n",
        "model.add(Activation('relu'))\n",
        "model.add(Flatten())\n",
        "model.add(Dense(4,activation='softmax'))\n",
        "opt = keras.optimizers.rmsprop(lr=0.00001, decay=1e-6)"
      ],
      "execution_count": 98,
      "outputs": []
    },
    {
      "cell_type": "code",
      "metadata": {
        "id": "lRCW6pUQO1As",
        "colab_type": "code",
        "colab": {
          "base_uri": "https://localhost:8080/",
          "height": 561
        },
        "outputId": "25b1e422-a983-4c19-a0c1-d6e3024f4bec"
      },
      "source": [
        "model.summary()"
      ],
      "execution_count": 48,
      "outputs": [
        {
          "output_type": "stream",
          "text": [
            "Model: \"sequential_2\"\n",
            "_________________________________________________________________\n",
            "Layer (type)                 Output Shape              Param #   \n",
            "=================================================================\n",
            "conv1d_5 (Conv1D)            (None, 216, 256)          1536      \n",
            "_________________________________________________________________\n",
            "activation_5 (Activation)    (None, 216, 256)          0         \n",
            "_________________________________________________________________\n",
            "conv1d_6 (Conv1D)            (None, 216, 128)          163968    \n",
            "_________________________________________________________________\n",
            "activation_6 (Activation)    (None, 216, 128)          0         \n",
            "_________________________________________________________________\n",
            "dropout_2 (Dropout)          (None, 216, 128)          0         \n",
            "_________________________________________________________________\n",
            "max_pooling1d_2 (MaxPooling1 (None, 27, 128)           0         \n",
            "_________________________________________________________________\n",
            "conv1d_7 (Conv1D)            (None, 27, 128)           82048     \n",
            "_________________________________________________________________\n",
            "activation_7 (Activation)    (None, 27, 128)           0         \n",
            "_________________________________________________________________\n",
            "conv1d_8 (Conv1D)            (None, 27, 128)           82048     \n",
            "_________________________________________________________________\n",
            "activation_8 (Activation)    (None, 27, 128)           0         \n",
            "_________________________________________________________________\n",
            "flatten_2 (Flatten)          (None, 3456)              0         \n",
            "_________________________________________________________________\n",
            "dense_2 (Dense)              (None, 4)                 13828     \n",
            "=================================================================\n",
            "Total params: 343,428\n",
            "Trainable params: 343,428\n",
            "Non-trainable params: 0\n",
            "_________________________________________________________________\n"
          ],
          "name": "stdout"
        }
      ]
    },
    {
      "cell_type": "code",
      "metadata": {
        "id": "G7ko927bPAOj",
        "colab_type": "code",
        "colab": {}
      },
      "source": [
        "model.compile(loss='categorical_crossentropy', optimizer=opt,metrics=['accuracy'])"
      ],
      "execution_count": 99,
      "outputs": []
    },
    {
      "cell_type": "code",
      "metadata": {
        "id": "bbh9InZcPAvw",
        "colab_type": "code",
        "colab": {
          "base_uri": "https://localhost:8080/",
          "height": 323
        },
        "outputId": "ceb6d003-d7c1-4d7e-b55d-8f02accd4235"
      },
      "source": [
        "cnnhistory=model.fit(x_traincnn, y_train_cat, batch_size=16, epochs=100, validation_data=(x_testcnn, y_test_cat))"
      ],
      "execution_count": 100,
      "outputs": [
        {
          "output_type": "error",
          "ename": "ValueError",
          "evalue": "ignored",
          "traceback": [
            "\u001b[0;31m---------------------------------------------------------------------------\u001b[0m",
            "\u001b[0;31mValueError\u001b[0m                                Traceback (most recent call last)",
            "\u001b[0;32m<ipython-input-100-09be92efcefd>\u001b[0m in \u001b[0;36m<module>\u001b[0;34m()\u001b[0m\n\u001b[0;32m----> 1\u001b[0;31m \u001b[0mcnnhistory\u001b[0m\u001b[0;34m=\u001b[0m\u001b[0mmodel\u001b[0m\u001b[0;34m.\u001b[0m\u001b[0mfit\u001b[0m\u001b[0;34m(\u001b[0m\u001b[0mx_traincnn\u001b[0m\u001b[0;34m,\u001b[0m \u001b[0my_train_cat\u001b[0m\u001b[0;34m,\u001b[0m \u001b[0mbatch_size\u001b[0m\u001b[0;34m=\u001b[0m\u001b[0;36m16\u001b[0m\u001b[0;34m,\u001b[0m \u001b[0mepochs\u001b[0m\u001b[0;34m=\u001b[0m\u001b[0;36m100\u001b[0m\u001b[0;34m,\u001b[0m \u001b[0mvalidation_data\u001b[0m\u001b[0;34m=\u001b[0m\u001b[0;34m(\u001b[0m\u001b[0mx_testcnn\u001b[0m\u001b[0;34m,\u001b[0m \u001b[0my_test_cat\u001b[0m\u001b[0;34m)\u001b[0m\u001b[0;34m)\u001b[0m\u001b[0;34m\u001b[0m\u001b[0;34m\u001b[0m\u001b[0m\n\u001b[0m",
            "\u001b[0;32m/usr/local/lib/python3.6/dist-packages/keras/engine/training.py\u001b[0m in \u001b[0;36mfit\u001b[0;34m(self, x, y, batch_size, epochs, verbose, callbacks, validation_split, validation_data, shuffle, class_weight, sample_weight, initial_epoch, steps_per_epoch, validation_steps, validation_freq, max_queue_size, workers, use_multiprocessing, **kwargs)\u001b[0m\n\u001b[1;32m   1152\u001b[0m             \u001b[0msample_weight\u001b[0m\u001b[0;34m=\u001b[0m\u001b[0msample_weight\u001b[0m\u001b[0;34m,\u001b[0m\u001b[0;34m\u001b[0m\u001b[0;34m\u001b[0m\u001b[0m\n\u001b[1;32m   1153\u001b[0m             \u001b[0mclass_weight\u001b[0m\u001b[0;34m=\u001b[0m\u001b[0mclass_weight\u001b[0m\u001b[0;34m,\u001b[0m\u001b[0;34m\u001b[0m\u001b[0;34m\u001b[0m\u001b[0m\n\u001b[0;32m-> 1154\u001b[0;31m             batch_size=batch_size)\n\u001b[0m\u001b[1;32m   1155\u001b[0m \u001b[0;34m\u001b[0m\u001b[0m\n\u001b[1;32m   1156\u001b[0m         \u001b[0;31m# Prepare validation data.\u001b[0m\u001b[0;34m\u001b[0m\u001b[0;34m\u001b[0m\u001b[0;34m\u001b[0m\u001b[0m\n",
            "\u001b[0;32m/usr/local/lib/python3.6/dist-packages/keras/engine/training.py\u001b[0m in \u001b[0;36m_standardize_user_data\u001b[0;34m(self, x, y, sample_weight, class_weight, check_array_lengths, batch_size)\u001b[0m\n\u001b[1;32m    619\u001b[0m                 \u001b[0mfeed_output_shapes\u001b[0m\u001b[0;34m,\u001b[0m\u001b[0;34m\u001b[0m\u001b[0;34m\u001b[0m\u001b[0m\n\u001b[1;32m    620\u001b[0m                 \u001b[0mcheck_batch_axis\u001b[0m\u001b[0;34m=\u001b[0m\u001b[0;32mFalse\u001b[0m\u001b[0;34m,\u001b[0m  \u001b[0;31m# Don't enforce the batch size.\u001b[0m\u001b[0;34m\u001b[0m\u001b[0;34m\u001b[0m\u001b[0m\n\u001b[0;32m--> 621\u001b[0;31m                 exception_prefix='target')\n\u001b[0m\u001b[1;32m    622\u001b[0m \u001b[0;34m\u001b[0m\u001b[0m\n\u001b[1;32m    623\u001b[0m             \u001b[0;31m# Generate sample-wise weight values given the `sample_weight` and\u001b[0m\u001b[0;34m\u001b[0m\u001b[0;34m\u001b[0m\u001b[0;34m\u001b[0m\u001b[0m\n",
            "\u001b[0;32m/usr/local/lib/python3.6/dist-packages/keras/engine/training_utils.py\u001b[0m in \u001b[0;36mstandardize_input_data\u001b[0;34m(data, names, shapes, check_batch_axis, exception_prefix)\u001b[0m\n\u001b[1;32m    133\u001b[0m                         \u001b[0;34m': expected '\u001b[0m \u001b[0;34m+\u001b[0m \u001b[0mnames\u001b[0m\u001b[0;34m[\u001b[0m\u001b[0mi\u001b[0m\u001b[0;34m]\u001b[0m \u001b[0;34m+\u001b[0m \u001b[0;34m' to have '\u001b[0m \u001b[0;34m+\u001b[0m\u001b[0;34m\u001b[0m\u001b[0;34m\u001b[0m\u001b[0m\n\u001b[1;32m    134\u001b[0m                         \u001b[0mstr\u001b[0m\u001b[0;34m(\u001b[0m\u001b[0mlen\u001b[0m\u001b[0;34m(\u001b[0m\u001b[0mshape\u001b[0m\u001b[0;34m)\u001b[0m\u001b[0;34m)\u001b[0m \u001b[0;34m+\u001b[0m \u001b[0;34m' dimensions, but got array '\u001b[0m\u001b[0;34m\u001b[0m\u001b[0;34m\u001b[0m\u001b[0m\n\u001b[0;32m--> 135\u001b[0;31m                         'with shape ' + str(data_shape))\n\u001b[0m\u001b[1;32m    136\u001b[0m                 \u001b[0;32mif\u001b[0m \u001b[0;32mnot\u001b[0m \u001b[0mcheck_batch_axis\u001b[0m\u001b[0;34m:\u001b[0m\u001b[0;34m\u001b[0m\u001b[0;34m\u001b[0m\u001b[0m\n\u001b[1;32m    137\u001b[0m                     \u001b[0mdata_shape\u001b[0m \u001b[0;34m=\u001b[0m \u001b[0mdata_shape\u001b[0m\u001b[0;34m[\u001b[0m\u001b[0;36m1\u001b[0m\u001b[0;34m:\u001b[0m\u001b[0;34m]\u001b[0m\u001b[0;34m\u001b[0m\u001b[0;34m\u001b[0m\u001b[0m\n",
            "\u001b[0;31mValueError\u001b[0m: Error when checking target: expected dense_9 to have 2 dimensions, but got array with shape (282, 4, 2)"
          ]
        }
      ]
    },
    {
      "cell_type": "code",
      "metadata": {
        "id": "YsP9UH7NPFTt",
        "colab_type": "code",
        "colab": {}
      },
      "source": [
        ""
      ],
      "execution_count": null,
      "outputs": []
    }
  ]
}