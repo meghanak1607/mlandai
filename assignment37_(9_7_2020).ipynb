{
  "nbformat": 4,
  "nbformat_minor": 0,
  "metadata": {
    "colab": {
      "name": "assignment37 (9-7-2020)",
      "provenance": []
    },
    "kernelspec": {
      "name": "python3",
      "display_name": "Python 3"
    }
  },
  "cells": [
    {
      "cell_type": "code",
      "metadata": {
        "id": "Jm3bzmpvUvLS",
        "colab_type": "code",
        "colab": {}
      },
      "source": [
        "import tensorflow as tf\n",
        "import tensorflow.keras as keras\n",
        "import numpy as np\n",
        "import matplotlib.pyplot as plt\n",
        "%matplotlib inline"
      ],
      "execution_count": 1,
      "outputs": []
    },
    {
      "cell_type": "code",
      "metadata": {
        "id": "7XJ65LefU20n",
        "colab_type": "code",
        "colab": {
          "base_uri": "https://localhost:8080/",
          "height": 34
        },
        "outputId": "3c8c52a9-7e37-4d0e-dc1f-b3a48ff662a2"
      },
      "source": [
        "from keras.datasets.mnist import load_data"
      ],
      "execution_count": 2,
      "outputs": [
        {
          "output_type": "stream",
          "text": [
            "Using TensorFlow backend.\n"
          ],
          "name": "stderr"
        }
      ]
    },
    {
      "cell_type": "code",
      "metadata": {
        "id": "AM3v8mckVIyL",
        "colab_type": "code",
        "colab": {
          "base_uri": "https://localhost:8080/",
          "height": 85
        },
        "outputId": "ac5c9e3d-1388-4e5f-9b3c-11371cbd639d"
      },
      "source": [
        "(train_digits,train_labels),(test_digits,test_labels)=load_data()\n",
        "print(train_digits.shape)\n",
        "print(test_digits.shape)"
      ],
      "execution_count": 3,
      "outputs": [
        {
          "output_type": "stream",
          "text": [
            "Downloading data from https://s3.amazonaws.com/img-datasets/mnist.npz\n",
            "11493376/11490434 [==============================] - 2s 0us/step\n",
            "(60000, 28, 28)\n",
            "(10000, 28, 28)\n"
          ],
          "name": "stdout"
        }
      ]
    },
    {
      "cell_type": "code",
      "metadata": {
        "id": "9LwBuC18VIz-",
        "colab_type": "code",
        "colab": {
          "base_uri": "https://localhost:8080/",
          "height": 221
        },
        "outputId": "36b9a08c-3be1-4128-fb01-58065cb11efc"
      },
      "source": [
        "import pandas as pd\n",
        "pd.Series(train_labels).value_counts"
      ],
      "execution_count": 4,
      "outputs": [
        {
          "output_type": "execute_result",
          "data": {
            "text/plain": [
              "<bound method IndexOpsMixin.value_counts of 0        5\n",
              "1        0\n",
              "2        4\n",
              "3        1\n",
              "4        9\n",
              "        ..\n",
              "59995    8\n",
              "59996    3\n",
              "59997    5\n",
              "59998    6\n",
              "59999    8\n",
              "Length: 60000, dtype: uint8>"
            ]
          },
          "metadata": {
            "tags": []
          },
          "execution_count": 4
        }
      ]
    },
    {
      "cell_type": "code",
      "metadata": {
        "id": "G9edJc1MVI3a",
        "colab_type": "code",
        "colab": {
          "base_uri": "https://localhost:8080/",
          "height": 221
        },
        "outputId": "dfb1f123-f9f0-4eb6-a198-bb4c812578b8"
      },
      "source": [
        "\n",
        "pd.Series(test_labels).value_counts"
      ],
      "execution_count": 5,
      "outputs": [
        {
          "output_type": "execute_result",
          "data": {
            "text/plain": [
              "<bound method IndexOpsMixin.value_counts of 0       7\n",
              "1       2\n",
              "2       1\n",
              "3       0\n",
              "4       4\n",
              "       ..\n",
              "9995    2\n",
              "9996    3\n",
              "9997    4\n",
              "9998    5\n",
              "9999    6\n",
              "Length: 10000, dtype: uint8>"
            ]
          },
          "metadata": {
            "tags": []
          },
          "execution_count": 5
        }
      ]
    },
    {
      "cell_type": "code",
      "metadata": {
        "id": "pcMWguuMVI6T",
        "colab_type": "code",
        "colab": {
          "base_uri": "https://localhost:8080/",
          "height": 282
        },
        "outputId": "5f2b231c-5fee-41ba-8778-953980cb164d"
      },
      "source": [
        "plt.imshow(train_digits[0])"
      ],
      "execution_count": 6,
      "outputs": [
        {
          "output_type": "execute_result",
          "data": {
            "text/plain": [
              "<matplotlib.image.AxesImage at 0x7f0f7b030160>"
            ]
          },
          "metadata": {
            "tags": []
          },
          "execution_count": 6
        },
        {
          "output_type": "display_data",
          "data": {
            "image/png": "[encoded data removed]",
            "text/plain": [
              "<Figure size 432x288 with 1 Axes>"
            ]
          },
          "metadata": {
            "tags": [],
            "needs_background": "light"
          }
        }
      ]
    },
    {
      "cell_type": "code",
      "metadata": {
        "id": "_Zu2rchzVl2l",
        "colab_type": "code",
        "colab": {
          "base_uri": "https://localhost:8080/",
          "height": 298
        },
        "outputId": "b75af000-bce8-41b3-e513-8763e96f2f7e"
      },
      "source": [
        "plt.title(\"Digit:\"+str(train_labels[0]))\n",
        "plt.imshow(train_digits[0],cmap=\"gray\")"
      ],
      "execution_count": 7,
      "outputs": [
        {
          "output_type": "execute_result",
          "data": {
            "text/plain": [
              "<matplotlib.image.AxesImage at 0x7f0f7aae6278>"
            ]
          },
          "metadata": {
            "tags": []
          },
          "execution_count": 7
        },
        {
          "output_type": "display_data",
          "data": {
            "image/png": "[encoded data removed]",
            "text/plain": [
              "<Figure size 432x288 with 1 Axes>"
            ]
          },
          "metadata": {
            "tags": [],
            "needs_background": "light"
          }
        }
      ]
    },
    {
      "cell_type": "code",
      "metadata": {
        "id": "i2jM7xAxVl4k",
        "colab_type": "code",
        "colab": {
          "base_uri": "https://localhost:8080/",
          "height": 265
        },
        "outputId": "08bc2a6b-e12b-472a-9af3-84d5c775f3b8"
      },
      "source": [
        "plt.hist(train_digits[0])\n",
        "plt.show()"
      ],
      "execution_count": 8,
      "outputs": [
        {
          "output_type": "display_data",
          "data": {
            "image/png": "[encoded data removed]",
            "text/plain": [
              "<Figure size 432x288 with 1 Axes>"
            ]
          },
          "metadata": {
            "tags": [],
            "needs_background": "light"
          }
        }
      ]
    },
    {
      "cell_type": "code",
      "metadata": {
        "id": "pofngL3oVl8h",
        "colab_type": "code",
        "colab": {
          "base_uri": "https://localhost:8080/",
          "height": 51
        },
        "outputId": "d6e64c64-7d18-4a57-d274-70faa077b618"
      },
      "source": [
        "abc=np.random.randint(train_digits.shape[0],size=16)\n",
        "abc"
      ],
      "execution_count": 38,
      "outputs": [
        {
          "output_type": "execute_result",
          "data": {
            "text/plain": [
              "array([44176, 32680, 22966, 50324, 37286, 11243,  9935, 15090, 15170,\n",
              "       46928, 41556, 35003,  4248, 57363, 50648, 47075])"
            ]
          },
          "metadata": {
            "tags": []
          },
          "execution_count": 38
        }
      ]
    },
    {
      "cell_type": "code",
      "metadata": {
        "id": "iAVGuQ7NVl_Y",
        "colab_type": "code",
        "colab": {
          "base_uri": "https://localhost:8080/",
          "height": 917
        },
        "outputId": "a44ed93c-01ce-4164-93c0-ec8898b32152"
      },
      "source": [
        "plt.figure(figsize=(16,16))\n",
        "j=1\n",
        "for i in abc:\n",
        "  plt.subplot(4,4,j)\n",
        "  plt.imshow(train_digits[i])\n",
        "  plt.title(\"Digit:\"+str(train_labels[i]))\n",
        "  plt.axis(\"off\")\n",
        "  j=j+1"
      ],
      "execution_count": 39,
      "outputs": [
        {
          "output_type": "display_data",
          "data": {
            "image/png": "[encoded data removed]",
            "text/plain": [
              "<Figure size 1152x1152 with 16 Axes>"
            ]
          },
          "metadata": {
            "tags": [],
            "needs_background": "light"
          }
        }
      ]
    },
    {
      "cell_type": "code",
      "metadata": {
        "id": "-7FvpVsLV5Yd",
        "colab_type": "code",
        "colab": {}
      },
      "source": [
        "train_digits_sc=train_digits/255.0\n",
        "test_digits_sc=test_digits/255.0"
      ],
      "execution_count": 11,
      "outputs": []
    },
    {
      "cell_type": "code",
      "metadata": {
        "id": "eBVah7xBV5ab",
        "colab_type": "code",
        "colab": {}
      },
      "source": [
        "from keras.utils import to_categorical"
      ],
      "execution_count": 13,
      "outputs": []
    },
    {
      "cell_type": "code",
      "metadata": {
        "id": "26YYTid8V5dO",
        "colab_type": "code",
        "colab": {}
      },
      "source": [
        "train_labels_cat=to_categorical(train_labels)\n",
        "test_labels_cat=to_categorical(test_labels)"
      ],
      "execution_count": 14,
      "outputs": []
    },
    {
      "cell_type": "code",
      "metadata": {
        "id": "V86YJkGZV5fC",
        "colab_type": "code",
        "colab": {
          "base_uri": "https://localhost:8080/",
          "height": 85
        },
        "outputId": "dec98429-327f-4a4e-b7e0-79bb67c1efed"
      },
      "source": [
        "from sklearn.model_selection import train_test_split\n",
        "x_train,x_val,y_train,y_val=train_test_split(train_digits_sc,train_labels_cat,test_size=0.1,random_state=32)\n",
        "print(x_train.shape)\n",
        "print(x_val.shape)\n",
        "print(y_train.shape)\n",
        "print(y_val.shape)"
      ],
      "execution_count": 15,
      "outputs": [
        {
          "output_type": "stream",
          "text": [
            "(54000, 28, 28)\n",
            "(6000, 28, 28)\n",
            "(54000, 10)\n",
            "(6000, 10)\n"
          ],
          "name": "stdout"
        }
      ]
    },
    {
      "cell_type": "code",
      "metadata": {
        "id": "OvHzL43nV5iJ",
        "colab_type": "code",
        "colab": {
          "base_uri": "https://localhost:8080/",
          "height": 357
        },
        "outputId": "9dde2b42-5a81-4c29-ed3c-c37f8c2967b5"
      },
      "source": [
        "from keras.models import Sequential\n",
        "from keras.layers import Dense,Flatten\n",
        "\n",
        "model = Sequential()\n",
        "model.add(Flatten(input_shape=(28,28)))\n",
        "model.add(Dense(128,activation='relu'))# 784 * 128+128\n",
        "model.add(Dense(128,activation='relu'))# \n",
        "model.add(Dense(64,activation='relu'))\n",
        "model.add(Dense(256,activation='relu'))\n",
        "#Final layer\n",
        "model.add(Dense(10,activation='softmax'))\n",
        "model.summary()"
      ],
      "execution_count": 16,
      "outputs": [
        {
          "output_type": "stream",
          "text": [
            "Model: \"sequential_1\"\n",
            "_________________________________________________________________\n",
            "Layer (type)                 Output Shape              Param #   \n",
            "=================================================================\n",
            "flatten_1 (Flatten)          (None, 784)               0         \n",
            "_________________________________________________________________\n",
            "dense_1 (Dense)              (None, 128)               100480    \n",
            "_________________________________________________________________\n",
            "dense_2 (Dense)              (None, 128)               16512     \n",
            "_________________________________________________________________\n",
            "dense_3 (Dense)              (None, 64)                8256      \n",
            "_________________________________________________________________\n",
            "dense_4 (Dense)              (None, 256)               16640     \n",
            "_________________________________________________________________\n",
            "dense_5 (Dense)              (None, 10)                2570      \n",
            "=================================================================\n",
            "Total params: 144,458\n",
            "Trainable params: 144,458\n",
            "Non-trainable params: 0\n",
            "_________________________________________________________________\n"
          ],
          "name": "stdout"
        }
      ]
    },
    {
      "cell_type": "code",
      "metadata": {
        "id": "FqEYHh6WV5kE",
        "colab_type": "code",
        "colab": {}
      },
      "source": [
        "model.compile(optimizer='adam',loss=tf.keras.losses.CategoricalCrossentropy(),metrics=['accuracy'])"
      ],
      "execution_count": 17,
      "outputs": []
    },
    {
      "cell_type": "code",
      "metadata": {
        "id": "ybqvhQrkV5nz",
        "colab_type": "code",
        "colab": {
          "base_uri": "https://localhost:8080/",
          "height": 204
        },
        "outputId": "9f7a2ca3-9802-4019-c234-3cff18019602"
      },
      "source": [
        "history=model.fit(x=x_train,y=y_train,epochs=5,validation_data=(x_val,y_val),batch_size=32)"
      ],
      "execution_count": 18,
      "outputs": [
        {
          "output_type": "stream",
          "text": [
            "Train on 54000 samples, validate on 6000 samples\n",
            "Epoch 1/5\n",
            "54000/54000 [==============================] - 6s 118us/step - loss: 0.2432 - accuracy: 0.9264 - val_loss: 0.1768 - val_accuracy: 0.9482\n",
            "Epoch 2/5\n",
            "54000/54000 [==============================] - 6s 110us/step - loss: 0.1117 - accuracy: 0.9659 - val_loss: 0.1029 - val_accuracy: 0.9705\n",
            "Epoch 3/5\n",
            "54000/54000 [==============================] - 6s 110us/step - loss: 0.0791 - accuracy: 0.9758 - val_loss: 0.1130 - val_accuracy: 0.9693\n",
            "Epoch 4/5\n",
            "54000/54000 [==============================] - 6s 112us/step - loss: 0.0667 - accuracy: 0.9796 - val_loss: 0.0998 - val_accuracy: 0.9727\n",
            "Epoch 5/5\n",
            "54000/54000 [==============================] - 6s 112us/step - loss: 0.0533 - accuracy: 0.9831 - val_loss: 0.1090 - val_accuracy: 0.9705\n"
          ],
          "name": "stdout"
        }
      ]
    },
    {
      "cell_type": "code",
      "metadata": {
        "id": "WO3WC_eCV5pW",
        "colab_type": "code",
        "colab": {
          "base_uri": "https://localhost:8080/",
          "height": 51
        },
        "outputId": "1c967395-a402-449e-9cba-83af213e82b8"
      },
      "source": [
        "model.evaluate(test_digits_sc,test_labels_cat)"
      ],
      "execution_count": 19,
      "outputs": [
        {
          "output_type": "stream",
          "text": [
            "10000/10000 [==============================] - 0s 29us/step\n"
          ],
          "name": "stdout"
        },
        {
          "output_type": "execute_result",
          "data": {
            "text/plain": [
              "[0.10208441555775062, 0.9717000126838684]"
            ]
          },
          "metadata": {
            "tags": []
          },
          "execution_count": 19
        }
      ]
    },
    {
      "cell_type": "code",
      "metadata": {
        "id": "tQpwVhR7V5tO",
        "colab_type": "code",
        "colab": {
          "base_uri": "https://localhost:8080/",
          "height": 68
        },
        "outputId": "d7379822-1ca4-460b-abc1-8f1e7bd30733"
      },
      "source": [
        "print(test_digits_sc.shape)\n",
        "print(test_digits_sc[0].shape)\n",
        "print(np.expand_dims(test_digits_sc[0],axis=0).shape)"
      ],
      "execution_count": 20,
      "outputs": [
        {
          "output_type": "stream",
          "text": [
            "(10000, 28, 28)\n",
            "(28, 28)\n",
            "(1, 28, 28)\n"
          ],
          "name": "stdout"
        }
      ]
    },
    {
      "cell_type": "code",
      "metadata": {
        "id": "BxYQjPuUV5vB",
        "colab_type": "code",
        "colab": {
          "base_uri": "https://localhost:8080/",
          "height": 68
        },
        "outputId": "83936b04-6320-4713-f37e-f0d4ebbc51b5"
      },
      "source": [
        "model.predict(np.expand_dims(test_digits_sc[0],axis=0))"
      ],
      "execution_count": 21,
      "outputs": [
        {
          "output_type": "execute_result",
          "data": {
            "text/plain": [
              "array([[5.8495903e-10, 1.2622344e-06, 4.2725114e-06, 1.1150216e-05,\n",
              "        1.5221350e-07, 1.9937497e-07, 3.5247912e-11, 9.9995434e-01,\n",
              "        2.7959661e-07, 2.8380144e-05]], dtype=float32)"
            ]
          },
          "metadata": {
            "tags": []
          },
          "execution_count": 21
        }
      ]
    },
    {
      "cell_type": "code",
      "metadata": {
        "id": "q50bKZ17V5ye",
        "colab_type": "code",
        "colab": {
          "base_uri": "https://localhost:8080/",
          "height": 527
        },
        "outputId": "f51ad9b8-69c3-4bcf-8544-ed1813e5542b"
      },
      "source": [
        "model.predict(test_digits_sc[:10])"
      ],
      "execution_count": 22,
      "outputs": [
        {
          "output_type": "execute_result",
          "data": {
            "text/plain": [
              "array([[5.84959026e-10, 1.26223313e-06, 4.27251143e-06, 1.11502377e-05,\n",
              "        1.52213360e-07, 1.99374966e-07, 3.52479122e-11, 9.99954343e-01,\n",
              "        2.79596605e-07, 2.83801437e-05],\n",
              "       [4.51139837e-09, 2.50316532e-07, 9.99998927e-01, 1.43688146e-08,\n",
              "        6.18114587e-11, 2.10750839e-09, 9.27249832e-09, 8.20847106e-07,\n",
              "        2.10421174e-08, 1.96952724e-13],\n",
              "       [6.90278696e-08, 9.99979615e-01, 1.98727844e-06, 1.17893810e-08,\n",
              "        1.55993760e-07, 5.27930524e-07, 8.69197493e-07, 6.72413989e-06,\n",
              "        9.94583479e-06, 5.79285135e-08],\n",
              "       [9.99940634e-01, 1.05782494e-08, 3.78548680e-06, 2.07761829e-07,\n",
              "        7.63813932e-06, 1.54032591e-06, 2.68378585e-07, 1.50876396e-08,\n",
              "        1.60195370e-07, 4.57818351e-05],\n",
              "       [2.31584536e-07, 5.60522039e-07, 4.74238988e-07, 9.43456158e-09,\n",
              "        9.99221563e-01, 1.81049970e-07, 1.72686285e-07, 2.44420062e-06,\n",
              "        2.28425520e-07, 7.74190179e-04],\n",
              "       [2.26170505e-09, 9.99997616e-01, 8.40312993e-08, 3.49223483e-10,\n",
              "        1.39680809e-08, 2.20170371e-08, 3.03069108e-08, 1.35397363e-06,\n",
              "        9.37435516e-07, 4.18966906e-09],\n",
              "       [1.25531333e-05, 1.54430847e-04, 3.33932985e-05, 1.20512323e-06,\n",
              "        9.94477630e-01, 1.53890323e-05, 1.17059190e-05, 7.64853467e-05,\n",
              "        4.24011669e-04, 4.79319226e-03],\n",
              "       [1.02429556e-06, 7.50036293e-07, 1.21211897e-07, 1.41121318e-05,\n",
              "        2.00018357e-03, 2.37935637e-06, 1.75495271e-10, 2.10244489e-05,\n",
              "        8.40489156e-06, 9.97952044e-01],\n",
              "       [4.86053047e-08, 5.92556559e-10, 2.45241949e-06, 2.36542246e-06,\n",
              "        1.83300278e-06, 9.99423742e-01, 1.02070735e-04, 8.22162560e-10,\n",
              "        8.85406098e-06, 4.58626746e-04],\n",
              "       [2.09377703e-07, 2.50845478e-09, 2.66156803e-08, 5.69453498e-08,\n",
              "        2.46085250e-03, 2.09895902e-07, 7.55579627e-12, 1.34798966e-05,\n",
              "        2.61297913e-07, 9.97524917e-01]], dtype=float32)"
            ]
          },
          "metadata": {
            "tags": []
          },
          "execution_count": 22
        }
      ]
    },
    {
      "cell_type": "code",
      "metadata": {
        "id": "IHNRPOgYV50B",
        "colab_type": "code",
        "colab": {
          "base_uri": "https://localhost:8080/",
          "height": 34
        },
        "outputId": "f9e920c9-5bce-4c51-a4b5-9a7f8fb45e5e"
      },
      "source": [
        "model.predict_classes(np.expand_dims(test_digits_sc[0],axis=0))"
      ],
      "execution_count": 23,
      "outputs": [
        {
          "output_type": "execute_result",
          "data": {
            "text/plain": [
              "array([7])"
            ]
          },
          "metadata": {
            "tags": []
          },
          "execution_count": 23
        }
      ]
    },
    {
      "cell_type": "code",
      "metadata": {
        "id": "O11y4koKV53l",
        "colab_type": "code",
        "colab": {
          "base_uri": "https://localhost:8080/",
          "height": 68
        },
        "outputId": "a16161a2-211a-4f01-8de6-36b185b5930d"
      },
      "source": [
        "model.predict_proba(np.expand_dims(test_digits_sc[0],axis=0))"
      ],
      "execution_count": 24,
      "outputs": [
        {
          "output_type": "execute_result",
          "data": {
            "text/plain": [
              "array([[5.8495903e-10, 1.2622344e-06, 4.2725114e-06, 1.1150216e-05,\n",
              "        1.5221350e-07, 1.9937497e-07, 3.5247912e-11, 9.9995434e-01,\n",
              "        2.7959661e-07, 2.8380144e-05]], dtype=float32)"
            ]
          },
          "metadata": {
            "tags": []
          },
          "execution_count": 24
        }
      ]
    },
    {
      "cell_type": "code",
      "metadata": {
        "id": "Fvi82QbUV55v",
        "colab_type": "code",
        "colab": {
          "base_uri": "https://localhost:8080/",
          "height": 289
        },
        "outputId": "22d109ff-25ef-4a11-812d-a5235560df22"
      },
      "source": [
        "history.history"
      ],
      "execution_count": 25,
      "outputs": [
        {
          "output_type": "execute_result",
          "data": {
            "text/plain": [
              "{'accuracy': [0.92635185, 0.96585184, 0.97575927, 0.9795926, 0.98305553],\n",
              " 'loss': [0.24320133985165093,\n",
              "  0.11165647255718984,\n",
              "  0.07913933930611583,\n",
              "  0.06666828903728338,\n",
              "  0.05333217274901647],\n",
              " 'val_accuracy': [0.9481666684150696,\n",
              "  0.9704999923706055,\n",
              "  0.9693333506584167,\n",
              "  0.9726666808128357,\n",
              "  0.9704999923706055],\n",
              " 'val_loss': [0.17675640598436196,\n",
              "  0.10288137994334101,\n",
              "  0.11299317859175305,\n",
              "  0.09977846835243205,\n",
              "  0.10902210824688276]}"
            ]
          },
          "metadata": {
            "tags": []
          },
          "execution_count": 25
        }
      ]
    },
    {
      "cell_type": "code",
      "metadata": {
        "id": "zleo8jGGV59M",
        "colab_type": "code",
        "colab": {
          "base_uri": "https://localhost:8080/",
          "height": 282
        },
        "outputId": "be197407-9778-43e4-fff8-385d6032726d"
      },
      "source": [
        "plt.plot(history.history['accuracy'])\n",
        "plt.plot(history.history['val_accuracy'])"
      ],
      "execution_count": 26,
      "outputs": [
        {
          "output_type": "execute_result",
          "data": {
            "text/plain": [
              "[<matplotlib.lines.Line2D at 0x7f0f6b363710>]"
            ]
          },
          "metadata": {
            "tags": []
          },
          "execution_count": 26
        },
        {
          "output_type": "display_data",
          "data": {
            "image/png": "[encoded data removed]",
            "text/plain": [
              "<Figure size 432x288 with 1 Axes>"
            ]
          },
          "metadata": {
            "tags": [],
            "needs_background": "light"
          }
        }
      ]
    },
    {
      "cell_type": "code",
      "metadata": {
        "id": "bSSAwgkyXIIg",
        "colab_type": "code",
        "colab": {
          "base_uri": "https://localhost:8080/",
          "height": 357
        },
        "outputId": "a1a6fc97-2e3a-4d11-b42f-b1d2801c31d8"
      },
      "source": [
        "model1 = Sequential()\n",
        "\n",
        "model1.add(Flatten(input_shape=(28,28)))\n",
        "\n",
        "model1.add(Dense(128,activation='relu'))# 784 * 128+128\n",
        "model1.add(Dense(256,activation='relu'))# \n",
        "model1.add(Dense(64,activation='relu'))\n",
        "model1.add(Dense(256,activation='relu'))\n",
        "#Final layer\n",
        "model1.add(Dense(10,activation='sigmoid'))\n",
        "model1.summary()"
      ],
      "execution_count": 27,
      "outputs": [
        {
          "output_type": "stream",
          "text": [
            "Model: \"sequential_2\"\n",
            "_________________________________________________________________\n",
            "Layer (type)                 Output Shape              Param #   \n",
            "=================================================================\n",
            "flatten_2 (Flatten)          (None, 784)               0         \n",
            "_________________________________________________________________\n",
            "dense_6 (Dense)              (None, 128)               100480    \n",
            "_________________________________________________________________\n",
            "dense_7 (Dense)              (None, 256)               33024     \n",
            "_________________________________________________________________\n",
            "dense_8 (Dense)              (None, 64)                16448     \n",
            "_________________________________________________________________\n",
            "dense_9 (Dense)              (None, 256)               16640     \n",
            "_________________________________________________________________\n",
            "dense_10 (Dense)             (None, 10)                2570      \n",
            "=================================================================\n",
            "Total params: 169,162\n",
            "Trainable params: 169,162\n",
            "Non-trainable params: 0\n",
            "_________________________________________________________________\n"
          ],
          "name": "stdout"
        }
      ]
    },
    {
      "cell_type": "code",
      "metadata": {
        "id": "K5H2Fq5zXIK8",
        "colab_type": "code",
        "colab": {}
      },
      "source": [
        "model1.compile(optimizer='adam',loss=tf.keras.losses.CategoricalCrossentropy(),metrics=['accuracy'])"
      ],
      "execution_count": 28,
      "outputs": []
    },
    {
      "cell_type": "code",
      "metadata": {
        "id": "j5G0Gb3GXIPt",
        "colab_type": "code",
        "colab": {
          "base_uri": "https://localhost:8080/",
          "height": 204
        },
        "outputId": "607eba61-e841-4c94-b5e8-1f31aea0c404"
      },
      "source": [
        "history=model1.fit(x=x_train,y=y_train,epochs=5,validation_data=(x_val,y_val),batch_size=32)"
      ],
      "execution_count": 29,
      "outputs": [
        {
          "output_type": "stream",
          "text": [
            "Train on 54000 samples, validate on 6000 samples\n",
            "Epoch 1/5\n",
            "54000/54000 [==============================] - 7s 124us/step - loss: 0.2552 - accuracy: 0.9219 - val_loss: 0.1224 - val_accuracy: 0.9650\n",
            "Epoch 2/5\n",
            "54000/54000 [==============================] - 7s 124us/step - loss: 0.1137 - accuracy: 0.9660 - val_loss: 0.1222 - val_accuracy: 0.9662\n",
            "Epoch 3/5\n",
            "54000/54000 [==============================] - 7s 125us/step - loss: 0.0809 - accuracy: 0.9754 - val_loss: 0.0950 - val_accuracy: 0.9730\n",
            "Epoch 4/5\n",
            "54000/54000 [==============================] - 7s 128us/step - loss: 0.0636 - accuracy: 0.9807 - val_loss: 0.1108 - val_accuracy: 0.9692\n",
            "Epoch 5/5\n",
            "54000/54000 [==============================] - 7s 126us/step - loss: 0.0530 - accuracy: 0.9835 - val_loss: 0.0928 - val_accuracy: 0.9753\n"
          ],
          "name": "stdout"
        }
      ]
    },
    {
      "cell_type": "code",
      "metadata": {
        "id": "kyQ-NPkrXITh",
        "colab_type": "code",
        "colab": {
          "base_uri": "https://localhost:8080/",
          "height": 51
        },
        "outputId": "56e89675-5bbe-412b-f2c4-47dea2d58711"
      },
      "source": [
        "model1.evaluate(test_digits_sc,test_labels_cat)"
      ],
      "execution_count": 30,
      "outputs": [
        {
          "output_type": "stream",
          "text": [
            "10000/10000 [==============================] - 0s 30us/step\n"
          ],
          "name": "stdout"
        },
        {
          "output_type": "execute_result",
          "data": {
            "text/plain": [
              "[0.09006112991549307, 0.9757999777793884]"
            ]
          },
          "metadata": {
            "tags": []
          },
          "execution_count": 30
        }
      ]
    },
    {
      "cell_type": "code",
      "metadata": {
        "id": "LwN1PuDCXIOH",
        "colab_type": "code",
        "colab": {
          "base_uri": "https://localhost:8080/",
          "height": 68
        },
        "outputId": "32faca77-3b38-49f9-d294-d690c68928d0"
      },
      "source": [
        "print(test_digits_sc.shape)\n",
        "print(test_digits_sc[0].shape)\n",
        "print(np.expand_dims(test_digits_sc[0],axis=0).shape)"
      ],
      "execution_count": 31,
      "outputs": [
        {
          "output_type": "stream",
          "text": [
            "(10000, 28, 28)\n",
            "(28, 28)\n",
            "(1, 28, 28)\n"
          ],
          "name": "stdout"
        }
      ]
    },
    {
      "cell_type": "code",
      "metadata": {
        "id": "YZ0nC6PhXbmc",
        "colab_type": "code",
        "colab": {
          "base_uri": "https://localhost:8080/",
          "height": 68
        },
        "outputId": "98df9ec2-901a-488c-fc97-fe24e5619dc9"
      },
      "source": [
        "model.predict(np.expand_dims(test_digits_sc[0],axis=0))"
      ],
      "execution_count": 32,
      "outputs": [
        {
          "output_type": "execute_result",
          "data": {
            "text/plain": [
              "array([[5.8495903e-10, 1.2622344e-06, 4.2725114e-06, 1.1150216e-05,\n",
              "        1.5221350e-07, 1.9937497e-07, 3.5247912e-11, 9.9995434e-01,\n",
              "        2.7959661e-07, 2.8380144e-05]], dtype=float32)"
            ]
          },
          "metadata": {
            "tags": []
          },
          "execution_count": 32
        }
      ]
    },
    {
      "cell_type": "code",
      "metadata": {
        "id": "qBu-4AcxXbpo",
        "colab_type": "code",
        "colab": {
          "base_uri": "https://localhost:8080/",
          "height": 527
        },
        "outputId": "a4c5fdbd-f581-4fa7-de52-1048b708a9aa"
      },
      "source": [
        "model.predict(test_digits_sc[:10])"
      ],
      "execution_count": 33,
      "outputs": [
        {
          "output_type": "execute_result",
          "data": {
            "text/plain": [
              "array([[5.84959026e-10, 1.26223313e-06, 4.27251143e-06, 1.11502377e-05,\n",
              "        1.52213360e-07, 1.99374966e-07, 3.52479122e-11, 9.99954343e-01,\n",
              "        2.79596605e-07, 2.83801437e-05],\n",
              "       [4.51139837e-09, 2.50316532e-07, 9.99998927e-01, 1.43688146e-08,\n",
              "        6.18114587e-11, 2.10750839e-09, 9.27249832e-09, 8.20847106e-07,\n",
              "        2.10421174e-08, 1.96952724e-13],\n",
              "       [6.90278696e-08, 9.99979615e-01, 1.98727844e-06, 1.17893810e-08,\n",
              "        1.55993760e-07, 5.27930524e-07, 8.69197493e-07, 6.72413989e-06,\n",
              "        9.94583479e-06, 5.79285135e-08],\n",
              "       [9.99940634e-01, 1.05782494e-08, 3.78548680e-06, 2.07761829e-07,\n",
              "        7.63813932e-06, 1.54032591e-06, 2.68378585e-07, 1.50876396e-08,\n",
              "        1.60195370e-07, 4.57818351e-05],\n",
              "       [2.31584536e-07, 5.60522039e-07, 4.74238988e-07, 9.43456158e-09,\n",
              "        9.99221563e-01, 1.81049970e-07, 1.72686285e-07, 2.44420062e-06,\n",
              "        2.28425520e-07, 7.74190179e-04],\n",
              "       [2.26170505e-09, 9.99997616e-01, 8.40312993e-08, 3.49223483e-10,\n",
              "        1.39680809e-08, 2.20170371e-08, 3.03069108e-08, 1.35397363e-06,\n",
              "        9.37435516e-07, 4.18966906e-09],\n",
              "       [1.25531333e-05, 1.54430847e-04, 3.33932985e-05, 1.20512323e-06,\n",
              "        9.94477630e-01, 1.53890323e-05, 1.17059190e-05, 7.64853467e-05,\n",
              "        4.24011669e-04, 4.79319226e-03],\n",
              "       [1.02429556e-06, 7.50036293e-07, 1.21211897e-07, 1.41121318e-05,\n",
              "        2.00018357e-03, 2.37935637e-06, 1.75495271e-10, 2.10244489e-05,\n",
              "        8.40489156e-06, 9.97952044e-01],\n",
              "       [4.86053047e-08, 5.92556559e-10, 2.45241949e-06, 2.36542246e-06,\n",
              "        1.83300278e-06, 9.99423742e-01, 1.02070735e-04, 8.22162560e-10,\n",
              "        8.85406098e-06, 4.58626746e-04],\n",
              "       [2.09377703e-07, 2.50845478e-09, 2.66156803e-08, 5.69453498e-08,\n",
              "        2.46085250e-03, 2.09895902e-07, 7.55579627e-12, 1.34798966e-05,\n",
              "        2.61297913e-07, 9.97524917e-01]], dtype=float32)"
            ]
          },
          "metadata": {
            "tags": []
          },
          "execution_count": 33
        }
      ]
    },
    {
      "cell_type": "code",
      "metadata": {
        "id": "buSMwCljXnhV",
        "colab_type": "code",
        "colab": {
          "base_uri": "https://localhost:8080/",
          "height": 34
        },
        "outputId": "36b87e12-4aef-4a0f-92cf-f4d8a8273889"
      },
      "source": [
        "model.predict_classes(np.expand_dims(test_digits_sc[0],axis=0))"
      ],
      "execution_count": 34,
      "outputs": [
        {
          "output_type": "execute_result",
          "data": {
            "text/plain": [
              "array([7])"
            ]
          },
          "metadata": {
            "tags": []
          },
          "execution_count": 34
        }
      ]
    },
    {
      "cell_type": "code",
      "metadata": {
        "id": "FDN_gUxaXnjh",
        "colab_type": "code",
        "colab": {
          "base_uri": "https://localhost:8080/",
          "height": 68
        },
        "outputId": "cb7288f9-f264-4841-815e-6e1ac5669159"
      },
      "source": [
        "model.predict_proba(np.expand_dims(test_digits_sc[0],axis=0))"
      ],
      "execution_count": 35,
      "outputs": [
        {
          "output_type": "execute_result",
          "data": {
            "text/plain": [
              "array([[5.8495903e-10, 1.2622344e-06, 4.2725114e-06, 1.1150216e-05,\n",
              "        1.5221350e-07, 1.9937497e-07, 3.5247912e-11, 9.9995434e-01,\n",
              "        2.7959661e-07, 2.8380144e-05]], dtype=float32)"
            ]
          },
          "metadata": {
            "tags": []
          },
          "execution_count": 35
        }
      ]
    },
    {
      "cell_type": "code",
      "metadata": {
        "id": "ptunTaZgXnnQ",
        "colab_type": "code",
        "colab": {
          "base_uri": "https://localhost:8080/",
          "height": 289
        },
        "outputId": "2282d375-f7dc-47cb-a7dd-edf020cc8802"
      },
      "source": [
        "history.history"
      ],
      "execution_count": 36,
      "outputs": [
        {
          "output_type": "execute_result",
          "data": {
            "text/plain": [
              "{'accuracy': [0.92187035, 0.96603703, 0.97535187, 0.98066664, 0.9835],\n",
              " 'loss': [0.2551511451502641,\n",
              "  0.11366946522332728,\n",
              "  0.08090909442509076,\n",
              "  0.0636093741199519,\n",
              "  0.05299846180952671],\n",
              " 'val_accuracy': [0.9649999737739563,\n",
              "  0.9661666750907898,\n",
              "  0.9729999899864197,\n",
              "  0.9691666960716248,\n",
              "  0.9753333330154419],\n",
              " 'val_loss': [0.1224032332499822,\n",
              "  0.12220620758086442,\n",
              "  0.09496978821915884,\n",
              "  0.110781643493101,\n",
              "  0.09283274474864205]}"
            ]
          },
          "metadata": {
            "tags": []
          },
          "execution_count": 36
        }
      ]
    },
    {
      "cell_type": "code",
      "metadata": {
        "id": "HGjQS62ZX0IT",
        "colab_type": "code",
        "colab": {
          "base_uri": "https://localhost:8080/",
          "height": 282
        },
        "outputId": "ec94907b-4cf8-4449-bc33-2e35e2c17a54"
      },
      "source": [
        "plt.plot(history.history['accuracy'])\n",
        "plt.plot(history.history['val_accuracy'])"
      ],
      "execution_count": 37,
      "outputs": [
        {
          "output_type": "execute_result",
          "data": {
            "text/plain": [
              "[<matplotlib.lines.Line2D at 0x7f0f6b14f1d0>]"
            ]
          },
          "metadata": {
            "tags": []
          },
          "execution_count": 37
        },
        {
          "output_type": "display_data",
          "data": {
            "image/png": "[encoded data removed]",
            "text/plain": [
              "<Figure size 432x288 with 1 Axes>"
            ]
          },
          "metadata": {
            "tags": [],
            "needs_background": "light"
          }
        }
      ]
    }
  ]
}