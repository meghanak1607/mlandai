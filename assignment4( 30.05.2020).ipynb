{
 "cells": [
  {
   "cell_type": "code",
   "execution_count": 6,
   "metadata": {},
   "outputs": [],
   "source": [
    "#1.No.of words, no.of letters,no.of lines\n",
    "\n",
    "f = open(\"data.txt\",\"w\")\n",
    "#adding content to the file\n",
    "f.write(\"Hello Everyone!!!\")\n",
    "f.close()"
   ]
  },
  {
   "cell_type": "code",
   "execution_count": 7,
   "metadata": {},
   "outputs": [],
   "source": [
    "f = open(\"data.txt\",\"a\")\n",
    "s = '''\\nHow are you doing ??\n",
    "stay safe\n",
    "python'''\n",
    "#appending content to the file\n",
    "f.write(s)\n",
    "f.close()"
   ]
  },
  {
   "cell_type": "code",
   "execution_count": 8,
   "metadata": {},
   "outputs": [
    {
     "name": "stdout",
     "output_type": "stream",
     "text": [
      "Enter file name: data.txt\n",
      "Number of lines: 4\n",
      "Number of words: 10\n",
      "Number of letters: 46\n"
     ]
    }
   ],
   "source": [
    "fname = input(\"Enter file name: \")\n",
    "num_words =0\n",
    "num_lines =0\n",
    "num_letter=0\n",
    "with open(fname, 'r') as f:\n",
    "    for line in f:\n",
    "        words = line.split()\n",
    "        num_words += len(words)\n",
    "with open(fname, 'r') as f:\n",
    "    for line in f:\n",
    "        num_lines += 1\n",
    "with open(fname,'r') as f:\n",
    "    for line in f:\n",
    "        words=line.split()\n",
    "        for i in words:\n",
    "            num_letter+=len(i)\n",
    "print(\"Number of lines:\",num_lines)\n",
    "\n",
    "print(\"Number of words:\",num_words)\n",
    "\n",
    "print(\"Number of letters:\",num_letter)\n"
   ]
  },
  {
   "cell_type": "code",
   "execution_count": 13,
   "metadata": {},
   "outputs": [],
   "source": [
    "#2\n",
    "\n",
    "with open(\"data.txt\") as f:\n",
    "    with open(\"out.txt\", \"w\") as f1:\n",
    "        for line in f:\n",
    "            f1.write(line)"
   ]
  },
  {
   "cell_type": "code",
   "execution_count": 14,
   "metadata": {},
   "outputs": [
    {
     "name": "stdout",
     "output_type": "stream",
     "text": [
      "Hello Everyone!!!\n",
      "How are you doing ??\n",
      "stay safe\n",
      "python\n"
     ]
    }
   ],
   "source": [
    "f = open(\"out.txt\",\"r\")\n",
    "data = f.read()\n",
    "print(data)\n",
    "f.close()"
   ]
  },
  {
   "cell_type": "code",
   "execution_count": 17,
   "metadata": {},
   "outputs": [
    {
     "name": "stdout",
     "output_type": "stream",
     "text": [
      "pancakes\n",
      "pants\n",
      "park\n",
      "please\n",
      "pass\n",
      "purple\n",
      "peaches.\n"
     ]
    }
   ],
   "source": [
    "#3\n",
    "St= '''\\nYour pancakes look really good.\n",
    "There is a sale on pants today. \n",
    "We go to the park once a week\n",
    "can you please pass on the purple box\n",
    "Georgia grows the most delicious peaches.''' \n",
    "\n",
    "for i in St.split():\n",
    "    if i.startswith(\"p\"):\n",
    "        print(i)\n"
   ]
  },
  {
   "cell_type": "code",
   "execution_count": 19,
   "metadata": {},
   "outputs": [],
   "source": [
    "#4.Rename and remove files\n",
    "import os\n",
    "os.rename(\"data.txt\",\"python.txt\")"
   ]
  },
  {
   "cell_type": "code",
   "execution_count": 20,
   "metadata": {},
   "outputs": [
    {
     "name": "stdout",
     "output_type": "stream",
     "text": [
      "Hello Everyone!!!\n",
      "How are you doing ??\n",
      "stay safe\n",
      "python\n"
     ]
    }
   ],
   "source": [
    "f = open(\"python.txt\",\"r\")\n",
    "data = f.read()\n",
    "print(data)\n",
    "f.close()"
   ]
  },
  {
   "cell_type": "code",
   "execution_count": 21,
   "metadata": {},
   "outputs": [],
   "source": [
    "import os\n",
    "os.remove(\"python.txt\")\n"
   ]
  },
  {
   "cell_type": "code",
   "execution_count": 22,
   "metadata": {},
   "outputs": [
    {
     "ename": "FileNotFoundError",
     "evalue": "[Errno 2] No such file or directory: 'python.txt'",
     "output_type": "error",
     "traceback": [
      "\u001b[1;31m---------------------------------------------------------------------------\u001b[0m",
      "\u001b[1;31mFileNotFoundError\u001b[0m                         Traceback (most recent call last)",
      "\u001b[1;32m<ipython-input-22-6fb232e5a039>\u001b[0m in \u001b[0;36m<module>\u001b[1;34m\u001b[0m\n\u001b[1;32m----> 1\u001b[1;33m \u001b[0mf\u001b[0m \u001b[1;33m=\u001b[0m \u001b[0mopen\u001b[0m\u001b[1;33m(\u001b[0m\u001b[1;34m\"python.txt\"\u001b[0m\u001b[1;33m,\u001b[0m\u001b[1;34m\"r\"\u001b[0m\u001b[1;33m)\u001b[0m\u001b[1;33m\u001b[0m\u001b[1;33m\u001b[0m\u001b[0m\n\u001b[0m",
      "\u001b[1;31mFileNotFoundError\u001b[0m: [Errno 2] No such file or directory: 'python.txt'"
     ]
    }
   ],
   "source": [
    "f = open(\"python.txt\",\"r\")"
   ]
  },
  {
   "cell_type": "code",
   "execution_count": null,
   "metadata": {},
   "outputs": [],
   "source": [
    "#5"
   ]
  },
  {
   "cell_type": "code",
   "execution_count": 23,
   "metadata": {},
   "outputs": [
    {
     "name": "stdout",
     "output_type": "stream",
     "text": [
      "enter no. of elements in list:5\n",
      "1\n",
      "5\n",
      "25\n",
      "8\n",
      "12\n",
      "the list is: [1, 5, 25, 8, 12]\n",
      "sum is: 51\n"
     ]
    }
   ],
   "source": [
    "#6\n",
    "x=[]\n",
    "n=int(input(\"enter no. of elements in list:\"))\n",
    "for i in range(0,n):\n",
    "    element=int(input())\n",
    "    x.append(element)\n",
    "print(\"the list is:\",x)\n",
    "s=0\n",
    "for i in range(0,len(x)):\n",
    "    s=s+x[i]\n",
    "print(\"sum is:\",s)"
   ]
  },
  {
   "cell_type": "code",
   "execution_count": 1,
   "metadata": {},
   "outputs": [
    {
     "name": "stdout",
     "output_type": "stream",
     "text": [
      "enter no. of elements in list:4\n",
      "12\n",
      "5\n",
      "17\n",
      "46\n",
      "the list is: [12, 5, 17, 46]\n",
      "the even numbers in list are:\n",
      "12\n",
      "46\n"
     ]
    }
   ],
   "source": [
    "#7\n",
    "x=[]\n",
    "n=int(input(\"enter no. of elements in list:\"))\n",
    "for i in range(0,n):\n",
    "    element=int(input())\n",
    "    x.append(element)\n",
    "print(\"the list is:\",x)\n",
    "print(\"the even numbers in list are:\")\n",
    "for i in range(0,len(x)):\n",
    "    if(x[i]%2==0):\n",
    "        print(x[i])"
   ]
  },
  {
   "cell_type": "code",
   "execution_count": 2,
   "metadata": {},
   "outputs": [
    {
     "name": "stdout",
     "output_type": "stream",
     "text": [
      "enter no. of elements in list:4\n",
      "12\n",
      "5\n",
      "10\n",
      "9\n",
      "the list is: [12, 5, 10, 9]\n",
      "smallest number in list is  5 at index  1\n"
     ]
    }
   ],
   "source": [
    "#8.smallest number and index of that number in list\n",
    "\n",
    "x=[]\n",
    "n=int(input(\"enter no. of elements in list:\"))\n",
    "for i in range(0,n):\n",
    "    element=int(input())\n",
    "    x.append(element)\n",
    "print(\"the list is:\",x)\n",
    "m=0\n",
    "t=x[0]\n",
    "for i in range(0,len(x)):\n",
    "    if(x[i]<t):\n",
    "        t=x[i]\n",
    "        m=i\n",
    "print(\"smallest number in list is \",t,\"at index \",m)"
   ]
  },
  {
   "cell_type": "code",
   "execution_count": 1,
   "metadata": {},
   "outputs": [
    {
     "name": "stdout",
     "output_type": "stream",
     "text": [
      "enter no. of elements in list:3\n",
      "hi\n",
      "iam\n",
      "meghana\n",
      "the list is: ['hi', 'iam', 'meghana']\n",
      "meghana\n"
     ]
    }
   ],
   "source": [
    "#9\n",
    "x=[]\n",
    "n=int(input(\"enter no. of elements in list:\"))\n",
    "for i in range(0,n):\n",
    "    e=input()\n",
    "    x.append(e)\n",
    "print(\"the list is:\",x)\n",
    "m=-1\n",
    "for i in x:\n",
    "    if len(i)>m:\n",
    "        m=len(i)\n",
    "        res=i\n",
    "print(res)"
   ]
  },
  {
   "cell_type": "code",
   "execution_count": null,
   "metadata": {},
   "outputs": [],
   "source": []
  },
  {
   "cell_type": "code",
   "execution_count": 3,
   "metadata": {},
   "outputs": [
    {
     "name": "stdout",
     "output_type": "stream",
     "text": [
      "7\n",
      "binary: 111\n",
      "octal: 7\n"
     ]
    }
   ],
   "source": [
    "\n",
    "#11.Converting a number to binary or octal\n",
    "def binary(n):\n",
    "    x=bin(n)\n",
    "    x=x[2:]\n",
    "    print(\"binary:\",x)\n",
    "def octal(n):\n",
    "    y=oct(n)\n",
    "    y=y[2:]\n",
    "    print(\"octal:\",y)\n",
    "n=int(input())\n",
    "binary(n)\n",
    "octal(n)"
   ]
  },
  {
   "cell_type": "code",
   "execution_count": 3,
   "metadata": {},
   "outputs": [
    {
     "name": "stdout",
     "output_type": "stream",
     "text": [
      "4\n",
      "it is not a prime\n",
      "enter no. Of elements in list:3\n",
      "2\n",
      "5\n",
      "6\n",
      "the list is: [2, 5, 6]\n",
      "2\n",
      "5\n"
     ]
    }
   ],
   "source": [
    "#10\n",
    "def prime(n):\n",
    "    c=0\n",
    "    for i in range(1,n+1):\n",
    "        if(n%i==0):\n",
    "            c+=1\n",
    "    if(c==2):\n",
    "        print(\"it is prime\")\n",
    "    else:\n",
    "        print(\"it is not a prime\")\n",
    "x=int(input())\n",
    "prime(x)\n",
    "b=int(input(\"enter no. Of elements in list:\"))\n",
    "li=[]\n",
    "for i in range(0,b):\n",
    "        ele=int(input())\n",
    "        li.append(ele)\n",
    "print(\"the list is:\",li)\n",
    "for i in range(0,len(li)):\n",
    "        v=0\n",
    "        for j in range(1,li[i]+1):\n",
    "             if(li[i]%j==0):\n",
    "                   v+=1\n",
    "        if(v==2):\n",
    "            print(li[i])"
   ]
  },
  {
   "cell_type": "code",
   "execution_count": null,
   "metadata": {},
   "outputs": [],
   "source": []
  }
 ],
 "metadata": {
  "kernelspec": {
   "display_name": "Python 3",
   "language": "python",
   "name": "python3"
  },
  "language_info": {
   "codemirror_mode": {
    "name": "ipython",
    "version": 3
   },
   "file_extension": ".py",
   "mimetype": "text/x-python",
   "name": "python",
   "nbconvert_exporter": "python",
   "pygments_lexer": "ipython3",
   "version": "3.7.3"
  }
 },
 "nbformat": 4,
 "nbformat_minor": 2
}
