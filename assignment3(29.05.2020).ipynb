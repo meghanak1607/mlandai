{
 "cells": [
  {
   "cell_type": "markdown",
   "metadata": {},
   "source": [
    "#CSE-221710309028-KONDA SAI MEGHANA"
   ]
  },
  {
   "cell_type": "code",
   "execution_count": 8,
   "metadata": {},
   "outputs": [
    {
     "name": "stdout",
     "output_type": "stream",
     "text": [
      "enter the number of terms5\n",
      "0\n",
      "1\n",
      "1\n",
      "2\n",
      "3\n"
     ]
    }
   ],
   "source": [
    "#2\n",
    "\n",
    "\n",
    "def fib(n):\n",
    "    if n<=1:\n",
    "        return n\n",
    "    else:\n",
    "        return(fib(n-1)+fib(n-2))\n",
    "x=int(input(\"enter the number of terms\"))\n",
    "if x<=0:\n",
    "    print(\"enter a positive number\")\n",
    "else:\n",
    "    for i in range(x):\n",
    "        print(fib(i))"
   ]
  },
  {
   "cell_type": "code",
   "execution_count": 10,
   "metadata": {},
   "outputs": [
    {
     "name": "stdout",
     "output_type": "stream",
     "text": [
      "enter the number4\n",
      "the factorial of the given number is 24\n"
     ]
    }
   ],
   "source": [
    "#1\n",
    "\n",
    "def fac(n):\n",
    "    if n==1:\n",
    "        return n\n",
    "    else:\n",
    "        return n*fac(n-1)\n",
    "x=int(input(\"enter the number\"))\n",
    "if x<0:\n",
    "    print(\"does not exist\")\n",
    "elif x==0:\n",
    "    print(\"factorial of 0 is 1\")\n",
    "else:\n",
    "    print(\"the factorial of the given number is\",fac(x))"
   ]
  },
  {
   "cell_type": "code",
   "execution_count": 14,
   "metadata": {},
   "outputs": [
    {
     "name": "stdout",
     "output_type": "stream",
     "text": [
      "138\n"
     ]
    }
   ],
   "source": [
    "#3\n",
    "\n",
    "list=[10,13,20,43,52]\n",
    "s=0\n",
    "for i in range(0,len(list)):\n",
    "    s=s+list[i]\n",
    "print(s)"
   ]
  },
  {
   "cell_type": "markdown",
   "metadata": {},
   "source": []
  },
  {
   "cell_type": "code",
   "execution_count": 16,
   "metadata": {},
   "outputs": [
    {
     "name": "stdout",
     "output_type": "stream",
     "text": [
      "enter no. of elements in list:5\n",
      "10\n",
      "13\n",
      "20\n",
      "43\n",
      "52\n",
      "the list is: [10, 13, 20, 43, 52]\n",
      "the even numbers in list are:\n",
      "10\n",
      "20\n",
      "52\n"
     ]
    }
   ],
   "source": [
    "#4\n",
    "\n",
    "list=[]\n",
    "n=int(input(\"enter no. of elements in list:\"))\n",
    "for i in range(0,n):\n",
    "    element=int(input())\n",
    "    list.append(element)\n",
    "print(\"the list is:\",list)\n",
    "print(\"the even numbers in list are:\")\n",
    "for i in range(0,len(list)):\n",
    "    if(list[i]%2==0):\n",
    "        print(list[i])"
   ]
  },
  {
   "cell_type": "code",
   "execution_count": 17,
   "metadata": {},
   "outputs": [
    {
     "name": "stdout",
     "output_type": "stream",
     "text": [
      "enter no. of elements in list:5\n",
      "34\n",
      "126\n",
      "5\n",
      "33\n",
      "75\n",
      "the list is: [34, 126, 5, 33, 75]\n",
      "smallest number in list is  5 at index  2\n"
     ]
    }
   ],
   "source": [
    "#5\n",
    "\n",
    "list=[]\n",
    "n=int(input(\"enter no. of elements in list:\"))\n",
    "for i in range(0,n):\n",
    "    element=int(input())\n",
    "    list.append(element)\n",
    "print(\"the list is:\",list)\n",
    "m=0\n",
    "t=list[0]\n",
    "for i in range(0,len(list)):\n",
    "    if(list[i]<t):\n",
    "        t=list[i]\n",
    "        m=i\n",
    "print(\"smallest number in list is \",t,\"at index \",m)"
   ]
  },
  {
   "cell_type": "code",
   "execution_count": 1,
   "metadata": {},
   "outputs": [
    {
     "name": "stdout",
     "output_type": "stream",
     "text": [
      "madam\n",
      "palindrome\n"
     ]
    }
   ],
   "source": [
    "#6\n",
    "def palindrome(s): \n",
    "    t = s[::-1] \n",
    "    if(t==s):\n",
    "        print(\"palindrome\")\n",
    "    else:\n",
    "        print(\"not a palindrome\")\n",
    "x=input()\n",
    "palindrome(x)\n"
   ]
  },
  {
   "cell_type": "code",
   "execution_count": 2,
   "metadata": {},
   "outputs": [
    {
     "name": "stdout",
     "output_type": "stream",
     "text": [
      "enter no. of elements:5\n",
      "3\n",
      "1\n",
      "9\n",
      "6\n",
      "4\n",
      "the list is: [3, 1, 9, 6, 4]\n",
      "Number of even numbers:  2\n",
      "Number of odd numbers:  3\n"
     ]
    }
   ],
   "source": [
    "#7\n",
    "\n",
    "x=[]\n",
    "n=int(input(\"enter no. of elements:\"))\n",
    "for i in range(0,n):\n",
    "    element=int(input())\n",
    "    x.append(element)\n",
    "print(\"the list is:\",x)\n",
    "even=0\n",
    "odd=0\n",
    "for i in range(0,len(x)):\n",
    "    if(x[i]%2==0):\n",
    "        even+=1\n",
    "    else:\n",
    "        odd+=1\n",
    "print(\"Number of even numbers: \",even)\n",
    "print(\"Number of odd numbers: \",odd)"
   ]
  },
  {
   "cell_type": "code",
   "execution_count": 4,
   "metadata": {},
   "outputs": [
    {
     "name": "stdout",
     "output_type": "stream",
     "text": [
      "0\n",
      "1\n",
      "2\n",
      "4\n",
      "5\n"
     ]
    }
   ],
   "source": [
    "#8\n",
    "\n",
    "for i in range(0,7):\n",
    "    if (i==3 or i==6):\n",
    "        continue\n",
    "    else:\n",
    "            print(i)"
   ]
  },
  {
   "cell_type": "code",
   "execution_count": 5,
   "metadata": {},
   "outputs": [
    {
     "name": "stdout",
     "output_type": "stream",
     "text": [
      "3\n",
      "it is prime\n"
     ]
    }
   ],
   "source": [
    "#9\n",
    "\n",
    "def prime(n):\n",
    "    c=0\n",
    "    for i in range(1,n+1):\n",
    "        if(n%i==0):\n",
    "            c+=1\n",
    "    if(c==2):\n",
    "        print(\"it is prime\")\n",
    "    else:\n",
    "        print(\"it is not a prime\")\n",
    "x=int(input())\n",
    "prime(x)"
   ]
  },
  {
   "cell_type": "code",
   "execution_count": 6,
   "metadata": {},
   "outputs": [
    {
     "name": "stdout",
     "output_type": "stream",
     "text": [
      "12\n",
      "Adam Number\n"
     ]
    }
   ],
   "source": [
    "#10\n",
    "\n",
    "def isAdam(num):\n",
    "    n = num\n",
    "    rev = 0\n",
    "    while n != 0:\n",
    "        rev = rev * 10 + n % 10\n",
    "        n = n // 10\n",
    "    sn = num ** 2\n",
    "    sr = rev ** 2\n",
    "    n = sr\n",
    "    rev = 0\n",
    "    while n != 0:\n",
    "        rev = rev * 10 + n % 10\n",
    "        n = n // 10\n",
    "    return sn == rev\n",
    "\n",
    "num = int(input())\n",
    "if isAdam(num):\n",
    "    print(\"Adam Number\")\n",
    "else:\n",
    "    print(\"not an Adam Number\")"
   ]
  },
  {
   "cell_type": "code",
   "execution_count": null,
   "metadata": {},
   "outputs": [],
   "source": []
  }
 ],
 "metadata": {
  "kernelspec": {
   "display_name": "Python 3",
   "language": "python",
   "name": "python3"
  },
  "language_info": {
   "codemirror_mode": {
    "name": "ipython",
    "version": 3
   },
   "file_extension": ".py",
   "mimetype": "text/x-python",
   "name": "python",
   "nbconvert_exporter": "python",
   "pygments_lexer": "ipython3",
   "version": "3.7.6"
  }
 },
 "nbformat": 4,
 "nbformat_minor": 4
}
