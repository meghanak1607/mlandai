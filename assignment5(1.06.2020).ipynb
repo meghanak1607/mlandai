{
 "cells": [
  {
   "cell_type": "code",
   "execution_count": 2,
   "metadata": {},
   "outputs": [
    {
     "name": "stdout",
     "output_type": "stream",
     "text": [
      "singdesk37>\n",
      "enter yes or no for new password:yes\n",
      "get30=\n",
      "enter yes or no for new password:yes\n",
      "singhome93.\n",
      "enter yes or no for new password:no\n",
      "This is your desired password  singhome.93\n"
     ]
    }
   ],
   "source": [
    "#Password generator for creating a password\n",
    "\n",
    "import random\n",
    "import string\n",
    "while True:\n",
    "    s1 = random.choice(string.punctuation)\n",
    "    s2 = str(random.randint(0,100))\n",
    "    verbs = [\"eat\",\"watch\",\"swim\",\"paint\",\"dance\",\"sing\",\"sleep\",\"write\",\"ask\",\"get\"]\n",
    "    s3 = random.choice(verbs)\n",
    "    noun = [\"friend\",\"pen\",\"street\",\"home\",\"dog\",\"desk\",\"box\",\"\",\"hour\",\"cafeteria\"]\n",
    "    s4 = random.choice(noun)\n",
    "    print(s3+s4+s2+s1)\n",
    "    p1 = input(\"enter yes or no for new password:\")\n",
    "    if p1 == \"no\" or p1 == \"NO\":\n",
    "        print(\"This is your desired password \", s3+s4+s1+s2)\n",
    "        break\n",
    "    elif p1 == \"YES\" or p1 == \"yes\":\n",
    "        continue"
   ]
  },
  {
   "cell_type": "code",
   "execution_count": null,
   "metadata": {},
   "outputs": [],
   "source": []
  }
 ],
 "metadata": {
  "kernelspec": {
   "display_name": "Python 3",
   "language": "python",
   "name": "python3"
  },
  "language_info": {
   "codemirror_mode": {
    "name": "ipython",
    "version": 3
   },
   "file_extension": ".py",
   "mimetype": "text/x-python",
   "name": "python",
   "nbconvert_exporter": "python",
   "pygments_lexer": "ipython3",
   "version": "3.7.3"
  }
 },
 "nbformat": 4,
 "nbformat_minor": 2
}
